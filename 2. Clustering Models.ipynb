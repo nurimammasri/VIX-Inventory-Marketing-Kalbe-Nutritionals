{
 "cells": [
  {
   "cell_type": "markdown",
   "id": "2936bba2-7a3a-43ed-88bb-29b462e61391",
   "metadata": {},
   "source": [
    "# **✨ Predicting Daily Total Sales Quantity for Kalbe Nutritional Products - ✨**\n",
    "\n",
    "![banner_kalbe](https://github.com/nurimammasri/VIX-Inventory-Marketing-Kalbe-Nutritionals/assets/54845293/0eb4f5a4-5a13-48d9-80d2-02cf463da26a)"
   ]
  },
  {
   "cell_type": "markdown",
   "id": "3900da0b-20ad-4545-bdde-4234445d3084",
   "metadata": {},
   "source": [
    "## **📍 Table of Content 📍**\n",
    "- Business Understanding\n",
    "    - Problem Statement\n",
    "    - Roles\n",
    "    - Goals\n",
    "    - Objectives\n",
    "    - Business Metrics\n",
    "- Data Preparation\n",
    "    - Data Description\n",
    "    - Libraries & Datasets\n",
    "- Data Understanding\n",
    "    - Exploring Datasets\n",
    "    - Data Types Information\n",
    "    - Statistical Summary\n",
    "    - EDA (Exploratory Data Analysis)\n",
    "    - Feature Engineering / Extraction (Business Insight)\n",
    "    - Business Insight"
   ]
  },
  {
   "cell_type": "markdown",
   "id": "285abf30-a9fc-449b-a424-06048268976f",
   "metadata": {},
   "source": [
    "## **⚙ Work Environment ⚙**\n",
    "\n",
    "- **Tools**\n",
    "\n",
    "[![Made withJupyter](https://img.shields.io/badge/Made%20with-Jupyter-orange?style=for-the-badge&logo=Jupyter)](https://jupyter.org/try)\n",
    "\n",
    "[![Open In Collab](https://colab.research.google.com/assets/colab-badge.svg)](https://colab.research.google.com/github/nurimammasri/Marketing-Campaign-Model-Prediction-by-Datalicious/blob/main/Response%20Prediction%20Classification%20Marketing%20Campaign.ipynb)\n",
    "\n",
    "- **Programming Language**\n",
    "\n",
    "[![made-with-python](https://img.shields.io/badge/Made%20with-Python-1f425f.svg)](https://www.python.org/)\n",
    "\n",
    "- **Git and Github**\n",
    "\n",
    "Repository : [VIX Inventory Marketing Kalbe Nutritionals](https://github.com/nurimammasri/VIX-Inventory-Marketing-Kalbe-Nutritionals)\n",
    "\n",
    "- **Libraries**\n",
    "\n",
    "[Requirements Text](https://github.com/nurimammasri/VIX-Inventory-Marketing-Kalbe-Nutritionals/blob/main/requirements.txt)\n",
    "\n",
    "- **Dataset**\n",
    "\n",
    "[List Datasets](https://github.com/nurimammasri/VIX-Inventory-Marketing-Kalbe-Nutritionals/tree/main/datasets)"
   ]
  },
  {
   "cell_type": "markdown",
   "id": "cdecefcb-37fd-48df-a1b6-998b4e24b6e7",
   "metadata": {},
   "source": [
    "## **⛳ Business Understanding ⛳**\n",
    "\n",
    "### **📌 Problem Statement**\n",
    "The marketing team has identified a need to create customer clusters or segments based on specific criteria. The primary objective of this project is to develop these customer segments. These segments will serve as the foundation for the marketing team to deliver personalized promotions and sales treatments to enhance customer engagement and satisfaction.\n",
    "\n",
    "### **📌 Goals**\n",
    "1. To create well-defined customer segments that accurately represent distinct groups within our customer base.\n",
    "2. To enhance the effectiveness of marketing efforts by tailoring promotions and sales treatments to each customer segment.\n",
    "3. To increase customer satisfaction and loyalty by delivering personalized and relevant offers and experiences.\n",
    "4. To optimize resource allocation by focusing marketing resources on the most promising customer segments.\n",
    "5. To gain a deeper understanding of customer behavior and preferences through segmentation analysis.\n",
    "\n",
    "### **📌 Objectives**\n",
    "1. Conduct thorough data analysis to identify meaningful customer segmentation criteria, such as demographics, purchase history, behavior, and preferences.\n",
    "2. Develop a robust methodology for clustering customers into distinct segments based on the identified criteria.\n",
    "3. Assign customers to specific segments based on the clustering results.\n",
    "4. Create detailed customer profiles for each segment, including their characteristics, needs, and preferences.\n",
    "5. Develop personalized marketing strategies, promotions, and sales treatments tailored to each customer segment.\n",
    "6. Implement the personalized marketing strategies and monitor their effectiveness through key performance indicators (KPIs) such as conversion rates, customer retention, and revenue growth.\n",
    "7. Continuously refine and update customer segments and personalized marketing strategies based on ongoing data analysis and feedback.\n",
    "8. Provide training and guidance to the marketing team to ensure they can effectively utilize the customer segments for personalized marketing campaigns.\n",
    "\n",
    "By achieving these goals and objectives, we aim to not only enhance our marketing efforts but also improve customer satisfaction and ultimately drive business growth through more effective customer engagement."
   ]
  },
  {
   "cell_type": "markdown",
   "id": "d2813948-1f75-4390-8ab6-be998173f4fe",
   "metadata": {},
   "source": [
    "# **🛒 Data Preparation 🛒**"
   ]
  },
  {
   "cell_type": "markdown",
   "id": "143965bb-e0b7-4374-921c-43180112eb8e",
   "metadata": {},
   "source": [
    "## **🕹 Data Description 🕹**\n",
    "\n",
    "```\n",
    "🚨✨ This Project and Datasets is from Kalbe Nutritionals Data Scientist Project Based Internship Program ✨🚨 \n",
    "```\n",
    "\n",
    "**Case Study - Legend:**\n",
    "\n",
    "This dataset consists of 4 CSV files: customer, store, product, and transaction. It serves as dummy data for a Fast-Moving Consumer Goods (FMCG) case study conducted over a one-year period through a membership program.\n",
    "\n",
    "**1. Customer**:\n",
    "- `CustomerID`: Unique Customer ID\n",
    "- `Age`: Customer's Age\n",
    "- `Gender`: 0 for Female, 1 for Male\n",
    "- `Marital Status`: Married, Single (Unmarried/Previously Married)\n",
    "- `Income`: Monthly Income in millions of Indonesian Rupiah\n",
    "\n",
    "**2. Store**:\n",
    "- `StoreID`: Unique Store Code\n",
    "- `StoreName`: Store Name\n",
    "- `GroupStore`: Group Name\n",
    "- `Type`: Modern Trade, General Trade\n",
    "- `Latitude`: Latitude Code\n",
    "- `Longitude`: Longitude Code\n",
    "\n",
    "**3. Product**:\n",
    "- `ProductID`: Unique Product Code\n",
    "- `Product Name`: Product Name\n",
    "- `Price`: Price in Indonesian Rupiah\n",
    "\n",
    "**4. Transaction**:\n",
    "- `TransactionID`: Unique Transaction Code\n",
    "- `Date`: Transaction Date\n",
    "- `Qty`: Quantity of items purchased\n",
    "- `Total Amount`: Price x Qty"
   ]
  },
  {
   "cell_type": "markdown",
   "id": "51964e37-17fa-43c5-a797-7c3fbd9f7aaa",
   "metadata": {},
   "source": [
    "## **💉 Import Libraries 💉**"
   ]
  },
  {
   "cell_type": "code",
   "execution_count": 1,
   "id": "6408c000-230a-4258-8276-d03a608e6a8e",
   "metadata": {},
   "outputs": [],
   "source": [
    "import pandas as pd\n",
    "import numpy as np\n",
    "import matplotlib.pyplot as plt\n",
    "import seaborn as sns\n",
    "import math\n",
    "\n",
    "from datetime import datetime\n",
    "\n",
    "from scipy.stats import skew\n",
    "from scipy.stats import kurtosis\n",
    "\n",
    "# Ignores any warning\n",
    "import warnings \n",
    "warnings.filterwarnings(\"ignore\")\n",
    "\n",
    "sns.set(rc={'figure.figsize':(15, 8)})\n",
    "sns.set_style(\"whitegrid\")\n",
    "\n",
    "pd.set_option('display.max_columns', None)\n",
    "pd.set_option('display.max_rows', None)\n",
    "pd.options.display.float_format = lambda x : '{:.0f}'.format(x) if round(x,0) == x else '{:.3f}'.format(x)\n",
    "\n",
    "# from matplotlib import rcParams\n",
    "# rcParams['figure.figsize'] = 12, 4\n",
    "# rcParams['lines.linewidth'] = 3\n",
    "# rcParams['xtick.labelsize'] = 'x-large'\n",
    "# rcParams['ytick.labelsize'] = 'x-large'\n",
    "\n",
    "import matplotlib as mp\n",
    "%matplotlib inline\n",
    "import textwrap\n",
    "import matplotlib.ticker as mticker\n",
    "import matplotlib.patches as mpatches\n",
    "import matplotlib.gridspec as gridspec\n",
    "from matplotlib.colors import LinearSegmentedColormap\n",
    "\n",
    "from sklearn.decomposition import PCA\n",
    "from sklearn.cluster import KMeans\n",
    "from sklearn.preprocessing import StandardScaler\n",
    "from sklearn.metrics import silhouette_score"
   ]
  },
  {
   "cell_type": "markdown",
   "id": "eb72be7a-a590-4f02-b777-cec9603ec989",
   "metadata": {},
   "source": [
    "## **📚 Import Dataset 📚**"
   ]
  },
  {
   "cell_type": "code",
   "execution_count": 2,
   "id": "65242165-7107-4026-8884-38b2a4a0de28",
   "metadata": {},
   "outputs": [],
   "source": [
    "# missing_values = ['n/a', 'na', 'nan', '-', '--', 'null', 'Null', ' ', '-1', -1]\n",
    "customers = pd.read_csv('datasets/Case Study - Customer.csv')\n",
    "store = pd.read_csv('datasets/Case Study - Store.csv')\n",
    "product = pd.read_csv('datasets/Case Study - Product.csv')\n",
    "transaction = pd.read_csv('datasets/Case Study - Transaction.csv')"
   ]
  },
  {
   "cell_type": "code",
   "execution_count": 3,
   "id": "3ed5e57d-ef2a-47c3-a542-8e9bd2ac6d89",
   "metadata": {},
   "outputs": [
    {
     "data": {
      "text/html": [
       "<div>\n",
       "<style scoped>\n",
       "    .dataframe tbody tr th:only-of-type {\n",
       "        vertical-align: middle;\n",
       "    }\n",
       "\n",
       "    .dataframe tbody tr th {\n",
       "        vertical-align: top;\n",
       "    }\n",
       "\n",
       "    .dataframe thead th {\n",
       "        text-align: right;\n",
       "    }\n",
       "</style>\n",
       "<table border=\"1\" class=\"dataframe\">\n",
       "  <thead>\n",
       "    <tr style=\"text-align: right;\">\n",
       "      <th></th>\n",
       "      <th>CustomerID</th>\n",
       "      <th>Age</th>\n",
       "      <th>Gender</th>\n",
       "      <th>Marital Status</th>\n",
       "      <th>Income</th>\n",
       "    </tr>\n",
       "  </thead>\n",
       "  <tbody>\n",
       "    <tr>\n",
       "      <th>0</th>\n",
       "      <td>1</td>\n",
       "      <td>55</td>\n",
       "      <td>1</td>\n",
       "      <td>Married</td>\n",
       "      <td>5.120</td>\n",
       "    </tr>\n",
       "    <tr>\n",
       "      <th>1</th>\n",
       "      <td>2</td>\n",
       "      <td>60</td>\n",
       "      <td>1</td>\n",
       "      <td>Married</td>\n",
       "      <td>6.230</td>\n",
       "    </tr>\n",
       "    <tr>\n",
       "      <th>2</th>\n",
       "      <td>3</td>\n",
       "      <td>32</td>\n",
       "      <td>1</td>\n",
       "      <td>Married</td>\n",
       "      <td>9.170</td>\n",
       "    </tr>\n",
       "    <tr>\n",
       "      <th>3</th>\n",
       "      <td>4</td>\n",
       "      <td>31</td>\n",
       "      <td>1</td>\n",
       "      <td>Married</td>\n",
       "      <td>4.870</td>\n",
       "    </tr>\n",
       "    <tr>\n",
       "      <th>4</th>\n",
       "      <td>5</td>\n",
       "      <td>58</td>\n",
       "      <td>1</td>\n",
       "      <td>Married</td>\n",
       "      <td>3.570</td>\n",
       "    </tr>\n",
       "  </tbody>\n",
       "</table>\n",
       "</div>"
      ],
      "text/plain": [
       "   CustomerID  Age  Gender Marital Status  Income\n",
       "0           1   55       1        Married   5.120\n",
       "1           2   60       1        Married   6.230\n",
       "2           3   32       1        Married   9.170\n",
       "3           4   31       1        Married   4.870\n",
       "4           5   58       1        Married   3.570"
      ]
     },
     "execution_count": 3,
     "metadata": {},
     "output_type": "execute_result"
    }
   ],
   "source": [
    "customers.head()"
   ]
  },
  {
   "cell_type": "code",
   "execution_count": 4,
   "id": "15466eda-38cf-4eff-99f0-6a8dc58efa37",
   "metadata": {},
   "outputs": [
    {
     "data": {
      "text/html": [
       "<div>\n",
       "<style scoped>\n",
       "    .dataframe tbody tr th:only-of-type {\n",
       "        vertical-align: middle;\n",
       "    }\n",
       "\n",
       "    .dataframe tbody tr th {\n",
       "        vertical-align: top;\n",
       "    }\n",
       "\n",
       "    .dataframe thead th {\n",
       "        text-align: right;\n",
       "    }\n",
       "</style>\n",
       "<table border=\"1\" class=\"dataframe\">\n",
       "  <thead>\n",
       "    <tr style=\"text-align: right;\">\n",
       "      <th></th>\n",
       "      <th>StoreID</th>\n",
       "      <th>StoreName</th>\n",
       "      <th>GroupStore</th>\n",
       "      <th>Type</th>\n",
       "      <th>Latitude</th>\n",
       "      <th>Longitude</th>\n",
       "    </tr>\n",
       "  </thead>\n",
       "  <tbody>\n",
       "    <tr>\n",
       "      <th>0</th>\n",
       "      <td>1</td>\n",
       "      <td>Prima Tendean</td>\n",
       "      <td>Prima</td>\n",
       "      <td>Modern Trade</td>\n",
       "      <td>-6.200</td>\n",
       "      <td>106.817</td>\n",
       "    </tr>\n",
       "    <tr>\n",
       "      <th>1</th>\n",
       "      <td>2</td>\n",
       "      <td>Prima Kelapa Dua</td>\n",
       "      <td>Prima</td>\n",
       "      <td>Modern Trade</td>\n",
       "      <td>-6.915</td>\n",
       "      <td>107.608</td>\n",
       "    </tr>\n",
       "    <tr>\n",
       "      <th>2</th>\n",
       "      <td>3</td>\n",
       "      <td>Prima Kota</td>\n",
       "      <td>Prima</td>\n",
       "      <td>Modern Trade</td>\n",
       "      <td>-7.797</td>\n",
       "      <td>110.371</td>\n",
       "    </tr>\n",
       "    <tr>\n",
       "      <th>3</th>\n",
       "      <td>4</td>\n",
       "      <td>Gita Ginara</td>\n",
       "      <td>Gita</td>\n",
       "      <td>General Trade</td>\n",
       "      <td>-6.967</td>\n",
       "      <td>110.417</td>\n",
       "    </tr>\n",
       "    <tr>\n",
       "      <th>4</th>\n",
       "      <td>5</td>\n",
       "      <td>Bonafid</td>\n",
       "      <td>Gita</td>\n",
       "      <td>General Trade</td>\n",
       "      <td>-7.250</td>\n",
       "      <td>112.769</td>\n",
       "    </tr>\n",
       "  </tbody>\n",
       "</table>\n",
       "</div>"
      ],
      "text/plain": [
       "   StoreID         StoreName GroupStore           Type  Latitude  Longitude\n",
       "0        1     Prima Tendean      Prima   Modern Trade    -6.200    106.817\n",
       "1        2  Prima Kelapa Dua      Prima   Modern Trade    -6.915    107.608\n",
       "2        3        Prima Kota      Prima   Modern Trade    -7.797    110.371\n",
       "3        4       Gita Ginara       Gita  General Trade    -6.967    110.417\n",
       "4        5           Bonafid       Gita  General Trade    -7.250    112.769"
      ]
     },
     "execution_count": 4,
     "metadata": {},
     "output_type": "execute_result"
    }
   ],
   "source": [
    "store.head()"
   ]
  },
  {
   "cell_type": "code",
   "execution_count": 5,
   "id": "7770eb92-3c24-44fc-9b7d-56c8f6962c45",
   "metadata": {},
   "outputs": [
    {
     "data": {
      "text/html": [
       "<div>\n",
       "<style scoped>\n",
       "    .dataframe tbody tr th:only-of-type {\n",
       "        vertical-align: middle;\n",
       "    }\n",
       "\n",
       "    .dataframe tbody tr th {\n",
       "        vertical-align: top;\n",
       "    }\n",
       "\n",
       "    .dataframe thead th {\n",
       "        text-align: right;\n",
       "    }\n",
       "</style>\n",
       "<table border=\"1\" class=\"dataframe\">\n",
       "  <thead>\n",
       "    <tr style=\"text-align: right;\">\n",
       "      <th></th>\n",
       "      <th>ProductID</th>\n",
       "      <th>Product Name</th>\n",
       "      <th>Price</th>\n",
       "    </tr>\n",
       "  </thead>\n",
       "  <tbody>\n",
       "    <tr>\n",
       "      <th>0</th>\n",
       "      <td>P1</td>\n",
       "      <td>Choco Bar</td>\n",
       "      <td>8800</td>\n",
       "    </tr>\n",
       "    <tr>\n",
       "      <th>1</th>\n",
       "      <td>P2</td>\n",
       "      <td>Ginger Candy</td>\n",
       "      <td>3200</td>\n",
       "    </tr>\n",
       "    <tr>\n",
       "      <th>2</th>\n",
       "      <td>P3</td>\n",
       "      <td>Crackers</td>\n",
       "      <td>7500</td>\n",
       "    </tr>\n",
       "    <tr>\n",
       "      <th>3</th>\n",
       "      <td>P4</td>\n",
       "      <td>Potato Chip</td>\n",
       "      <td>12000</td>\n",
       "    </tr>\n",
       "    <tr>\n",
       "      <th>4</th>\n",
       "      <td>P5</td>\n",
       "      <td>Thai Tea</td>\n",
       "      <td>4200</td>\n",
       "    </tr>\n",
       "  </tbody>\n",
       "</table>\n",
       "</div>"
      ],
      "text/plain": [
       "  ProductID  Product Name  Price\n",
       "0        P1     Choco Bar   8800\n",
       "1        P2  Ginger Candy   3200\n",
       "2        P3      Crackers   7500\n",
       "3        P4   Potato Chip  12000\n",
       "4        P5      Thai Tea   4200"
      ]
     },
     "execution_count": 5,
     "metadata": {},
     "output_type": "execute_result"
    }
   ],
   "source": [
    "product.head()"
   ]
  },
  {
   "cell_type": "code",
   "execution_count": 6,
   "id": "ed03ae9e-acfb-4f04-856c-d928803a71a4",
   "metadata": {},
   "outputs": [
    {
     "data": {
      "text/html": [
       "<div>\n",
       "<style scoped>\n",
       "    .dataframe tbody tr th:only-of-type {\n",
       "        vertical-align: middle;\n",
       "    }\n",
       "\n",
       "    .dataframe tbody tr th {\n",
       "        vertical-align: top;\n",
       "    }\n",
       "\n",
       "    .dataframe thead th {\n",
       "        text-align: right;\n",
       "    }\n",
       "</style>\n",
       "<table border=\"1\" class=\"dataframe\">\n",
       "  <thead>\n",
       "    <tr style=\"text-align: right;\">\n",
       "      <th></th>\n",
       "      <th>TransactionID</th>\n",
       "      <th>CustomerID</th>\n",
       "      <th>Date</th>\n",
       "      <th>ProductID</th>\n",
       "      <th>Price</th>\n",
       "      <th>Qty</th>\n",
       "      <th>TotalAmount</th>\n",
       "      <th>StoreID</th>\n",
       "    </tr>\n",
       "  </thead>\n",
       "  <tbody>\n",
       "    <tr>\n",
       "      <th>0</th>\n",
       "      <td>TR11369</td>\n",
       "      <td>328</td>\n",
       "      <td>01/01/2022</td>\n",
       "      <td>P3</td>\n",
       "      <td>7500</td>\n",
       "      <td>4</td>\n",
       "      <td>30000</td>\n",
       "      <td>12</td>\n",
       "    </tr>\n",
       "    <tr>\n",
       "      <th>1</th>\n",
       "      <td>TR16356</td>\n",
       "      <td>165</td>\n",
       "      <td>01/01/2022</td>\n",
       "      <td>P9</td>\n",
       "      <td>10000</td>\n",
       "      <td>7</td>\n",
       "      <td>70000</td>\n",
       "      <td>1</td>\n",
       "    </tr>\n",
       "    <tr>\n",
       "      <th>2</th>\n",
       "      <td>TR1984</td>\n",
       "      <td>183</td>\n",
       "      <td>01/01/2022</td>\n",
       "      <td>P1</td>\n",
       "      <td>8800</td>\n",
       "      <td>4</td>\n",
       "      <td>35200</td>\n",
       "      <td>4</td>\n",
       "    </tr>\n",
       "    <tr>\n",
       "      <th>3</th>\n",
       "      <td>TR35256</td>\n",
       "      <td>160</td>\n",
       "      <td>01/01/2022</td>\n",
       "      <td>P1</td>\n",
       "      <td>8800</td>\n",
       "      <td>7</td>\n",
       "      <td>61600</td>\n",
       "      <td>4</td>\n",
       "    </tr>\n",
       "    <tr>\n",
       "      <th>4</th>\n",
       "      <td>TR41231</td>\n",
       "      <td>386</td>\n",
       "      <td>01/01/2022</td>\n",
       "      <td>P9</td>\n",
       "      <td>10000</td>\n",
       "      <td>1</td>\n",
       "      <td>10000</td>\n",
       "      <td>4</td>\n",
       "    </tr>\n",
       "  </tbody>\n",
       "</table>\n",
       "</div>"
      ],
      "text/plain": [
       "  TransactionID  CustomerID        Date ProductID  Price  Qty  TotalAmount  \\\n",
       "0       TR11369         328  01/01/2022        P3   7500    4        30000   \n",
       "1       TR16356         165  01/01/2022        P9  10000    7        70000   \n",
       "2        TR1984         183  01/01/2022        P1   8800    4        35200   \n",
       "3       TR35256         160  01/01/2022        P1   8800    7        61600   \n",
       "4       TR41231         386  01/01/2022        P9  10000    1        10000   \n",
       "\n",
       "   StoreID  \n",
       "0       12  \n",
       "1        1  \n",
       "2        4  \n",
       "3        4  \n",
       "4        4  "
      ]
     },
     "execution_count": 6,
     "metadata": {},
     "output_type": "execute_result"
    }
   ],
   "source": [
    "transaction.head()"
   ]
  },
  {
   "cell_type": "markdown",
   "id": "42020d9d-57f6-4fbc-b038-8165d7fc7e61",
   "metadata": {},
   "source": [
    "Untuk memudahkan proses observasi dan pemodelan maka akan dilakukan penggabungan dataset ke dataset utama transaction"
   ]
  },
  {
   "cell_type": "code",
   "execution_count": 7,
   "id": "a94707b5-2402-45b6-ad75-c632b8cdf661",
   "metadata": {},
   "outputs": [
    {
     "data": {
      "text/html": [
       "<div>\n",
       "<style scoped>\n",
       "    .dataframe tbody tr th:only-of-type {\n",
       "        vertical-align: middle;\n",
       "    }\n",
       "\n",
       "    .dataframe tbody tr th {\n",
       "        vertical-align: top;\n",
       "    }\n",
       "\n",
       "    .dataframe thead th {\n",
       "        text-align: right;\n",
       "    }\n",
       "</style>\n",
       "<table border=\"1\" class=\"dataframe\">\n",
       "  <thead>\n",
       "    <tr style=\"text-align: right;\">\n",
       "      <th></th>\n",
       "      <th>TransactionID</th>\n",
       "      <th>Date</th>\n",
       "      <th>Price</th>\n",
       "      <th>Qty</th>\n",
       "      <th>TotalAmount</th>\n",
       "      <th>ProductID</th>\n",
       "      <th>ProductName</th>\n",
       "      <th>CustomerID</th>\n",
       "      <th>Age</th>\n",
       "      <th>Gender</th>\n",
       "      <th>MaritalStatus</th>\n",
       "      <th>Income</th>\n",
       "      <th>StoreID</th>\n",
       "      <th>StoreName</th>\n",
       "      <th>GroupStore</th>\n",
       "      <th>Type</th>\n",
       "      <th>Latitude</th>\n",
       "      <th>Longitude</th>\n",
       "    </tr>\n",
       "  </thead>\n",
       "  <tbody>\n",
       "    <tr>\n",
       "      <th>0</th>\n",
       "      <td>TR11369</td>\n",
       "      <td>01/01/2022</td>\n",
       "      <td>7500</td>\n",
       "      <td>4</td>\n",
       "      <td>30000</td>\n",
       "      <td>P3</td>\n",
       "      <td>Crackers</td>\n",
       "      <td>328</td>\n",
       "      <td>36</td>\n",
       "      <td>0</td>\n",
       "      <td>Married</td>\n",
       "      <td>10.530</td>\n",
       "      <td>12</td>\n",
       "      <td>Prestasi Utama</td>\n",
       "      <td>Prestasi</td>\n",
       "      <td>General Trade</td>\n",
       "      <td>-2.991</td>\n",
       "      <td>104.757</td>\n",
       "    </tr>\n",
       "    <tr>\n",
       "      <th>1</th>\n",
       "      <td>TR89318</td>\n",
       "      <td>17/07/2022</td>\n",
       "      <td>7500</td>\n",
       "      <td>1</td>\n",
       "      <td>7500</td>\n",
       "      <td>P3</td>\n",
       "      <td>Crackers</td>\n",
       "      <td>183</td>\n",
       "      <td>27</td>\n",
       "      <td>1</td>\n",
       "      <td>Single</td>\n",
       "      <td>0.180</td>\n",
       "      <td>12</td>\n",
       "      <td>Prestasi Utama</td>\n",
       "      <td>Prestasi</td>\n",
       "      <td>General Trade</td>\n",
       "      <td>-2.991</td>\n",
       "      <td>104.757</td>\n",
       "    </tr>\n",
       "    <tr>\n",
       "      <th>2</th>\n",
       "      <td>TR9106</td>\n",
       "      <td>26/09/2022</td>\n",
       "      <td>7500</td>\n",
       "      <td>4</td>\n",
       "      <td>30000</td>\n",
       "      <td>P3</td>\n",
       "      <td>Crackers</td>\n",
       "      <td>123</td>\n",
       "      <td>34</td>\n",
       "      <td>0</td>\n",
       "      <td>Married</td>\n",
       "      <td>4.360</td>\n",
       "      <td>12</td>\n",
       "      <td>Prestasi Utama</td>\n",
       "      <td>Prestasi</td>\n",
       "      <td>General Trade</td>\n",
       "      <td>-2.991</td>\n",
       "      <td>104.757</td>\n",
       "    </tr>\n",
       "    <tr>\n",
       "      <th>3</th>\n",
       "      <td>TR4331</td>\n",
       "      <td>08/01/2022</td>\n",
       "      <td>7500</td>\n",
       "      <td>3</td>\n",
       "      <td>22500</td>\n",
       "      <td>P3</td>\n",
       "      <td>Crackers</td>\n",
       "      <td>335</td>\n",
       "      <td>29</td>\n",
       "      <td>1</td>\n",
       "      <td>Single</td>\n",
       "      <td>4.740</td>\n",
       "      <td>12</td>\n",
       "      <td>Prestasi Utama</td>\n",
       "      <td>Prestasi</td>\n",
       "      <td>General Trade</td>\n",
       "      <td>-2.991</td>\n",
       "      <td>104.757</td>\n",
       "    </tr>\n",
       "    <tr>\n",
       "      <th>4</th>\n",
       "      <td>TR6445</td>\n",
       "      <td>10/01/2022</td>\n",
       "      <td>7500</td>\n",
       "      <td>4</td>\n",
       "      <td>30000</td>\n",
       "      <td>P3</td>\n",
       "      <td>Crackers</td>\n",
       "      <td>181</td>\n",
       "      <td>33</td>\n",
       "      <td>1</td>\n",
       "      <td>Married</td>\n",
       "      <td>9.940</td>\n",
       "      <td>12</td>\n",
       "      <td>Prestasi Utama</td>\n",
       "      <td>Prestasi</td>\n",
       "      <td>General Trade</td>\n",
       "      <td>-2.991</td>\n",
       "      <td>104.757</td>\n",
       "    </tr>\n",
       "  </tbody>\n",
       "</table>\n",
       "</div>"
      ],
      "text/plain": [
       "  TransactionID        Date  Price  Qty  TotalAmount ProductID ProductName  \\\n",
       "0       TR11369  01/01/2022   7500    4        30000        P3    Crackers   \n",
       "1       TR89318  17/07/2022   7500    1         7500        P3    Crackers   \n",
       "2        TR9106  26/09/2022   7500    4        30000        P3    Crackers   \n",
       "3        TR4331  08/01/2022   7500    3        22500        P3    Crackers   \n",
       "4        TR6445  10/01/2022   7500    4        30000        P3    Crackers   \n",
       "\n",
       "   CustomerID  Age  Gender MaritalStatus  Income  StoreID       StoreName  \\\n",
       "0         328   36       0       Married  10.530       12  Prestasi Utama   \n",
       "1         183   27       1        Single   0.180       12  Prestasi Utama   \n",
       "2         123   34       0       Married   4.360       12  Prestasi Utama   \n",
       "3         335   29       1        Single   4.740       12  Prestasi Utama   \n",
       "4         181   33       1       Married   9.940       12  Prestasi Utama   \n",
       "\n",
       "  GroupStore           Type  Latitude  Longitude  \n",
       "0   Prestasi  General Trade    -2.991    104.757  \n",
       "1   Prestasi  General Trade    -2.991    104.757  \n",
       "2   Prestasi  General Trade    -2.991    104.757  \n",
       "3   Prestasi  General Trade    -2.991    104.757  \n",
       "4   Prestasi  General Trade    -2.991    104.757  "
      ]
     },
     "execution_count": 7,
     "metadata": {},
     "output_type": "execute_result"
    }
   ],
   "source": [
    "# menggabungkan datasets\n",
    "df = pd.merge(transaction, customers, on='CustomerID')\n",
    "df = pd.merge(df, store, on='StoreID')\n",
    "df = pd.merge(df, product,on='ProductID')\n",
    "\n",
    "# mengubah nama dan urutan kolom\n",
    "df.drop(\"Price_y\", axis=1, inplace=True)\n",
    "df.rename(columns={\"Price_x\":\"Price\"}, inplace=True)\n",
    "\n",
    "for col in df.columns:\n",
    "    df.rename(columns= {col: col.replace(\" \", \"\")}, inplace = True)\n",
    "\n",
    "df = df[['TransactionID', 'Date', 'Price', 'Qty', 'TotalAmount',\n",
    "     'ProductID', 'ProductName', 'CustomerID', 'Age', \n",
    "     'Gender', 'MaritalStatus', 'Income', 'StoreID', \n",
    "     'StoreName', 'GroupStore', 'Type', 'Latitude', 'Longitude']].copy()\n",
    "\n",
    "df.head()"
   ]
  },
  {
   "cell_type": "markdown",
   "id": "74a2323e-6cbc-41a0-93c1-258d0a175e73",
   "metadata": {},
   "source": [
    "# **💡 Data Understanding 💡**"
   ]
  },
  {
   "cell_type": "markdown",
   "id": "6a40fd91-51f0-44c7-8359-ebe409408d3a",
   "metadata": {},
   "source": [
    "## **📌 Explore Datasets**"
   ]
  },
  {
   "cell_type": "markdown",
   "id": "22827510-8dec-47c5-9e22-5f6217e80ca4",
   "metadata": {},
   "source": [
    "### **Basic Datasets Information**"
   ]
  },
  {
   "cell_type": "code",
   "execution_count": 8,
   "id": "372d1f02-291e-4006-a2d3-be3154fb8b34",
   "metadata": {},
   "outputs": [
    {
     "name": "stdout",
     "output_type": "stream",
     "text": [
      "Shape of data : (5020, 18)\n",
      "Number of rows : 5020\n",
      "Number of columns : 18\n"
     ]
    }
   ],
   "source": [
    "print(\"Shape of data :\", df.shape)\n",
    "print(\"Number of rows :\", df.shape[0])\n",
    "print(\"Number of columns :\", df.shape[1])"
   ]
  },
  {
   "cell_type": "code",
   "execution_count": 9,
   "id": "720de4ca-6d08-4a55-be9b-9f1d291362a5",
   "metadata": {},
   "outputs": [
    {
     "data": {
      "text/plain": [
       "Index(['TransactionID', 'Date', 'Price', 'Qty', 'TotalAmount', 'ProductID',\n",
       "       'ProductName', 'CustomerID', 'Age', 'Gender', 'MaritalStatus', 'Income',\n",
       "       'StoreID', 'StoreName', 'GroupStore', 'Type', 'Latitude', 'Longitude'],\n",
       "      dtype='object')"
      ]
     },
     "execution_count": 9,
     "metadata": {},
     "output_type": "execute_result"
    }
   ],
   "source": [
    "df.columns"
   ]
  },
  {
   "cell_type": "code",
   "execution_count": 10,
   "id": "a1a96604-92cc-4b14-9f9c-178ef2f2c7be",
   "metadata": {},
   "outputs": [
    {
     "name": "stdout",
     "output_type": "stream",
     "text": [
      "<class 'pandas.core.frame.DataFrame'>\n",
      "Int64Index: 5020 entries, 0 to 5019\n",
      "Data columns (total 18 columns):\n",
      " #   Column         Non-Null Count  Dtype  \n",
      "---  ------         --------------  -----  \n",
      " 0   TransactionID  5020 non-null   object \n",
      " 1   Date           5020 non-null   object \n",
      " 2   Price          5020 non-null   int64  \n",
      " 3   Qty            5020 non-null   int64  \n",
      " 4   TotalAmount    5020 non-null   int64  \n",
      " 5   ProductID      5020 non-null   object \n",
      " 6   ProductName    5020 non-null   object \n",
      " 7   CustomerID     5020 non-null   int64  \n",
      " 8   Age            5020 non-null   int64  \n",
      " 9   Gender         5020 non-null   int64  \n",
      " 10  MaritalStatus  4976 non-null   object \n",
      " 11  Income         5020 non-null   float64\n",
      " 12  StoreID        5020 non-null   int64  \n",
      " 13  StoreName      5020 non-null   object \n",
      " 14  GroupStore     5020 non-null   object \n",
      " 15  Type           5020 non-null   object \n",
      " 16  Latitude       5020 non-null   float64\n",
      " 17  Longitude      5020 non-null   float64\n",
      "dtypes: float64(3), int64(7), object(8)\n",
      "memory usage: 745.2+ KB\n"
     ]
    }
   ],
   "source": [
    "# get the info of each columns\n",
    "df.info()"
   ]
  },
  {
   "cell_type": "markdown",
   "id": "f4dfc5f6-f1e9-4e5c-afc3-222698ba29bb",
   "metadata": {},
   "source": [
    "**Observations:**\n",
    "\n",
    "- Dataset memiliki `18 columns` dan `5020 rows` data\n",
    "- Terdapat 3 jenis tipe data yaitu : `int64, float64, object`\n",
    "- Kolom `MaritalStatus` memiliki `44 nilai null / missing values`"
   ]
  },
  {
   "cell_type": "markdown",
   "id": "0deb9ea8-085f-49ed-8247-d222220524c9",
   "metadata": {},
   "source": [
    "### **Checking Duplicate Rows**"
   ]
  },
  {
   "cell_type": "code",
   "execution_count": 11,
   "id": "18b0f97a-40c2-4659-9883-982508e337b5",
   "metadata": {},
   "outputs": [
    {
     "data": {
      "text/html": [
       "<div>\n",
       "<style scoped>\n",
       "    .dataframe tbody tr th:only-of-type {\n",
       "        vertical-align: middle;\n",
       "    }\n",
       "\n",
       "    .dataframe tbody tr th {\n",
       "        vertical-align: top;\n",
       "    }\n",
       "\n",
       "    .dataframe thead th {\n",
       "        text-align: right;\n",
       "    }\n",
       "</style>\n",
       "<table border=\"1\" class=\"dataframe\">\n",
       "  <thead>\n",
       "    <tr style=\"text-align: right;\">\n",
       "      <th></th>\n",
       "      <th>TransactionID</th>\n",
       "      <th>Date</th>\n",
       "      <th>Price</th>\n",
       "      <th>Qty</th>\n",
       "      <th>TotalAmount</th>\n",
       "      <th>ProductID</th>\n",
       "      <th>ProductName</th>\n",
       "      <th>CustomerID</th>\n",
       "      <th>Age</th>\n",
       "      <th>Gender</th>\n",
       "      <th>MaritalStatus</th>\n",
       "      <th>Income</th>\n",
       "      <th>StoreID</th>\n",
       "      <th>StoreName</th>\n",
       "      <th>GroupStore</th>\n",
       "      <th>Type</th>\n",
       "      <th>Latitude</th>\n",
       "      <th>Longitude</th>\n",
       "    </tr>\n",
       "  </thead>\n",
       "  <tbody>\n",
       "  </tbody>\n",
       "</table>\n",
       "</div>"
      ],
      "text/plain": [
       "Empty DataFrame\n",
       "Columns: [TransactionID, Date, Price, Qty, TotalAmount, ProductID, ProductName, CustomerID, Age, Gender, MaritalStatus, Income, StoreID, StoreName, GroupStore, Type, Latitude, Longitude]\n",
       "Index: []"
      ]
     },
     "execution_count": 11,
     "metadata": {},
     "output_type": "execute_result"
    }
   ],
   "source": [
    "df[df.duplicated(keep=False)].sort_values(by=list(df.columns.values))"
   ]
  },
  {
   "cell_type": "code",
   "execution_count": 12,
   "id": "62d07210-a9a5-4331-8dbe-8cef7ea8d35b",
   "metadata": {},
   "outputs": [
    {
     "data": {
      "text/plain": [
       "0"
      ]
     },
     "execution_count": 12,
     "metadata": {},
     "output_type": "execute_result"
    }
   ],
   "source": [
    "df.duplicated().sum()"
   ]
  },
  {
   "cell_type": "markdown",
   "id": "e430dc39-fbb9-4411-90eb-82805f4c3b8f",
   "metadata": {},
   "source": [
    "**Observations:** Data yang kita miliki tidak memiliki duplikat"
   ]
  },
  {
   "cell_type": "markdown",
   "id": "1d3a071a-e132-462f-a96e-dfc2e29992ae",
   "metadata": {},
   "source": [
    "### **Checking Missing Values**"
   ]
  },
  {
   "cell_type": "code",
   "execution_count": 13,
   "id": "d9442cb7-6919-4753-a3f3-f4675a29b85f",
   "metadata": {},
   "outputs": [
    {
     "data": {
      "text/plain": [
       "TransactionID     0\n",
       "Date              0\n",
       "Price             0\n",
       "Qty               0\n",
       "TotalAmount       0\n",
       "ProductID         0\n",
       "ProductName       0\n",
       "CustomerID        0\n",
       "Age               0\n",
       "Gender            0\n",
       "MaritalStatus    44\n",
       "Income            0\n",
       "StoreID           0\n",
       "StoreName         0\n",
       "GroupStore        0\n",
       "Type              0\n",
       "Latitude          0\n",
       "Longitude         0\n",
       "dtype: int64"
      ]
     },
     "execution_count": 13,
     "metadata": {},
     "output_type": "execute_result"
    }
   ],
   "source": [
    "# jumlah entry NULL di setiap kolom\n",
    "df.isna().sum()"
   ]
  },
  {
   "cell_type": "code",
   "execution_count": 14,
   "id": "6d1bc1d1-0f15-4353-b829-66c164c64a45",
   "metadata": {},
   "outputs": [
    {
     "name": "stdout",
     "output_type": "stream",
     "text": [
      "Missing values status: True\n"
     ]
    },
    {
     "data": {
      "text/html": [
       "<style type=\"text/css\">\n",
       "#T_f58d2_row0_col0, #T_f58d2_row0_col1 {\n",
       "  background-color: #08306b;\n",
       "  color: #f1f1f1;\n",
       "}\n",
       "#T_f58d2_row1_col0, #T_f58d2_row1_col1, #T_f58d2_row2_col0, #T_f58d2_row2_col1, #T_f58d2_row3_col0, #T_f58d2_row3_col1, #T_f58d2_row4_col0, #T_f58d2_row4_col1, #T_f58d2_row5_col0, #T_f58d2_row5_col1, #T_f58d2_row6_col0, #T_f58d2_row6_col1, #T_f58d2_row7_col0, #T_f58d2_row7_col1, #T_f58d2_row8_col0, #T_f58d2_row8_col1, #T_f58d2_row9_col0, #T_f58d2_row9_col1, #T_f58d2_row10_col0, #T_f58d2_row10_col1, #T_f58d2_row11_col0, #T_f58d2_row11_col1, #T_f58d2_row12_col0, #T_f58d2_row12_col1, #T_f58d2_row13_col0, #T_f58d2_row13_col1, #T_f58d2_row14_col0, #T_f58d2_row14_col1, #T_f58d2_row15_col0, #T_f58d2_row15_col1, #T_f58d2_row16_col0, #T_f58d2_row16_col1, #T_f58d2_row17_col0, #T_f58d2_row17_col1 {\n",
       "  background-color: #f7fbff;\n",
       "  color: #000000;\n",
       "}\n",
       "</style>\n",
       "<table id=\"T_f58d2\">\n",
       "  <thead>\n",
       "    <tr>\n",
       "      <th class=\"blank level0\" >&nbsp;</th>\n",
       "      <th id=\"T_f58d2_level0_col0\" class=\"col_heading level0 col0\" >Total Null Values</th>\n",
       "      <th id=\"T_f58d2_level0_col1\" class=\"col_heading level0 col1\" >Percentage</th>\n",
       "      <th id=\"T_f58d2_level0_col2\" class=\"col_heading level0 col2\" >Data Type</th>\n",
       "    </tr>\n",
       "  </thead>\n",
       "  <tbody>\n",
       "    <tr>\n",
       "      <th id=\"T_f58d2_level0_row0\" class=\"row_heading level0 row0\" >MaritalStatus</th>\n",
       "      <td id=\"T_f58d2_row0_col0\" class=\"data row0 col0\" >44</td>\n",
       "      <td id=\"T_f58d2_row0_col1\" class=\"data row0 col1\" >0.876494</td>\n",
       "      <td id=\"T_f58d2_row0_col2\" class=\"data row0 col2\" >object</td>\n",
       "    </tr>\n",
       "    <tr>\n",
       "      <th id=\"T_f58d2_level0_row1\" class=\"row_heading level0 row1\" >TransactionID</th>\n",
       "      <td id=\"T_f58d2_row1_col0\" class=\"data row1 col0\" >0</td>\n",
       "      <td id=\"T_f58d2_row1_col1\" class=\"data row1 col1\" >0.000000</td>\n",
       "      <td id=\"T_f58d2_row1_col2\" class=\"data row1 col2\" >object</td>\n",
       "    </tr>\n",
       "    <tr>\n",
       "      <th id=\"T_f58d2_level0_row2\" class=\"row_heading level0 row2\" >Date</th>\n",
       "      <td id=\"T_f58d2_row2_col0\" class=\"data row2 col0\" >0</td>\n",
       "      <td id=\"T_f58d2_row2_col1\" class=\"data row2 col1\" >0.000000</td>\n",
       "      <td id=\"T_f58d2_row2_col2\" class=\"data row2 col2\" >object</td>\n",
       "    </tr>\n",
       "    <tr>\n",
       "      <th id=\"T_f58d2_level0_row3\" class=\"row_heading level0 row3\" >Price</th>\n",
       "      <td id=\"T_f58d2_row3_col0\" class=\"data row3 col0\" >0</td>\n",
       "      <td id=\"T_f58d2_row3_col1\" class=\"data row3 col1\" >0.000000</td>\n",
       "      <td id=\"T_f58d2_row3_col2\" class=\"data row3 col2\" >int64</td>\n",
       "    </tr>\n",
       "    <tr>\n",
       "      <th id=\"T_f58d2_level0_row4\" class=\"row_heading level0 row4\" >Qty</th>\n",
       "      <td id=\"T_f58d2_row4_col0\" class=\"data row4 col0\" >0</td>\n",
       "      <td id=\"T_f58d2_row4_col1\" class=\"data row4 col1\" >0.000000</td>\n",
       "      <td id=\"T_f58d2_row4_col2\" class=\"data row4 col2\" >int64</td>\n",
       "    </tr>\n",
       "    <tr>\n",
       "      <th id=\"T_f58d2_level0_row5\" class=\"row_heading level0 row5\" >TotalAmount</th>\n",
       "      <td id=\"T_f58d2_row5_col0\" class=\"data row5 col0\" >0</td>\n",
       "      <td id=\"T_f58d2_row5_col1\" class=\"data row5 col1\" >0.000000</td>\n",
       "      <td id=\"T_f58d2_row5_col2\" class=\"data row5 col2\" >int64</td>\n",
       "    </tr>\n",
       "    <tr>\n",
       "      <th id=\"T_f58d2_level0_row6\" class=\"row_heading level0 row6\" >ProductID</th>\n",
       "      <td id=\"T_f58d2_row6_col0\" class=\"data row6 col0\" >0</td>\n",
       "      <td id=\"T_f58d2_row6_col1\" class=\"data row6 col1\" >0.000000</td>\n",
       "      <td id=\"T_f58d2_row6_col2\" class=\"data row6 col2\" >object</td>\n",
       "    </tr>\n",
       "    <tr>\n",
       "      <th id=\"T_f58d2_level0_row7\" class=\"row_heading level0 row7\" >ProductName</th>\n",
       "      <td id=\"T_f58d2_row7_col0\" class=\"data row7 col0\" >0</td>\n",
       "      <td id=\"T_f58d2_row7_col1\" class=\"data row7 col1\" >0.000000</td>\n",
       "      <td id=\"T_f58d2_row7_col2\" class=\"data row7 col2\" >object</td>\n",
       "    </tr>\n",
       "    <tr>\n",
       "      <th id=\"T_f58d2_level0_row8\" class=\"row_heading level0 row8\" >CustomerID</th>\n",
       "      <td id=\"T_f58d2_row8_col0\" class=\"data row8 col0\" >0</td>\n",
       "      <td id=\"T_f58d2_row8_col1\" class=\"data row8 col1\" >0.000000</td>\n",
       "      <td id=\"T_f58d2_row8_col2\" class=\"data row8 col2\" >int64</td>\n",
       "    </tr>\n",
       "    <tr>\n",
       "      <th id=\"T_f58d2_level0_row9\" class=\"row_heading level0 row9\" >Age</th>\n",
       "      <td id=\"T_f58d2_row9_col0\" class=\"data row9 col0\" >0</td>\n",
       "      <td id=\"T_f58d2_row9_col1\" class=\"data row9 col1\" >0.000000</td>\n",
       "      <td id=\"T_f58d2_row9_col2\" class=\"data row9 col2\" >int64</td>\n",
       "    </tr>\n",
       "    <tr>\n",
       "      <th id=\"T_f58d2_level0_row10\" class=\"row_heading level0 row10\" >Gender</th>\n",
       "      <td id=\"T_f58d2_row10_col0\" class=\"data row10 col0\" >0</td>\n",
       "      <td id=\"T_f58d2_row10_col1\" class=\"data row10 col1\" >0.000000</td>\n",
       "      <td id=\"T_f58d2_row10_col2\" class=\"data row10 col2\" >int64</td>\n",
       "    </tr>\n",
       "    <tr>\n",
       "      <th id=\"T_f58d2_level0_row11\" class=\"row_heading level0 row11\" >Income</th>\n",
       "      <td id=\"T_f58d2_row11_col0\" class=\"data row11 col0\" >0</td>\n",
       "      <td id=\"T_f58d2_row11_col1\" class=\"data row11 col1\" >0.000000</td>\n",
       "      <td id=\"T_f58d2_row11_col2\" class=\"data row11 col2\" >float64</td>\n",
       "    </tr>\n",
       "    <tr>\n",
       "      <th id=\"T_f58d2_level0_row12\" class=\"row_heading level0 row12\" >StoreID</th>\n",
       "      <td id=\"T_f58d2_row12_col0\" class=\"data row12 col0\" >0</td>\n",
       "      <td id=\"T_f58d2_row12_col1\" class=\"data row12 col1\" >0.000000</td>\n",
       "      <td id=\"T_f58d2_row12_col2\" class=\"data row12 col2\" >int64</td>\n",
       "    </tr>\n",
       "    <tr>\n",
       "      <th id=\"T_f58d2_level0_row13\" class=\"row_heading level0 row13\" >StoreName</th>\n",
       "      <td id=\"T_f58d2_row13_col0\" class=\"data row13 col0\" >0</td>\n",
       "      <td id=\"T_f58d2_row13_col1\" class=\"data row13 col1\" >0.000000</td>\n",
       "      <td id=\"T_f58d2_row13_col2\" class=\"data row13 col2\" >object</td>\n",
       "    </tr>\n",
       "    <tr>\n",
       "      <th id=\"T_f58d2_level0_row14\" class=\"row_heading level0 row14\" >GroupStore</th>\n",
       "      <td id=\"T_f58d2_row14_col0\" class=\"data row14 col0\" >0</td>\n",
       "      <td id=\"T_f58d2_row14_col1\" class=\"data row14 col1\" >0.000000</td>\n",
       "      <td id=\"T_f58d2_row14_col2\" class=\"data row14 col2\" >object</td>\n",
       "    </tr>\n",
       "    <tr>\n",
       "      <th id=\"T_f58d2_level0_row15\" class=\"row_heading level0 row15\" >Type</th>\n",
       "      <td id=\"T_f58d2_row15_col0\" class=\"data row15 col0\" >0</td>\n",
       "      <td id=\"T_f58d2_row15_col1\" class=\"data row15 col1\" >0.000000</td>\n",
       "      <td id=\"T_f58d2_row15_col2\" class=\"data row15 col2\" >object</td>\n",
       "    </tr>\n",
       "    <tr>\n",
       "      <th id=\"T_f58d2_level0_row16\" class=\"row_heading level0 row16\" >Latitude</th>\n",
       "      <td id=\"T_f58d2_row16_col0\" class=\"data row16 col0\" >0</td>\n",
       "      <td id=\"T_f58d2_row16_col1\" class=\"data row16 col1\" >0.000000</td>\n",
       "      <td id=\"T_f58d2_row16_col2\" class=\"data row16 col2\" >float64</td>\n",
       "    </tr>\n",
       "    <tr>\n",
       "      <th id=\"T_f58d2_level0_row17\" class=\"row_heading level0 row17\" >Longitude</th>\n",
       "      <td id=\"T_f58d2_row17_col0\" class=\"data row17 col0\" >0</td>\n",
       "      <td id=\"T_f58d2_row17_col1\" class=\"data row17 col1\" >0.000000</td>\n",
       "      <td id=\"T_f58d2_row17_col2\" class=\"data row17 col2\" >float64</td>\n",
       "    </tr>\n",
       "  </tbody>\n",
       "</table>\n"
      ],
      "text/plain": [
       "<pandas.io.formats.style.Styler at 0x1be530e2ef0>"
      ]
     },
     "execution_count": 14,
     "metadata": {},
     "output_type": "execute_result"
    }
   ],
   "source": [
    "print('Missing values status:', df.isnull().values.any())\n",
    "nvc = pd.DataFrame(df.isnull().sum(), columns=['Total Null Values'])\n",
    "nvc['Percentage'] = (nvc['Total Null Values']/df.shape[0])*100\n",
    "nvc[\"Data Type\"] = [df[col].dtype for col in df.columns]\n",
    "nvc.sort_values(by=[\"Total Null Values\", \"Percentage\"], ascending=False, inplace=True)\n",
    "nvc.style.background_gradient(cmap='Blues')"
   ]
  },
  {
   "cell_type": "code",
   "execution_count": 15,
   "id": "b39a3e94-7ac8-44ee-b7af-f7a6452b48cb",
   "metadata": {},
   "outputs": [
    {
     "name": "stdout",
     "output_type": "stream",
     "text": [
      "MaritalStatus = True - ['nan']\n"
     ]
    }
   ],
   "source": [
    "missing_values = ['n/a', 'na', 'nan', '-', '--', 'null', 'Null', '', ' ', '-1', -1]\n",
    "for i in df.columns:\n",
    "    dmmy_col = df[i].apply(lambda x : str(x).strip())\n",
    "    isnan = dmmy_col.isin(missing_values).any()\n",
    "    miss = np.unique(dmmy_col[dmmy_col.isin(missing_values)].values)\n",
    "    if isnan :\n",
    "        print(\"{} = {} - {}\".format(i, isnan, miss))"
   ]
  },
  {
   "cell_type": "code",
   "execution_count": 16,
   "id": "95207159-55d4-4aeb-8e86-c18f011729e6",
   "metadata": {},
   "outputs": [
    {
     "data": {
      "text/plain": [
       "<seaborn.axisgrid.FacetGrid at 0x1be53290fa0>"
      ]
     },
     "execution_count": 16,
     "metadata": {},
     "output_type": "execute_result"
    },
    {
     "data": {
      "text/plain": [
       "<Figure size 1000x600 with 0 Axes>"
      ]
     },
     "metadata": {},
     "output_type": "display_data"
    },
    {
     "data": {
      "image/png": "[encoded data removed]",
      "text/plain": [
       "<Figure size 717.5x500 with 1 Axes>"
      ]
     },
     "metadata": {},
     "output_type": "display_data"
    }
   ],
   "source": [
    "plt.figure(figsize=(10,6))\n",
    "\n",
    "dms = sns.displot(\n",
    "    data=df.isna().melt(value_name=\"missing\"),\n",
    "    y=\"variable\",\n",
    "    hue=\"missing\",\n",
    "    multiple=\"fill\",\n",
    "    aspect=1.25,\n",
    "    palette = [\"green\",\"red\"]\n",
    ")\n",
    "\n",
    "dms.set_yticklabels(size = 6)"
   ]
  },
  {
   "cell_type": "markdown",
   "id": "e1d471de-e49a-46d3-95ff-94180809b1ef",
   "metadata": {},
   "source": [
    "**Observations:**\n",
    "- Kolom `MaritalStatus` memiliki `44 nilai null / missing values`, persentase sebesar 0.87% dari jumlah data"
   ]
  },
  {
   "cell_type": "markdown",
   "id": "210d1856-fe35-4e66-b8d7-cfb8a8eb50bc",
   "metadata": {},
   "source": [
    "### **Division by Type of Data**"
   ]
  },
  {
   "cell_type": "code",
   "execution_count": 17,
   "id": "5522327f-bc78-4246-95c8-b0a57660dffa",
   "metadata": {},
   "outputs": [
    {
     "data": {
      "text/html": [
       "<div>\n",
       "<style scoped>\n",
       "    .dataframe tbody tr th:only-of-type {\n",
       "        vertical-align: middle;\n",
       "    }\n",
       "\n",
       "    .dataframe tbody tr th {\n",
       "        vertical-align: top;\n",
       "    }\n",
       "\n",
       "    .dataframe thead th {\n",
       "        text-align: right;\n",
       "    }\n",
       "</style>\n",
       "<table border=\"1\" class=\"dataframe\">\n",
       "  <thead>\n",
       "    <tr style=\"text-align: right;\">\n",
       "      <th></th>\n",
       "      <th>TransactionID</th>\n",
       "      <th>Date</th>\n",
       "      <th>Price</th>\n",
       "      <th>Qty</th>\n",
       "      <th>TotalAmount</th>\n",
       "      <th>ProductID</th>\n",
       "      <th>ProductName</th>\n",
       "      <th>CustomerID</th>\n",
       "      <th>Age</th>\n",
       "      <th>Gender</th>\n",
       "      <th>MaritalStatus</th>\n",
       "      <th>Income</th>\n",
       "      <th>StoreID</th>\n",
       "      <th>StoreName</th>\n",
       "      <th>GroupStore</th>\n",
       "      <th>Type</th>\n",
       "      <th>Latitude</th>\n",
       "      <th>Longitude</th>\n",
       "    </tr>\n",
       "  </thead>\n",
       "  <tbody>\n",
       "    <tr>\n",
       "      <th>0</th>\n",
       "      <td>TR11369</td>\n",
       "      <td>01/01/2022</td>\n",
       "      <td>7500</td>\n",
       "      <td>4</td>\n",
       "      <td>30000</td>\n",
       "      <td>P3</td>\n",
       "      <td>Crackers</td>\n",
       "      <td>328</td>\n",
       "      <td>36</td>\n",
       "      <td>0</td>\n",
       "      <td>Married</td>\n",
       "      <td>10.530</td>\n",
       "      <td>12</td>\n",
       "      <td>Prestasi Utama</td>\n",
       "      <td>Prestasi</td>\n",
       "      <td>General Trade</td>\n",
       "      <td>-2.991</td>\n",
       "      <td>104.757</td>\n",
       "    </tr>\n",
       "    <tr>\n",
       "      <th>1</th>\n",
       "      <td>TR89318</td>\n",
       "      <td>17/07/2022</td>\n",
       "      <td>7500</td>\n",
       "      <td>1</td>\n",
       "      <td>7500</td>\n",
       "      <td>P3</td>\n",
       "      <td>Crackers</td>\n",
       "      <td>183</td>\n",
       "      <td>27</td>\n",
       "      <td>1</td>\n",
       "      <td>Single</td>\n",
       "      <td>0.180</td>\n",
       "      <td>12</td>\n",
       "      <td>Prestasi Utama</td>\n",
       "      <td>Prestasi</td>\n",
       "      <td>General Trade</td>\n",
       "      <td>-2.991</td>\n",
       "      <td>104.757</td>\n",
       "    </tr>\n",
       "    <tr>\n",
       "      <th>2</th>\n",
       "      <td>TR9106</td>\n",
       "      <td>26/09/2022</td>\n",
       "      <td>7500</td>\n",
       "      <td>4</td>\n",
       "      <td>30000</td>\n",
       "      <td>P3</td>\n",
       "      <td>Crackers</td>\n",
       "      <td>123</td>\n",
       "      <td>34</td>\n",
       "      <td>0</td>\n",
       "      <td>Married</td>\n",
       "      <td>4.360</td>\n",
       "      <td>12</td>\n",
       "      <td>Prestasi Utama</td>\n",
       "      <td>Prestasi</td>\n",
       "      <td>General Trade</td>\n",
       "      <td>-2.991</td>\n",
       "      <td>104.757</td>\n",
       "    </tr>\n",
       "    <tr>\n",
       "      <th>3</th>\n",
       "      <td>TR4331</td>\n",
       "      <td>08/01/2022</td>\n",
       "      <td>7500</td>\n",
       "      <td>3</td>\n",
       "      <td>22500</td>\n",
       "      <td>P3</td>\n",
       "      <td>Crackers</td>\n",
       "      <td>335</td>\n",
       "      <td>29</td>\n",
       "      <td>1</td>\n",
       "      <td>Single</td>\n",
       "      <td>4.740</td>\n",
       "      <td>12</td>\n",
       "      <td>Prestasi Utama</td>\n",
       "      <td>Prestasi</td>\n",
       "      <td>General Trade</td>\n",
       "      <td>-2.991</td>\n",
       "      <td>104.757</td>\n",
       "    </tr>\n",
       "    <tr>\n",
       "      <th>4</th>\n",
       "      <td>TR6445</td>\n",
       "      <td>10/01/2022</td>\n",
       "      <td>7500</td>\n",
       "      <td>4</td>\n",
       "      <td>30000</td>\n",
       "      <td>P3</td>\n",
       "      <td>Crackers</td>\n",
       "      <td>181</td>\n",
       "      <td>33</td>\n",
       "      <td>1</td>\n",
       "      <td>Married</td>\n",
       "      <td>9.940</td>\n",
       "      <td>12</td>\n",
       "      <td>Prestasi Utama</td>\n",
       "      <td>Prestasi</td>\n",
       "      <td>General Trade</td>\n",
       "      <td>-2.991</td>\n",
       "      <td>104.757</td>\n",
       "    </tr>\n",
       "  </tbody>\n",
       "</table>\n",
       "</div>"
      ],
      "text/plain": [
       "  TransactionID        Date  Price  Qty  TotalAmount ProductID ProductName  \\\n",
       "0       TR11369  01/01/2022   7500    4        30000        P3    Crackers   \n",
       "1       TR89318  17/07/2022   7500    1         7500        P3    Crackers   \n",
       "2        TR9106  26/09/2022   7500    4        30000        P3    Crackers   \n",
       "3        TR4331  08/01/2022   7500    3        22500        P3    Crackers   \n",
       "4        TR6445  10/01/2022   7500    4        30000        P3    Crackers   \n",
       "\n",
       "   CustomerID  Age  Gender MaritalStatus  Income  StoreID       StoreName  \\\n",
       "0         328   36       0       Married  10.530       12  Prestasi Utama   \n",
       "1         183   27       1        Single   0.180       12  Prestasi Utama   \n",
       "2         123   34       0       Married   4.360       12  Prestasi Utama   \n",
       "3         335   29       1        Single   4.740       12  Prestasi Utama   \n",
       "4         181   33       1       Married   9.940       12  Prestasi Utama   \n",
       "\n",
       "  GroupStore           Type  Latitude  Longitude  \n",
       "0   Prestasi  General Trade    -2.991    104.757  \n",
       "1   Prestasi  General Trade    -2.991    104.757  \n",
       "2   Prestasi  General Trade    -2.991    104.757  \n",
       "3   Prestasi  General Trade    -2.991    104.757  \n",
       "4   Prestasi  General Trade    -2.991    104.757  "
      ]
     },
     "execution_count": 17,
     "metadata": {},
     "output_type": "execute_result"
    }
   ],
   "source": [
    "df.head()"
   ]
  },
  {
   "cell_type": "code",
   "execution_count": 18,
   "id": "fa8fafd9-1bf3-403d-9900-3ed557d4b7a8",
   "metadata": {},
   "outputs": [],
   "source": [
    "cat_id_cols = [\"TransactionID\", \"ProductID\", \"CustomerID\", \"StoreID\"]\n",
    "cat_cols = [\"ProductName\", \"Gender\", \"MaritalStatus\", \n",
    "            \"StoreName\", \"GroupStore\", \"Type\"]\n",
    "            \n",
    "num_cols = [\"Price\", \"Qty\", \"TotalAmount\", \"Age\", \n",
    "            \"Income\", \"Latitude\", \"Longitude\"]\n",
    "\n",
    "timestamp = [\"Date\"]"
   ]
  },
  {
   "cell_type": "code",
   "execution_count": 19,
   "id": "71dceb16-37ef-4d41-89a5-333a42771034",
   "metadata": {},
   "outputs": [
    {
     "data": {
      "text/plain": [
       "Index(['TransactionID', 'Date', 'Price', 'Qty', 'TotalAmount', 'ProductID',\n",
       "       'ProductName', 'CustomerID', 'Age', 'Gender', 'MaritalStatus', 'Income',\n",
       "       'StoreID', 'StoreName', 'GroupStore', 'Type', 'Latitude', 'Longitude'],\n",
       "      dtype='object')"
      ]
     },
     "execution_count": 19,
     "metadata": {},
     "output_type": "execute_result"
    }
   ],
   "source": [
    "df.columns"
   ]
  },
  {
   "cell_type": "markdown",
   "id": "ea9d8f2e-2023-42b2-8cfa-cf219383e704",
   "metadata": {},
   "source": [
    "## **📌 Data Types Information**"
   ]
  },
  {
   "cell_type": "code",
   "execution_count": 20,
   "id": "06bbd930-06e2-4215-a712-2cde56ff6bea",
   "metadata": {},
   "outputs": [
    {
     "name": "stdout",
     "output_type": "stream",
     "text": [
      "Data type before correction:\n",
      "\n",
      "<class 'pandas.core.frame.DataFrame'>\n",
      "Int64Index: 5020 entries, 0 to 5019\n",
      "Data columns (total 18 columns):\n",
      " #   Column         Non-Null Count  Dtype  \n",
      "---  ------         --------------  -----  \n",
      " 0   TransactionID  5020 non-null   object \n",
      " 1   Date           5020 non-null   object \n",
      " 2   Price          5020 non-null   int64  \n",
      " 3   Qty            5020 non-null   int64  \n",
      " 4   TotalAmount    5020 non-null   int64  \n",
      " 5   ProductID      5020 non-null   object \n",
      " 6   ProductName    5020 non-null   object \n",
      " 7   CustomerID     5020 non-null   int64  \n",
      " 8   Age            5020 non-null   int64  \n",
      " 9   Gender         5020 non-null   int64  \n",
      " 10  MaritalStatus  4976 non-null   object \n",
      " 11  Income         5020 non-null   float64\n",
      " 12  StoreID        5020 non-null   int64  \n",
      " 13  StoreName      5020 non-null   object \n",
      " 14  GroupStore     5020 non-null   object \n",
      " 15  Type           5020 non-null   object \n",
      " 16  Latitude       5020 non-null   float64\n",
      " 17  Longitude      5020 non-null   float64\n",
      "dtypes: float64(3), int64(7), object(8)\n",
      "memory usage: 745.2+ KB\n"
     ]
    }
   ],
   "source": [
    "print('Data type before correction:\\n')\n",
    "df.info()"
   ]
  },
  {
   "cell_type": "markdown",
   "id": "1f9c5c90-5eda-416d-ba40-625427236e8d",
   "metadata": {},
   "source": [
    "**Change the Some column data type**"
   ]
  },
  {
   "cell_type": "markdown",
   "id": "f8d08c2d-ea9f-48ae-92ed-e5c5110bf29c",
   "metadata": {},
   "source": [
    "Untuk memudahkan dalam proses extraction date maupun part of, maka kolom date `object` diubah menjadi `datetime64`"
   ]
  },
  {
   "cell_type": "code",
   "execution_count": 21,
   "id": "44105e41-02b4-4966-bd92-62957644b05b",
   "metadata": {},
   "outputs": [],
   "source": [
    "df[\"Date\"] = pd.to_datetime(df[\"Date\"], format='%d/%m/%Y', infer_datetime_format=True)"
   ]
  },
  {
   "cell_type": "code",
   "execution_count": 22,
   "id": "65c5042a-a37e-4ba8-9c38-4e15040734c1",
   "metadata": {},
   "outputs": [
    {
     "name": "stdout",
     "output_type": "stream",
     "text": [
      "Data type after correction:\n",
      "\n",
      "<class 'pandas.core.frame.DataFrame'>\n",
      "Int64Index: 5020 entries, 0 to 5019\n",
      "Data columns (total 18 columns):\n",
      " #   Column         Non-Null Count  Dtype         \n",
      "---  ------         --------------  -----         \n",
      " 0   TransactionID  5020 non-null   object        \n",
      " 1   Date           5020 non-null   datetime64[ns]\n",
      " 2   Price          5020 non-null   int64         \n",
      " 3   Qty            5020 non-null   int64         \n",
      " 4   TotalAmount    5020 non-null   int64         \n",
      " 5   ProductID      5020 non-null   object        \n",
      " 6   ProductName    5020 non-null   object        \n",
      " 7   CustomerID     5020 non-null   int64         \n",
      " 8   Age            5020 non-null   int64         \n",
      " 9   Gender         5020 non-null   int64         \n",
      " 10  MaritalStatus  4976 non-null   object        \n",
      " 11  Income         5020 non-null   float64       \n",
      " 12  StoreID        5020 non-null   int64         \n",
      " 13  StoreName      5020 non-null   object        \n",
      " 14  GroupStore     5020 non-null   object        \n",
      " 15  Type           5020 non-null   object        \n",
      " 16  Latitude       5020 non-null   float64       \n",
      " 17  Longitude      5020 non-null   float64       \n",
      "dtypes: datetime64[ns](1), float64(3), int64(7), object(7)\n",
      "memory usage: 745.2+ KB\n"
     ]
    }
   ],
   "source": [
    "print('Data type after correction:\\n')\n",
    "df.info()"
   ]
  },
  {
   "cell_type": "code",
   "execution_count": 23,
   "id": "d7be40e7-88ec-4ba1-92c2-4f0e70320d24",
   "metadata": {},
   "outputs": [
    {
     "data": {
      "text/html": [
       "<div>\n",
       "<style scoped>\n",
       "    .dataframe tbody tr th:only-of-type {\n",
       "        vertical-align: middle;\n",
       "    }\n",
       "\n",
       "    .dataframe tbody tr th {\n",
       "        vertical-align: top;\n",
       "    }\n",
       "\n",
       "    .dataframe thead th {\n",
       "        text-align: right;\n",
       "    }\n",
       "</style>\n",
       "<table border=\"1\" class=\"dataframe\">\n",
       "  <thead>\n",
       "    <tr style=\"text-align: right;\">\n",
       "      <th></th>\n",
       "      <th>TransactionID</th>\n",
       "      <th>Date</th>\n",
       "      <th>Price</th>\n",
       "      <th>Qty</th>\n",
       "      <th>TotalAmount</th>\n",
       "      <th>ProductID</th>\n",
       "      <th>ProductName</th>\n",
       "      <th>CustomerID</th>\n",
       "      <th>Age</th>\n",
       "      <th>Gender</th>\n",
       "      <th>MaritalStatus</th>\n",
       "      <th>Income</th>\n",
       "      <th>StoreID</th>\n",
       "      <th>StoreName</th>\n",
       "      <th>GroupStore</th>\n",
       "      <th>Type</th>\n",
       "      <th>Latitude</th>\n",
       "      <th>Longitude</th>\n",
       "    </tr>\n",
       "  </thead>\n",
       "  <tbody>\n",
       "    <tr>\n",
       "      <th>0</th>\n",
       "      <td>TR11369</td>\n",
       "      <td>2022-01-01</td>\n",
       "      <td>7500</td>\n",
       "      <td>4</td>\n",
       "      <td>30000</td>\n",
       "      <td>P3</td>\n",
       "      <td>Crackers</td>\n",
       "      <td>328</td>\n",
       "      <td>36</td>\n",
       "      <td>0</td>\n",
       "      <td>Married</td>\n",
       "      <td>10.530</td>\n",
       "      <td>12</td>\n",
       "      <td>Prestasi Utama</td>\n",
       "      <td>Prestasi</td>\n",
       "      <td>General Trade</td>\n",
       "      <td>-2.991</td>\n",
       "      <td>104.757</td>\n",
       "    </tr>\n",
       "    <tr>\n",
       "      <th>1</th>\n",
       "      <td>TR89318</td>\n",
       "      <td>2022-07-17</td>\n",
       "      <td>7500</td>\n",
       "      <td>1</td>\n",
       "      <td>7500</td>\n",
       "      <td>P3</td>\n",
       "      <td>Crackers</td>\n",
       "      <td>183</td>\n",
       "      <td>27</td>\n",
       "      <td>1</td>\n",
       "      <td>Single</td>\n",
       "      <td>0.180</td>\n",
       "      <td>12</td>\n",
       "      <td>Prestasi Utama</td>\n",
       "      <td>Prestasi</td>\n",
       "      <td>General Trade</td>\n",
       "      <td>-2.991</td>\n",
       "      <td>104.757</td>\n",
       "    </tr>\n",
       "    <tr>\n",
       "      <th>2</th>\n",
       "      <td>TR9106</td>\n",
       "      <td>2022-09-26</td>\n",
       "      <td>7500</td>\n",
       "      <td>4</td>\n",
       "      <td>30000</td>\n",
       "      <td>P3</td>\n",
       "      <td>Crackers</td>\n",
       "      <td>123</td>\n",
       "      <td>34</td>\n",
       "      <td>0</td>\n",
       "      <td>Married</td>\n",
       "      <td>4.360</td>\n",
       "      <td>12</td>\n",
       "      <td>Prestasi Utama</td>\n",
       "      <td>Prestasi</td>\n",
       "      <td>General Trade</td>\n",
       "      <td>-2.991</td>\n",
       "      <td>104.757</td>\n",
       "    </tr>\n",
       "    <tr>\n",
       "      <th>3</th>\n",
       "      <td>TR4331</td>\n",
       "      <td>2022-01-08</td>\n",
       "      <td>7500</td>\n",
       "      <td>3</td>\n",
       "      <td>22500</td>\n",
       "      <td>P3</td>\n",
       "      <td>Crackers</td>\n",
       "      <td>335</td>\n",
       "      <td>29</td>\n",
       "      <td>1</td>\n",
       "      <td>Single</td>\n",
       "      <td>4.740</td>\n",
       "      <td>12</td>\n",
       "      <td>Prestasi Utama</td>\n",
       "      <td>Prestasi</td>\n",
       "      <td>General Trade</td>\n",
       "      <td>-2.991</td>\n",
       "      <td>104.757</td>\n",
       "    </tr>\n",
       "    <tr>\n",
       "      <th>4</th>\n",
       "      <td>TR6445</td>\n",
       "      <td>2022-01-10</td>\n",
       "      <td>7500</td>\n",
       "      <td>4</td>\n",
       "      <td>30000</td>\n",
       "      <td>P3</td>\n",
       "      <td>Crackers</td>\n",
       "      <td>181</td>\n",
       "      <td>33</td>\n",
       "      <td>1</td>\n",
       "      <td>Married</td>\n",
       "      <td>9.940</td>\n",
       "      <td>12</td>\n",
       "      <td>Prestasi Utama</td>\n",
       "      <td>Prestasi</td>\n",
       "      <td>General Trade</td>\n",
       "      <td>-2.991</td>\n",
       "      <td>104.757</td>\n",
       "    </tr>\n",
       "  </tbody>\n",
       "</table>\n",
       "</div>"
      ],
      "text/plain": [
       "  TransactionID       Date  Price  Qty  TotalAmount ProductID ProductName  \\\n",
       "0       TR11369 2022-01-01   7500    4        30000        P3    Crackers   \n",
       "1       TR89318 2022-07-17   7500    1         7500        P3    Crackers   \n",
       "2        TR9106 2022-09-26   7500    4        30000        P3    Crackers   \n",
       "3        TR4331 2022-01-08   7500    3        22500        P3    Crackers   \n",
       "4        TR6445 2022-01-10   7500    4        30000        P3    Crackers   \n",
       "\n",
       "   CustomerID  Age  Gender MaritalStatus  Income  StoreID       StoreName  \\\n",
       "0         328   36       0       Married  10.530       12  Prestasi Utama   \n",
       "1         183   27       1        Single   0.180       12  Prestasi Utama   \n",
       "2         123   34       0       Married   4.360       12  Prestasi Utama   \n",
       "3         335   29       1        Single   4.740       12  Prestasi Utama   \n",
       "4         181   33       1       Married   9.940       12  Prestasi Utama   \n",
       "\n",
       "  GroupStore           Type  Latitude  Longitude  \n",
       "0   Prestasi  General Trade    -2.991    104.757  \n",
       "1   Prestasi  General Trade    -2.991    104.757  \n",
       "2   Prestasi  General Trade    -2.991    104.757  \n",
       "3   Prestasi  General Trade    -2.991    104.757  \n",
       "4   Prestasi  General Trade    -2.991    104.757  "
      ]
     },
     "execution_count": 23,
     "metadata": {},
     "output_type": "execute_result"
    }
   ],
   "source": [
    "df.head()"
   ]
  },
  {
   "cell_type": "markdown",
   "id": "c8fe5004-2582-46bd-aaf2-8335311b2a9c",
   "metadata": {},
   "source": [
    "## **📌 Statistical Summary**"
   ]
  },
  {
   "cell_type": "markdown",
   "id": "4e435642-374e-4a39-af95-7b3d89021493",
   "metadata": {
    "tags": []
   },
   "source": [
    "### **Numerical + Date Features**"
   ]
  },
  {
   "cell_type": "code",
   "execution_count": 24,
   "id": "979e9543-ebee-4216-bd8c-9c48e8bf926e",
   "metadata": {},
   "outputs": [
    {
     "name": "stdout",
     "output_type": "stream",
     "text": [
      "The number of numerical features is 7\n"
     ]
    },
    {
     "data": {
      "text/html": [
       "<div>\n",
       "<style scoped>\n",
       "    .dataframe tbody tr th:only-of-type {\n",
       "        vertical-align: middle;\n",
       "    }\n",
       "\n",
       "    .dataframe tbody tr th {\n",
       "        vertical-align: top;\n",
       "    }\n",
       "\n",
       "    .dataframe thead th {\n",
       "        text-align: right;\n",
       "    }\n",
       "</style>\n",
       "<table border=\"1\" class=\"dataframe\">\n",
       "  <thead>\n",
       "    <tr style=\"text-align: right;\">\n",
       "      <th></th>\n",
       "      <th>Price</th>\n",
       "      <th>Qty</th>\n",
       "      <th>TotalAmount</th>\n",
       "      <th>Age</th>\n",
       "      <th>Income</th>\n",
       "      <th>Latitude</th>\n",
       "      <th>Longitude</th>\n",
       "    </tr>\n",
       "  </thead>\n",
       "  <tbody>\n",
       "    <tr>\n",
       "      <th>count</th>\n",
       "      <td>5020</td>\n",
       "      <td>5020</td>\n",
       "      <td>5020</td>\n",
       "      <td>5020</td>\n",
       "      <td>5020</td>\n",
       "      <td>5020</td>\n",
       "      <td>5020</td>\n",
       "    </tr>\n",
       "    <tr>\n",
       "      <th>mean</th>\n",
       "      <td>9684.801</td>\n",
       "      <td>3.645</td>\n",
       "      <td>32279.482</td>\n",
       "      <td>40.004</td>\n",
       "      <td>8.624</td>\n",
       "      <td>-2.942</td>\n",
       "      <td>109.601</td>\n",
       "    </tr>\n",
       "    <tr>\n",
       "      <th>std</th>\n",
       "      <td>4600.709</td>\n",
       "      <td>1.855</td>\n",
       "      <td>19675.462</td>\n",
       "      <td>12.835</td>\n",
       "      <td>6.518</td>\n",
       "      <td>4.323</td>\n",
       "      <td>8.358</td>\n",
       "    </tr>\n",
       "    <tr>\n",
       "      <th>min</th>\n",
       "      <td>3200</td>\n",
       "      <td>1</td>\n",
       "      <td>7500</td>\n",
       "      <td>0</td>\n",
       "      <td>0</td>\n",
       "      <td>-7.797</td>\n",
       "      <td>95.324</td>\n",
       "    </tr>\n",
       "    <tr>\n",
       "      <th>25%</th>\n",
       "      <td>4200</td>\n",
       "      <td>2</td>\n",
       "      <td>16000</td>\n",
       "      <td>30</td>\n",
       "      <td>4.220</td>\n",
       "      <td>-6.915</td>\n",
       "      <td>104.757</td>\n",
       "    </tr>\n",
       "    <tr>\n",
       "      <th>50%</th>\n",
       "      <td>9400</td>\n",
       "      <td>3</td>\n",
       "      <td>28200</td>\n",
       "      <td>39</td>\n",
       "      <td>7.720</td>\n",
       "      <td>-5.135</td>\n",
       "      <td>110.371</td>\n",
       "    </tr>\n",
       "    <tr>\n",
       "      <th>75%</th>\n",
       "      <td>15000</td>\n",
       "      <td>5</td>\n",
       "      <td>47000</td>\n",
       "      <td>51</td>\n",
       "      <td>10.780</td>\n",
       "      <td>0.534</td>\n",
       "      <td>114.590</td>\n",
       "    </tr>\n",
       "    <tr>\n",
       "      <th>max</th>\n",
       "      <td>18000</td>\n",
       "      <td>10</td>\n",
       "      <td>88000</td>\n",
       "      <td>72</td>\n",
       "      <td>71.300</td>\n",
       "      <td>5.548</td>\n",
       "      <td>128.191</td>\n",
       "    </tr>\n",
       "  </tbody>\n",
       "</table>\n",
       "</div>"
      ],
      "text/plain": [
       "         Price   Qty  TotalAmount    Age  Income  Latitude  Longitude\n",
       "count     5020  5020         5020   5020    5020      5020       5020\n",
       "mean  9684.801 3.645    32279.482 40.004   8.624    -2.942    109.601\n",
       "std   4600.709 1.855    19675.462 12.835   6.518     4.323      8.358\n",
       "min       3200     1         7500      0       0    -7.797     95.324\n",
       "25%       4200     2        16000     30   4.220    -6.915    104.757\n",
       "50%       9400     3        28200     39   7.720    -5.135    110.371\n",
       "75%      15000     5        47000     51  10.780     0.534    114.590\n",
       "max      18000    10        88000     72  71.300     5.548    128.191"
      ]
     },
     "execution_count": 24,
     "metadata": {},
     "output_type": "execute_result"
    }
   ],
   "source": [
    "print('The number of numerical features is {}'.format(len(num_cols)))\n",
    "\n",
    "df[num_cols].describe(datetime_is_numeric=True).fillna(\"-\").loc[['count', 'mean', 'std', 'min', '25%', '50%', '75%', 'max'],]"
   ]
  },
  {
   "cell_type": "markdown",
   "id": "6f2deaf3-36b3-4454-a4db-b19470f86db7",
   "metadata": {},
   "source": [
    "### **Categorical Features**"
   ]
  },
  {
   "cell_type": "code",
   "execution_count": 25,
   "id": "9786dc10-9f83-4047-a7c7-ad66accabefd",
   "metadata": {},
   "outputs": [
    {
     "name": "stdout",
     "output_type": "stream",
     "text": [
      "The number of categorical features is 6\n"
     ]
    }
   ],
   "source": [
    "print('The number of categorical features is {}'.format(len(cat_cols)))"
   ]
  },
  {
   "cell_type": "code",
   "execution_count": 26,
   "id": "014ee768-87b8-4faf-b2a5-a7ee32b7e778",
   "metadata": {},
   "outputs": [
    {
     "data": {
      "text/html": [
       "<div>\n",
       "<style scoped>\n",
       "    .dataframe tbody tr th:only-of-type {\n",
       "        vertical-align: middle;\n",
       "    }\n",
       "\n",
       "    .dataframe tbody tr th {\n",
       "        vertical-align: top;\n",
       "    }\n",
       "\n",
       "    .dataframe thead th {\n",
       "        text-align: right;\n",
       "    }\n",
       "</style>\n",
       "<table border=\"1\" class=\"dataframe\">\n",
       "  <thead>\n",
       "    <tr style=\"text-align: right;\">\n",
       "      <th></th>\n",
       "      <th>count</th>\n",
       "      <th>unique</th>\n",
       "      <th>top</th>\n",
       "      <th>freq</th>\n",
       "      <th>first</th>\n",
       "      <th>last</th>\n",
       "    </tr>\n",
       "  </thead>\n",
       "  <tbody>\n",
       "    <tr>\n",
       "      <th>Date</th>\n",
       "      <td>5020</td>\n",
       "      <td>365</td>\n",
       "      <td>2022-03-02 00:00:00</td>\n",
       "      <td>31</td>\n",
       "      <td>2022-01-01</td>\n",
       "      <td>2022-12-31</td>\n",
       "    </tr>\n",
       "    <tr>\n",
       "      <th>ProductName</th>\n",
       "      <td>5020</td>\n",
       "      <td>10</td>\n",
       "      <td>Thai Tea</td>\n",
       "      <td>814</td>\n",
       "      <td>NaT</td>\n",
       "      <td>NaT</td>\n",
       "    </tr>\n",
       "    <tr>\n",
       "      <th>Gender</th>\n",
       "      <td>5020</td>\n",
       "      <td>2</td>\n",
       "      <td>0</td>\n",
       "      <td>2746</td>\n",
       "      <td>NaT</td>\n",
       "      <td>NaT</td>\n",
       "    </tr>\n",
       "    <tr>\n",
       "      <th>MaritalStatus</th>\n",
       "      <td>4976</td>\n",
       "      <td>2</td>\n",
       "      <td>Married</td>\n",
       "      <td>3779</td>\n",
       "      <td>NaT</td>\n",
       "      <td>NaT</td>\n",
       "    </tr>\n",
       "    <tr>\n",
       "      <th>StoreName</th>\n",
       "      <td>5020</td>\n",
       "      <td>12</td>\n",
       "      <td>Lingga</td>\n",
       "      <td>738</td>\n",
       "      <td>NaT</td>\n",
       "      <td>NaT</td>\n",
       "    </tr>\n",
       "    <tr>\n",
       "      <th>GroupStore</th>\n",
       "      <td>5020</td>\n",
       "      <td>7</td>\n",
       "      <td>Prima</td>\n",
       "      <td>1085</td>\n",
       "      <td>NaT</td>\n",
       "      <td>NaT</td>\n",
       "    </tr>\n",
       "    <tr>\n",
       "      <th>Type</th>\n",
       "      <td>5020</td>\n",
       "      <td>2</td>\n",
       "      <td>General Trade</td>\n",
       "      <td>2851</td>\n",
       "      <td>NaT</td>\n",
       "      <td>NaT</td>\n",
       "    </tr>\n",
       "    <tr>\n",
       "      <th>TransactionID</th>\n",
       "      <td>5020</td>\n",
       "      <td>4908</td>\n",
       "      <td>TR71313</td>\n",
       "      <td>3</td>\n",
       "      <td>NaT</td>\n",
       "      <td>NaT</td>\n",
       "    </tr>\n",
       "    <tr>\n",
       "      <th>ProductID</th>\n",
       "      <td>5020</td>\n",
       "      <td>10</td>\n",
       "      <td>P5</td>\n",
       "      <td>814</td>\n",
       "      <td>NaT</td>\n",
       "      <td>NaT</td>\n",
       "    </tr>\n",
       "    <tr>\n",
       "      <th>CustomerID</th>\n",
       "      <td>5020</td>\n",
       "      <td>447</td>\n",
       "      <td>156</td>\n",
       "      <td>21</td>\n",
       "      <td>NaT</td>\n",
       "      <td>NaT</td>\n",
       "    </tr>\n",
       "    <tr>\n",
       "      <th>StoreID</th>\n",
       "      <td>5020</td>\n",
       "      <td>14</td>\n",
       "      <td>9</td>\n",
       "      <td>370</td>\n",
       "      <td>NaT</td>\n",
       "      <td>NaT</td>\n",
       "    </tr>\n",
       "  </tbody>\n",
       "</table>\n",
       "</div>"
      ],
      "text/plain": [
       "              count unique                  top  freq      first       last\n",
       "Date           5020    365  2022-03-02 00:00:00    31 2022-01-01 2022-12-31\n",
       "ProductName    5020     10             Thai Tea   814        NaT        NaT\n",
       "Gender         5020      2                    0  2746        NaT        NaT\n",
       "MaritalStatus  4976      2              Married  3779        NaT        NaT\n",
       "StoreName      5020     12               Lingga   738        NaT        NaT\n",
       "GroupStore     5020      7                Prima  1085        NaT        NaT\n",
       "Type           5020      2        General Trade  2851        NaT        NaT\n",
       "TransactionID  5020   4908              TR71313     3        NaT        NaT\n",
       "ProductID      5020     10                   P5   814        NaT        NaT\n",
       "CustomerID     5020    447                  156    21        NaT        NaT\n",
       "StoreID        5020     14                    9   370        NaT        NaT"
      ]
     },
     "execution_count": 26,
     "metadata": {},
     "output_type": "execute_result"
    }
   ],
   "source": [
    "dfc = df.copy()\n",
    "cat = (cat_cols + cat_id_cols).copy()\n",
    "for i in cat:\n",
    "    dfc[i] = dfc[i].astype(\"category\")\n",
    "cat.insert(0, \"Date\")\n",
    "dfc[cat].describe().transpose()"
   ]
  },
  {
   "cell_type": "code",
   "execution_count": 27,
   "id": "326d4163-6c6d-48ab-aab9-e89539f94822",
   "metadata": {},
   "outputs": [
    {
     "name": "stdout",
     "output_type": "stream",
     "text": [
      "===== TransactionID =====\n",
      "['TR11369', 'TR89318', 'TR9106', 'TR4331', 'TR6445', 'TR38909', 'TR36491', 'TR20045', 'TR12061', 'TR39272', '.....']\n",
      "\n",
      "===== Date =====\n",
      "[numpy.datetime64('2022-01-01T00:00:00.000000000'), numpy.datetime64('2022-07-17T00:00:00.000000000'), numpy.datetime64('2022-09-26T00:00:00.000000000'), numpy.datetime64('2022-01-08T00:00:00.000000000'), numpy.datetime64('2022-01-10T00:00:00.000000000'), numpy.datetime64('2022-03-04T00:00:00.000000000'), numpy.datetime64('2022-01-03T00:00:00.000000000'), numpy.datetime64('2022-01-20T00:00:00.000000000'), numpy.datetime64('2022-03-28T00:00:00.000000000'), numpy.datetime64('2022-12-21T00:00:00.000000000'), '.....']\n",
      "\n",
      "===== Price =====\n",
      "[7500, 10000, 3200, 15000, 4200, 8800, 16000, 12000, 9400, 18000, '.....']\n",
      "\n",
      "===== Qty =====\n",
      "[4, 1, 3, 5, 6, 2, 7, 10, 8, 9, '.....']\n",
      "\n",
      "===== TotalAmount =====\n",
      "[30000, 7500, 22500, 37500, 45000, 15000, 70000, 50000, 10000, 20000, '.....']\n",
      "\n",
      "===== ProductID =====\n",
      "['P3', 'P9', 'P2', 'P10', 'P5', 'P1', 'P8', 'P4', 'P7', 'P6', '.....']\n",
      "\n",
      "===== ProductName =====\n",
      "['Crackers', 'Yoghurt', 'Ginger Candy', 'Cheese Stick', 'Thai Tea', 'Choco Bar', 'Oat', 'Potato Chip', 'Coffee Candy', 'Cashew', '.....']\n",
      "\n",
      "===== CustomerID =====\n",
      "[328, 183, 123, 335, 181, 285, 117, 243, 189, 176, '.....']\n",
      "\n",
      "===== Age =====\n",
      "[36, 27, 34, 29, 33, 20, 45, 38, 59, 54, '.....']\n",
      "\n",
      "===== Gender =====\n",
      "[0, 1]\n",
      "\n",
      "===== MaritalStatus =====\n",
      "['Married', 'Single']\n",
      "\n",
      "===== Income =====\n",
      "[10.53, 0.18, 4.36, 4.74, 9.94, 0.0, 12.55, 3.34, 5.15, 18.32, '.....']\n",
      "\n",
      "===== StoreID =====\n",
      "[12, 11, 6, 1, 5, 9, 14, 4, 8, 13, '.....']\n",
      "\n",
      "===== StoreName =====\n",
      "['Prestasi Utama', 'Sinar Harapan', 'Lingga', 'Prima Tendean', 'Bonafid', 'Priangan', 'Gita Ginara', 'Buana', 'Harapan Baru', 'Prima Kota', '.....']\n",
      "\n",
      "===== GroupStore =====\n",
      "['Prestasi', 'Lingga', 'Prima', 'Gita', 'Priangan', 'Harapan Baru', 'Buana']\n",
      "\n",
      "===== Type =====\n",
      "['General Trade', 'Modern Trade']\n",
      "\n",
      "===== Latitude =====\n",
      "[-2.990934, 0.533505, -5.135399, -6.2, -7.250445, -3.654703, -5.45, -6.966667, 5.54829, -1.26916, '.....']\n",
      "\n",
      "===== Longitude =====\n",
      "[104.756554, 101.447403, 119.42379, 106.816666, 112.768845, 128.190643, 105.26667, 110.416664, 95.323753, 116.825264, '.....']\n",
      "\n"
     ]
    }
   ],
   "source": [
    "#cek unique value\n",
    "dfc = df.copy()\n",
    "dfc['MaritalStatus'] = dfc['MaritalStatus'].fillna(dfc['MaritalStatus'].mode()[0])\n",
    "for x in dfc.columns :         \n",
    "    unq = list(dfc[x].unique())\n",
    "    sorted(unq)\n",
    "    \n",
    "    print (f'===== {x} =====')\n",
    "    if len(unq) >= 10:\n",
    "        unq = list(unq[:10])+['.....']\n",
    "        print (f'{unq}')\n",
    "    else:\n",
    "        print (f'{unq}')\n",
    "    print()"
   ]
  },
  {
   "cell_type": "code",
   "execution_count": 28,
   "id": "df334ad2-053e-46e0-b079-827077c72fe1",
   "metadata": {},
   "outputs": [
    {
     "name": "stdout",
     "output_type": "stream",
     "text": [
      "Date\n",
      "2022-03-02    31\n",
      "2022-07-01    27\n",
      "2022-03-03    27\n",
      "2022-04-01    26\n",
      "2022-01-15    25\n",
      "2022-12-01    25\n",
      "2022-12-24    24\n",
      "2022-09-26    24\n",
      "2022-05-19    24\n",
      "2022-03-11    24\n",
      "Name: Date, dtype: int64\n",
      "\n",
      "ProductName\n",
      "Thai Tea        814\n",
      "Cheese Stick    620\n",
      "Ginger Candy    530\n",
      "Coffee Candy    522\n",
      "Crackers        519\n",
      "Yoghurt         488\n",
      "Oat             485\n",
      "Choco Bar       397\n",
      "Potato Chip     390\n",
      "Cashew          255\n",
      "Name: ProductName, dtype: int64\n",
      "\n",
      "Gender\n",
      "0    2746\n",
      "1    2274\n",
      "Name: Gender, dtype: int64\n",
      "\n",
      "MaritalStatus\n",
      "Married    3779\n",
      "Single     1197\n",
      "Name: MaritalStatus, dtype: int64\n",
      "\n",
      "StoreName\n",
      "Lingga              738\n",
      "Sinar Harapan       698\n",
      "Buana               368\n",
      "Prima Kota          367\n",
      "Prima Kelapa Dua    364\n",
      "Prestasi Utama      363\n",
      "Bonafid             362\n",
      "Harapan Baru        355\n",
      "Buana Indah         355\n",
      "Prima Tendean       354\n",
      "Name: StoreName, dtype: int64\n",
      "\n",
      "GroupStore\n",
      "Prima           1085\n",
      "Lingga           738\n",
      "Buana            723\n",
      "Prestasi         718\n",
      "Gita             712\n",
      "Harapan Baru     698\n",
      "Priangan         346\n",
      "Name: GroupStore, dtype: int64\n",
      "\n",
      "Type\n",
      "General Trade    2851\n",
      "Modern Trade     2169\n",
      "Name: Type, dtype: int64\n",
      "\n"
     ]
    }
   ],
   "source": [
    "cat = cat_cols.copy()\n",
    "cat.insert(0, \"Date\")\n",
    "for i in cat:\n",
    "    print(i)\n",
    "    print(df[i].value_counts().iloc[:10])\n",
    "    print()"
   ]
  },
  {
   "cell_type": "markdown",
   "id": "3fcd3f19-85ae-424d-a96e-4255dada4e38",
   "metadata": {},
   "source": [
    "# **⚙ Data Understanding ⚙**"
   ]
  },
  {
   "cell_type": "markdown",
   "id": "f1a2538c-937d-4717-a8bc-8d5073b1ddf6",
   "metadata": {},
   "source": [
    "## **📌 Handling Duplicate Rows**"
   ]
  },
  {
   "cell_type": "code",
   "execution_count": 29,
   "id": "308c6e45-0ba5-4200-8576-c32335fe739a",
   "metadata": {},
   "outputs": [
    {
     "data": {
      "text/html": [
       "<div>\n",
       "<style scoped>\n",
       "    .dataframe tbody tr th:only-of-type {\n",
       "        vertical-align: middle;\n",
       "    }\n",
       "\n",
       "    .dataframe tbody tr th {\n",
       "        vertical-align: top;\n",
       "    }\n",
       "\n",
       "    .dataframe thead th {\n",
       "        text-align: right;\n",
       "    }\n",
       "</style>\n",
       "<table border=\"1\" class=\"dataframe\">\n",
       "  <thead>\n",
       "    <tr style=\"text-align: right;\">\n",
       "      <th></th>\n",
       "      <th>TransactionID</th>\n",
       "      <th>Date</th>\n",
       "      <th>Price</th>\n",
       "      <th>Qty</th>\n",
       "      <th>TotalAmount</th>\n",
       "      <th>ProductID</th>\n",
       "      <th>ProductName</th>\n",
       "      <th>CustomerID</th>\n",
       "      <th>Age</th>\n",
       "      <th>Gender</th>\n",
       "      <th>MaritalStatus</th>\n",
       "      <th>Income</th>\n",
       "      <th>StoreID</th>\n",
       "      <th>StoreName</th>\n",
       "      <th>GroupStore</th>\n",
       "      <th>Type</th>\n",
       "      <th>Latitude</th>\n",
       "      <th>Longitude</th>\n",
       "    </tr>\n",
       "  </thead>\n",
       "  <tbody>\n",
       "  </tbody>\n",
       "</table>\n",
       "</div>"
      ],
      "text/plain": [
       "Empty DataFrame\n",
       "Columns: [TransactionID, Date, Price, Qty, TotalAmount, ProductID, ProductName, CustomerID, Age, Gender, MaritalStatus, Income, StoreID, StoreName, GroupStore, Type, Latitude, Longitude]\n",
       "Index: []"
      ]
     },
     "execution_count": 29,
     "metadata": {},
     "output_type": "execute_result"
    }
   ],
   "source": [
    "df[df.duplicated(keep=False)].sort_values(by=list(df.columns.values))"
   ]
  },
  {
   "cell_type": "code",
   "execution_count": 30,
   "id": "5d01736a-fc22-4eb8-a048-29d3c175269a",
   "metadata": {},
   "outputs": [
    {
     "data": {
      "text/plain": [
       "0"
      ]
     },
     "execution_count": 30,
     "metadata": {},
     "output_type": "execute_result"
    }
   ],
   "source": [
    "df.duplicated().sum()"
   ]
  },
  {
   "cell_type": "code",
   "execution_count": 31,
   "id": "bf648033-290f-4558-b9ae-a1f2e7ac9fc0",
   "metadata": {},
   "outputs": [
    {
     "name": "stdout",
     "output_type": "stream",
     "text": [
      "Data Frame Dimension Before Duplicate Removal: (5020, 18)\n",
      "Data Frame Dimension After Duplicate Removal: (5020, 18)\n"
     ]
    }
   ],
   "source": [
    "print(f\"Data Frame Dimension Before Duplicate Removal: {df.shape}\")\n",
    "df = df.drop_duplicates().reset_index(drop=True)\n",
    "print(f\"Data Frame Dimension After Duplicate Removal: {df.shape}\")"
   ]
  },
  {
   "cell_type": "code",
   "execution_count": 32,
   "id": "a40ed92f-de05-44c9-ad95-7bfe51a84382",
   "metadata": {},
   "outputs": [
    {
     "data": {
      "text/html": [
       "<div>\n",
       "<style scoped>\n",
       "    .dataframe tbody tr th:only-of-type {\n",
       "        vertical-align: middle;\n",
       "    }\n",
       "\n",
       "    .dataframe tbody tr th {\n",
       "        vertical-align: top;\n",
       "    }\n",
       "\n",
       "    .dataframe thead th {\n",
       "        text-align: right;\n",
       "    }\n",
       "</style>\n",
       "<table border=\"1\" class=\"dataframe\">\n",
       "  <thead>\n",
       "    <tr style=\"text-align: right;\">\n",
       "      <th></th>\n",
       "      <th>TransactionID</th>\n",
       "      <th>Date</th>\n",
       "      <th>Price</th>\n",
       "      <th>Qty</th>\n",
       "      <th>TotalAmount</th>\n",
       "      <th>ProductID</th>\n",
       "      <th>ProductName</th>\n",
       "      <th>CustomerID</th>\n",
       "      <th>Age</th>\n",
       "      <th>Gender</th>\n",
       "      <th>MaritalStatus</th>\n",
       "      <th>Income</th>\n",
       "      <th>StoreID</th>\n",
       "      <th>StoreName</th>\n",
       "      <th>GroupStore</th>\n",
       "      <th>Type</th>\n",
       "      <th>Latitude</th>\n",
       "      <th>Longitude</th>\n",
       "    </tr>\n",
       "  </thead>\n",
       "  <tbody>\n",
       "  </tbody>\n",
       "</table>\n",
       "</div>"
      ],
      "text/plain": [
       "Empty DataFrame\n",
       "Columns: [TransactionID, Date, Price, Qty, TotalAmount, ProductID, ProductName, CustomerID, Age, Gender, MaritalStatus, Income, StoreID, StoreName, GroupStore, Type, Latitude, Longitude]\n",
       "Index: []"
      ]
     },
     "execution_count": 32,
     "metadata": {},
     "output_type": "execute_result"
    }
   ],
   "source": [
    "df[df.duplicated(subset=[\"TransactionID\", \"CustomerID\"], keep=False)].sort_values(by=list(df.columns.values)).head(6)"
   ]
  },
  {
   "cell_type": "code",
   "execution_count": 33,
   "id": "b12ea8b9-2ea7-4b3c-ad0b-4e4cadbafa49",
   "metadata": {},
   "outputs": [
    {
     "data": {
      "text/plain": [
       "0"
      ]
     },
     "execution_count": 33,
     "metadata": {},
     "output_type": "execute_result"
    }
   ],
   "source": [
    "df.duplicated(subset=[\"TransactionID\", \"CustomerID\"]).sum()"
   ]
  },
  {
   "cell_type": "markdown",
   "id": "6211f9f6-9b1f-4742-9d14-b609b86cac4d",
   "metadata": {},
   "source": [
    "## **📌 Handling Missing Value**"
   ]
  },
  {
   "cell_type": "markdown",
   "id": "7149c294-c3c3-4eca-8869-39c385e30dd2",
   "metadata": {},
   "source": [
    "Melakukan pengecekan jumlah Missing Values dan Persentase nya"
   ]
  },
  {
   "cell_type": "code",
   "execution_count": 34,
   "id": "bcdfb12f-ac58-4a13-b46b-f7d4a4a31378",
   "metadata": {},
   "outputs": [
    {
     "name": "stdout",
     "output_type": "stream",
     "text": [
      "Missing values status: True\n"
     ]
    },
    {
     "data": {
      "text/html": [
       "<style type=\"text/css\">\n",
       "#T_c0cbd_row0_col0, #T_c0cbd_row0_col1 {\n",
       "  background-color: #08306b;\n",
       "  color: #f1f1f1;\n",
       "}\n",
       "#T_c0cbd_row1_col0, #T_c0cbd_row1_col1, #T_c0cbd_row2_col0, #T_c0cbd_row2_col1, #T_c0cbd_row3_col0, #T_c0cbd_row3_col1, #T_c0cbd_row4_col0, #T_c0cbd_row4_col1, #T_c0cbd_row5_col0, #T_c0cbd_row5_col1, #T_c0cbd_row6_col0, #T_c0cbd_row6_col1, #T_c0cbd_row7_col0, #T_c0cbd_row7_col1, #T_c0cbd_row8_col0, #T_c0cbd_row8_col1, #T_c0cbd_row9_col0, #T_c0cbd_row9_col1, #T_c0cbd_row10_col0, #T_c0cbd_row10_col1, #T_c0cbd_row11_col0, #T_c0cbd_row11_col1, #T_c0cbd_row12_col0, #T_c0cbd_row12_col1, #T_c0cbd_row13_col0, #T_c0cbd_row13_col1, #T_c0cbd_row14_col0, #T_c0cbd_row14_col1, #T_c0cbd_row15_col0, #T_c0cbd_row15_col1, #T_c0cbd_row16_col0, #T_c0cbd_row16_col1, #T_c0cbd_row17_col0, #T_c0cbd_row17_col1 {\n",
       "  background-color: #f7fbff;\n",
       "  color: #000000;\n",
       "}\n",
       "</style>\n",
       "<table id=\"T_c0cbd\">\n",
       "  <thead>\n",
       "    <tr>\n",
       "      <th class=\"blank level0\" >&nbsp;</th>\n",
       "      <th id=\"T_c0cbd_level0_col0\" class=\"col_heading level0 col0\" >Total Null Values</th>\n",
       "      <th id=\"T_c0cbd_level0_col1\" class=\"col_heading level0 col1\" >Percentage</th>\n",
       "      <th id=\"T_c0cbd_level0_col2\" class=\"col_heading level0 col2\" >Data Type</th>\n",
       "    </tr>\n",
       "  </thead>\n",
       "  <tbody>\n",
       "    <tr>\n",
       "      <th id=\"T_c0cbd_level0_row0\" class=\"row_heading level0 row0\" >MaritalStatus</th>\n",
       "      <td id=\"T_c0cbd_row0_col0\" class=\"data row0 col0\" >44</td>\n",
       "      <td id=\"T_c0cbd_row0_col1\" class=\"data row0 col1\" >0.876494</td>\n",
       "      <td id=\"T_c0cbd_row0_col2\" class=\"data row0 col2\" >object</td>\n",
       "    </tr>\n",
       "    <tr>\n",
       "      <th id=\"T_c0cbd_level0_row1\" class=\"row_heading level0 row1\" >TransactionID</th>\n",
       "      <td id=\"T_c0cbd_row1_col0\" class=\"data row1 col0\" >0</td>\n",
       "      <td id=\"T_c0cbd_row1_col1\" class=\"data row1 col1\" >0.000000</td>\n",
       "      <td id=\"T_c0cbd_row1_col2\" class=\"data row1 col2\" >object</td>\n",
       "    </tr>\n",
       "    <tr>\n",
       "      <th id=\"T_c0cbd_level0_row2\" class=\"row_heading level0 row2\" >Date</th>\n",
       "      <td id=\"T_c0cbd_row2_col0\" class=\"data row2 col0\" >0</td>\n",
       "      <td id=\"T_c0cbd_row2_col1\" class=\"data row2 col1\" >0.000000</td>\n",
       "      <td id=\"T_c0cbd_row2_col2\" class=\"data row2 col2\" >datetime64[ns]</td>\n",
       "    </tr>\n",
       "    <tr>\n",
       "      <th id=\"T_c0cbd_level0_row3\" class=\"row_heading level0 row3\" >Price</th>\n",
       "      <td id=\"T_c0cbd_row3_col0\" class=\"data row3 col0\" >0</td>\n",
       "      <td id=\"T_c0cbd_row3_col1\" class=\"data row3 col1\" >0.000000</td>\n",
       "      <td id=\"T_c0cbd_row3_col2\" class=\"data row3 col2\" >int64</td>\n",
       "    </tr>\n",
       "    <tr>\n",
       "      <th id=\"T_c0cbd_level0_row4\" class=\"row_heading level0 row4\" >Qty</th>\n",
       "      <td id=\"T_c0cbd_row4_col0\" class=\"data row4 col0\" >0</td>\n",
       "      <td id=\"T_c0cbd_row4_col1\" class=\"data row4 col1\" >0.000000</td>\n",
       "      <td id=\"T_c0cbd_row4_col2\" class=\"data row4 col2\" >int64</td>\n",
       "    </tr>\n",
       "    <tr>\n",
       "      <th id=\"T_c0cbd_level0_row5\" class=\"row_heading level0 row5\" >TotalAmount</th>\n",
       "      <td id=\"T_c0cbd_row5_col0\" class=\"data row5 col0\" >0</td>\n",
       "      <td id=\"T_c0cbd_row5_col1\" class=\"data row5 col1\" >0.000000</td>\n",
       "      <td id=\"T_c0cbd_row5_col2\" class=\"data row5 col2\" >int64</td>\n",
       "    </tr>\n",
       "    <tr>\n",
       "      <th id=\"T_c0cbd_level0_row6\" class=\"row_heading level0 row6\" >ProductID</th>\n",
       "      <td id=\"T_c0cbd_row6_col0\" class=\"data row6 col0\" >0</td>\n",
       "      <td id=\"T_c0cbd_row6_col1\" class=\"data row6 col1\" >0.000000</td>\n",
       "      <td id=\"T_c0cbd_row6_col2\" class=\"data row6 col2\" >object</td>\n",
       "    </tr>\n",
       "    <tr>\n",
       "      <th id=\"T_c0cbd_level0_row7\" class=\"row_heading level0 row7\" >ProductName</th>\n",
       "      <td id=\"T_c0cbd_row7_col0\" class=\"data row7 col0\" >0</td>\n",
       "      <td id=\"T_c0cbd_row7_col1\" class=\"data row7 col1\" >0.000000</td>\n",
       "      <td id=\"T_c0cbd_row7_col2\" class=\"data row7 col2\" >object</td>\n",
       "    </tr>\n",
       "    <tr>\n",
       "      <th id=\"T_c0cbd_level0_row8\" class=\"row_heading level0 row8\" >CustomerID</th>\n",
       "      <td id=\"T_c0cbd_row8_col0\" class=\"data row8 col0\" >0</td>\n",
       "      <td id=\"T_c0cbd_row8_col1\" class=\"data row8 col1\" >0.000000</td>\n",
       "      <td id=\"T_c0cbd_row8_col2\" class=\"data row8 col2\" >int64</td>\n",
       "    </tr>\n",
       "    <tr>\n",
       "      <th id=\"T_c0cbd_level0_row9\" class=\"row_heading level0 row9\" >Age</th>\n",
       "      <td id=\"T_c0cbd_row9_col0\" class=\"data row9 col0\" >0</td>\n",
       "      <td id=\"T_c0cbd_row9_col1\" class=\"data row9 col1\" >0.000000</td>\n",
       "      <td id=\"T_c0cbd_row9_col2\" class=\"data row9 col2\" >int64</td>\n",
       "    </tr>\n",
       "    <tr>\n",
       "      <th id=\"T_c0cbd_level0_row10\" class=\"row_heading level0 row10\" >Gender</th>\n",
       "      <td id=\"T_c0cbd_row10_col0\" class=\"data row10 col0\" >0</td>\n",
       "      <td id=\"T_c0cbd_row10_col1\" class=\"data row10 col1\" >0.000000</td>\n",
       "      <td id=\"T_c0cbd_row10_col2\" class=\"data row10 col2\" >int64</td>\n",
       "    </tr>\n",
       "    <tr>\n",
       "      <th id=\"T_c0cbd_level0_row11\" class=\"row_heading level0 row11\" >Income</th>\n",
       "      <td id=\"T_c0cbd_row11_col0\" class=\"data row11 col0\" >0</td>\n",
       "      <td id=\"T_c0cbd_row11_col1\" class=\"data row11 col1\" >0.000000</td>\n",
       "      <td id=\"T_c0cbd_row11_col2\" class=\"data row11 col2\" >float64</td>\n",
       "    </tr>\n",
       "    <tr>\n",
       "      <th id=\"T_c0cbd_level0_row12\" class=\"row_heading level0 row12\" >StoreID</th>\n",
       "      <td id=\"T_c0cbd_row12_col0\" class=\"data row12 col0\" >0</td>\n",
       "      <td id=\"T_c0cbd_row12_col1\" class=\"data row12 col1\" >0.000000</td>\n",
       "      <td id=\"T_c0cbd_row12_col2\" class=\"data row12 col2\" >int64</td>\n",
       "    </tr>\n",
       "    <tr>\n",
       "      <th id=\"T_c0cbd_level0_row13\" class=\"row_heading level0 row13\" >StoreName</th>\n",
       "      <td id=\"T_c0cbd_row13_col0\" class=\"data row13 col0\" >0</td>\n",
       "      <td id=\"T_c0cbd_row13_col1\" class=\"data row13 col1\" >0.000000</td>\n",
       "      <td id=\"T_c0cbd_row13_col2\" class=\"data row13 col2\" >object</td>\n",
       "    </tr>\n",
       "    <tr>\n",
       "      <th id=\"T_c0cbd_level0_row14\" class=\"row_heading level0 row14\" >GroupStore</th>\n",
       "      <td id=\"T_c0cbd_row14_col0\" class=\"data row14 col0\" >0</td>\n",
       "      <td id=\"T_c0cbd_row14_col1\" class=\"data row14 col1\" >0.000000</td>\n",
       "      <td id=\"T_c0cbd_row14_col2\" class=\"data row14 col2\" >object</td>\n",
       "    </tr>\n",
       "    <tr>\n",
       "      <th id=\"T_c0cbd_level0_row15\" class=\"row_heading level0 row15\" >Type</th>\n",
       "      <td id=\"T_c0cbd_row15_col0\" class=\"data row15 col0\" >0</td>\n",
       "      <td id=\"T_c0cbd_row15_col1\" class=\"data row15 col1\" >0.000000</td>\n",
       "      <td id=\"T_c0cbd_row15_col2\" class=\"data row15 col2\" >object</td>\n",
       "    </tr>\n",
       "    <tr>\n",
       "      <th id=\"T_c0cbd_level0_row16\" class=\"row_heading level0 row16\" >Latitude</th>\n",
       "      <td id=\"T_c0cbd_row16_col0\" class=\"data row16 col0\" >0</td>\n",
       "      <td id=\"T_c0cbd_row16_col1\" class=\"data row16 col1\" >0.000000</td>\n",
       "      <td id=\"T_c0cbd_row16_col2\" class=\"data row16 col2\" >float64</td>\n",
       "    </tr>\n",
       "    <tr>\n",
       "      <th id=\"T_c0cbd_level0_row17\" class=\"row_heading level0 row17\" >Longitude</th>\n",
       "      <td id=\"T_c0cbd_row17_col0\" class=\"data row17 col0\" >0</td>\n",
       "      <td id=\"T_c0cbd_row17_col1\" class=\"data row17 col1\" >0.000000</td>\n",
       "      <td id=\"T_c0cbd_row17_col2\" class=\"data row17 col2\" >float64</td>\n",
       "    </tr>\n",
       "  </tbody>\n",
       "</table>\n"
      ],
      "text/plain": [
       "<pandas.io.formats.style.Styler at 0x1be59cf6380>"
      ]
     },
     "execution_count": 34,
     "metadata": {},
     "output_type": "execute_result"
    }
   ],
   "source": [
    "print('Missing values status:', df.isnull().values.any())\n",
    "nvc = pd.DataFrame(df.isnull().sum(), columns=['Total Null Values'])\n",
    "nvc['Percentage'] = (nvc['Total Null Values']/df.shape[0])*100\n",
    "nvc[\"Data Type\"] = [df[col].dtype for col in df.columns]\n",
    "nvc.sort_values(by=[\"Total Null Values\", \"Percentage\"], ascending=False, inplace=True)\n",
    "nvc.style.background_gradient(cmap='Blues')"
   ]
  },
  {
   "cell_type": "markdown",
   "id": "e80ff570-6262-4f3e-bedd-667e92df6992",
   "metadata": {},
   "source": [
    "### **Imputation**\n",
    "\n",
    "Imputation (Mode), karena Categorical"
   ]
  },
  {
   "cell_type": "code",
   "execution_count": 35,
   "id": "f439e841-331d-4d25-962e-bf0a15992028",
   "metadata": {},
   "outputs": [],
   "source": [
    "# print(\"Jumlah missing values Marital Status sebelum Imputation =\", df[\"MaritalStatus\"].isna().sum())"
   ]
  },
  {
   "cell_type": "markdown",
   "id": "e468041a-9e0d-4ce8-9b51-4916bc2e8fe4",
   "metadata": {},
   "source": [
    "Imputation using `fillna`"
   ]
  },
  {
   "cell_type": "code",
   "execution_count": 36,
   "id": "24cbf879-d396-418d-afda-66078761851f",
   "metadata": {},
   "outputs": [],
   "source": [
    "# mode = df['MaritalStatus'].mode()[0]\n",
    "# df['MaritalStatus'].fillna(mode, inplace=True)\n",
    "# df['MaritalStatus'].isna().sum()"
   ]
  },
  {
   "cell_type": "markdown",
   "id": "4159c73a-9581-4468-baf2-3d196c20c7a4",
   "metadata": {},
   "source": [
    "### **Multivariate Approach**\n",
    "\n",
    "Multivariate Approach (MICE Imputation, KNN Imputer, dll)"
   ]
  },
  {
   "cell_type": "markdown",
   "id": "3ab53349-3600-4aa1-8405-10aee7a4ac15",
   "metadata": {},
   "source": [
    "Dikarenakan pada proses multivariate approach memerlukan semua feature bertipe numerical sehingga untuk data yang masih bertipe object/string dan date akan di drop pada data temp"
   ]
  },
  {
   "cell_type": "code",
   "execution_count": 37,
   "id": "639669cb-8f03-4a31-8ed0-e736191018f1",
   "metadata": {},
   "outputs": [],
   "source": [
    "df_ma = df.copy()"
   ]
  },
  {
   "cell_type": "code",
   "execution_count": 38,
   "id": "1ec91c57-c152-4a8d-bfda-6b29d57fa57b",
   "metadata": {},
   "outputs": [],
   "source": [
    "col_drop = timestamp+cat_id_cols+[\"Latitude\", \"Longitude\"]\n",
    "df_ma = df_ma.drop(col_drop, axis=1)"
   ]
  },
  {
   "cell_type": "code",
   "execution_count": 39,
   "id": "a78feb1e-5b9d-4689-9052-5f2f91596e41",
   "metadata": {},
   "outputs": [
    {
     "name": "stdout",
     "output_type": "stream",
     "text": [
      "['Cashew' 'Cheese Stick' 'Choco Bar' 'Coffee Candy' 'Crackers'\n",
      " 'Ginger Candy' 'Oat' 'Potato Chip' 'Thai Tea' 'Yoghurt']\n",
      "['Bonafid' 'Buana' 'Buana Indah' 'Gita Ginara' 'Harapan Baru' 'Lingga'\n",
      " 'Prestasi Utama' 'Priangan' 'Prima Kelapa Dua' 'Prima Kota'\n",
      " 'Prima Tendean' 'Sinar Harapan']\n",
      "['Buana' 'Gita' 'Harapan Baru' 'Lingga' 'Prestasi' 'Priangan' 'Prima']\n",
      "['General Trade' 'Modern Trade']\n"
     ]
    }
   ],
   "source": [
    "from sklearn.preprocessing import LabelEncoder\n",
    "\n",
    "le = LabelEncoder()\n",
    "\n",
    "for i in [\"ProductName\", \"StoreName\", \"GroupStore\", \"Type\"]:\n",
    "    df_ma[i] = le.fit_transform(df_ma[i])\n",
    "    print(le.classes_)\n",
    "    \n",
    "map_ms = {\n",
    "    'Single' : 0,\n",
    "    'Married' : 1\n",
    "}\n",
    "\n",
    "df_ma['MaritalStatus'] = df_ma['MaritalStatus'].map(map_ms)"
   ]
  },
  {
   "cell_type": "code",
   "execution_count": 40,
   "id": "06b5d68a-9b00-4fa2-b40c-f1eac138439b",
   "metadata": {},
   "outputs": [
    {
     "data": {
      "text/html": [
       "<div>\n",
       "<style scoped>\n",
       "    .dataframe tbody tr th:only-of-type {\n",
       "        vertical-align: middle;\n",
       "    }\n",
       "\n",
       "    .dataframe tbody tr th {\n",
       "        vertical-align: top;\n",
       "    }\n",
       "\n",
       "    .dataframe thead th {\n",
       "        text-align: right;\n",
       "    }\n",
       "</style>\n",
       "<table border=\"1\" class=\"dataframe\">\n",
       "  <thead>\n",
       "    <tr style=\"text-align: right;\">\n",
       "      <th></th>\n",
       "      <th>Price</th>\n",
       "      <th>Qty</th>\n",
       "      <th>TotalAmount</th>\n",
       "      <th>ProductName</th>\n",
       "      <th>Age</th>\n",
       "      <th>Gender</th>\n",
       "      <th>MaritalStatus</th>\n",
       "      <th>Income</th>\n",
       "      <th>StoreName</th>\n",
       "      <th>GroupStore</th>\n",
       "      <th>Type</th>\n",
       "    </tr>\n",
       "  </thead>\n",
       "  <tbody>\n",
       "    <tr>\n",
       "      <th>0</th>\n",
       "      <td>7500</td>\n",
       "      <td>4</td>\n",
       "      <td>30000</td>\n",
       "      <td>4</td>\n",
       "      <td>36</td>\n",
       "      <td>0</td>\n",
       "      <td>1</td>\n",
       "      <td>10.530</td>\n",
       "      <td>6</td>\n",
       "      <td>4</td>\n",
       "      <td>0</td>\n",
       "    </tr>\n",
       "    <tr>\n",
       "      <th>1</th>\n",
       "      <td>7500</td>\n",
       "      <td>1</td>\n",
       "      <td>7500</td>\n",
       "      <td>4</td>\n",
       "      <td>27</td>\n",
       "      <td>1</td>\n",
       "      <td>0</td>\n",
       "      <td>0.180</td>\n",
       "      <td>6</td>\n",
       "      <td>4</td>\n",
       "      <td>0</td>\n",
       "    </tr>\n",
       "    <tr>\n",
       "      <th>2</th>\n",
       "      <td>7500</td>\n",
       "      <td>4</td>\n",
       "      <td>30000</td>\n",
       "      <td>4</td>\n",
       "      <td>34</td>\n",
       "      <td>0</td>\n",
       "      <td>1</td>\n",
       "      <td>4.360</td>\n",
       "      <td>6</td>\n",
       "      <td>4</td>\n",
       "      <td>0</td>\n",
       "    </tr>\n",
       "    <tr>\n",
       "      <th>3</th>\n",
       "      <td>7500</td>\n",
       "      <td>3</td>\n",
       "      <td>22500</td>\n",
       "      <td>4</td>\n",
       "      <td>29</td>\n",
       "      <td>1</td>\n",
       "      <td>0</td>\n",
       "      <td>4.740</td>\n",
       "      <td>6</td>\n",
       "      <td>4</td>\n",
       "      <td>0</td>\n",
       "    </tr>\n",
       "    <tr>\n",
       "      <th>4</th>\n",
       "      <td>7500</td>\n",
       "      <td>4</td>\n",
       "      <td>30000</td>\n",
       "      <td>4</td>\n",
       "      <td>33</td>\n",
       "      <td>1</td>\n",
       "      <td>1</td>\n",
       "      <td>9.940</td>\n",
       "      <td>6</td>\n",
       "      <td>4</td>\n",
       "      <td>0</td>\n",
       "    </tr>\n",
       "  </tbody>\n",
       "</table>\n",
       "</div>"
      ],
      "text/plain": [
       "   Price  Qty  TotalAmount  ProductName  Age  Gender  MaritalStatus  Income  \\\n",
       "0   7500    4        30000            4   36       0              1  10.530   \n",
       "1   7500    1         7500            4   27       1              0   0.180   \n",
       "2   7500    4        30000            4   34       0              1   4.360   \n",
       "3   7500    3        22500            4   29       1              0   4.740   \n",
       "4   7500    4        30000            4   33       1              1   9.940   \n",
       "\n",
       "   StoreName  GroupStore  Type  \n",
       "0          6           4     0  \n",
       "1          6           4     0  \n",
       "2          6           4     0  \n",
       "3          6           4     0  \n",
       "4          6           4     0  "
      ]
     },
     "execution_count": 40,
     "metadata": {},
     "output_type": "execute_result"
    }
   ],
   "source": [
    "df_ma.head()"
   ]
  },
  {
   "cell_type": "markdown",
   "id": "9348d262-6b7c-49cc-a568-1ba9c181090e",
   "metadata": {},
   "source": [
    "#### **Implementation Multivariate Approach**\n",
    "\n",
    "**Two main methods we use here to impute missing values**\n",
    "\n",
    "- `KNN Imputer` or K-Nearest Neighbor\n",
    "- `MICE` or Multiple Imputation by Chained Equation\n",
    "\n",
    "Here, Multiple imputations are performed using `sklearn` and `miceforest`"
   ]
  },
  {
   "cell_type": "markdown",
   "id": "634a107b-a1a7-41d8-9af9-fc0e86d937d2",
   "metadata": {},
   "source": [
    "#### **Imputation using `KNNImputer`**"
   ]
  },
  {
   "cell_type": "code",
   "execution_count": 41,
   "id": "8c7a8bd8-eff1-47ec-b74c-c97d8f08c7c3",
   "metadata": {},
   "outputs": [],
   "source": [
    "# print(\"Jumlah missing values Marital Status sebelum Imputation =\", df[\"MaritalStatus\"].isna().sum())"
   ]
  },
  {
   "cell_type": "code",
   "execution_count": 42,
   "id": "d8bbe71f-c029-482f-884d-fd3ae7519cff",
   "metadata": {},
   "outputs": [],
   "source": [
    "# from sklearn.impute import KNNImputer\n",
    "\n",
    "# # Train\n",
    "# knn_imputer = KNNImputer(n_neighbors=5)\n",
    "# df_imputed = pd.DataFrame(\n",
    "#     knn_imputer.fit_transform(df_ma),\n",
    "#     columns=df_ma.columns\n",
    "# )\n",
    "# df[\"MaritalStatus\"] = np.where(df_imputed[\"MaritalStatus\"] > 0.5, \"Married\", \"Single\").copy()\n",
    "# df[\"MaritalStatus\"].unique()"
   ]
  },
  {
   "cell_type": "code",
   "execution_count": 43,
   "id": "ce000668-4c49-4063-a494-84f9b8542e82",
   "metadata": {},
   "outputs": [],
   "source": [
    "# print(\"Jumlah missing values Marital Status sebelum Imputation =\", df[\"MaritalStatus\"].isna().sum())"
   ]
  },
  {
   "cell_type": "markdown",
   "id": "54b0786b-5d3e-4ed3-bdfb-feb007de8ca8",
   "metadata": {},
   "source": [
    "#### **Imputation using `MICE` with `IterativeImputer`**"
   ]
  },
  {
   "cell_type": "code",
   "execution_count": 44,
   "id": "6a3fbdb3-eb58-4bdf-9b0c-00007ddc35c5",
   "metadata": {},
   "outputs": [],
   "source": [
    "# print(\"Jumlah missing values Marital Status sebelum Imputation =\", df[\"MaritalStatus\"].isna().sum())"
   ]
  },
  {
   "cell_type": "code",
   "execution_count": 45,
   "id": "fcf1a3b9-929b-4582-9c13-f79067821f3a",
   "metadata": {},
   "outputs": [],
   "source": [
    "# # Note: make sure to import the enable_iterative_imputer function before \n",
    "# # you import the IterativeImputer, as the feature is classified as \n",
    "# # experimental, and failing to do so will result in an ImportError.\n",
    "# from sklearn.experimental import enable_iterative_imputer\n",
    "# from sklearn.impute import IterativeImputer\n",
    "# imputer = IterativeImputer(max_iter=10, random_state=0)\n",
    "\n",
    "# # Train\n",
    "# df_imputed = pd.DataFrame(\n",
    "#     imputer.fit_transform(df_ma),\n",
    "#     columns=df_ma.columns\n",
    "# )\n",
    "\n",
    "# df[\"MaritalStatus\"] = np.where(df_imputed[\"MaritalStatus\"] > 0.5, \"Married\", \"Single\").copy()\n",
    "# df[\"MaritalStatus\"].unique()"
   ]
  },
  {
   "cell_type": "code",
   "execution_count": 46,
   "id": "07b8b65e-caa7-416f-b8e4-554c324da83c",
   "metadata": {},
   "outputs": [],
   "source": [
    "# print(\"Jumlah missing values Marital Status sebelum Imputation =\", df[\"MaritalStatus\"].isna().sum())"
   ]
  },
  {
   "cell_type": "markdown",
   "id": "28a79e93-f493-4e30-80f6-3c408c16fbfa",
   "metadata": {},
   "source": [
    "#### **Imputation using `MICE` with `LightGBM`**"
   ]
  },
  {
   "cell_type": "code",
   "execution_count": 47,
   "id": "2d8c379f-ca02-4bf4-a27f-c6b17ea8c867",
   "metadata": {},
   "outputs": [
    {
     "name": "stdout",
     "output_type": "stream",
     "text": [
      "Jumlah missing values Marital Status sebelum Imputation = 44\n"
     ]
    }
   ],
   "source": [
    "print(\"Jumlah missing values Marital Status sebelum Imputation =\", df[\"MaritalStatus\"].isna().sum())"
   ]
  },
  {
   "cell_type": "code",
   "execution_count": 48,
   "id": "638b51af-173e-42cb-908a-19d2d4afb4fa",
   "metadata": {},
   "outputs": [
    {
     "data": {
      "text/plain": [
       "array(['Married', 'Single'], dtype=object)"
      ]
     },
     "execution_count": 48,
     "metadata": {},
     "output_type": "execute_result"
    }
   ],
   "source": [
    "import miceforest as mf\n",
    "\n",
    "df_ma_amp = mf.ampute_data(df_ma, perc=0.25,random_state=1991)\n",
    "\n",
    "# Create kernel. \n",
    "kds = mf.ImputationKernel(\n",
    "  data = df_ma,\n",
    "  save_all_iterations=True,\n",
    "  random_state=1991\n",
    ")\n",
    "\n",
    "# Run the MICE algorithm\n",
    "kds.mice(iterations=5, n_estimators=50)\n",
    "\n",
    "# Return the completed dataset.\n",
    "df_imputed = kds.complete_data()\n",
    "df[\"MaritalStatus\"] = np.where(df_imputed[\"MaritalStatus\"] > 0.5, \"Married\", \"Single\").copy()\n",
    "df[\"MaritalStatus\"].unique()"
   ]
  },
  {
   "cell_type": "code",
   "execution_count": 49,
   "id": "7b423d4d-7d71-447d-90d5-df5c07bad458",
   "metadata": {},
   "outputs": [
    {
     "name": "stdout",
     "output_type": "stream",
     "text": [
      "Jumlah missing values Marital Status sebelum Imputation = 0\n"
     ]
    }
   ],
   "source": [
    "print(\"Jumlah missing values Marital Status sebelum Imputation =\", df[\"MaritalStatus\"].isna().sum())"
   ]
  },
  {
   "cell_type": "markdown",
   "id": "a9401c2c-74e5-41bf-bfda-5366483748fc",
   "metadata": {},
   "source": [
    "### **📌 New DataFrame for K-Means Modeling** ###"
   ]
  },
  {
   "cell_type": "code",
   "execution_count": 50,
   "id": "3c23b7c1-d17b-4928-afa0-51c2c24b37c9",
   "metadata": {},
   "outputs": [
    {
     "data": {
      "text/html": [
       "<div>\n",
       "<style scoped>\n",
       "    .dataframe tbody tr th:only-of-type {\n",
       "        vertical-align: middle;\n",
       "    }\n",
       "\n",
       "    .dataframe tbody tr th {\n",
       "        vertical-align: top;\n",
       "    }\n",
       "\n",
       "    .dataframe thead th {\n",
       "        text-align: right;\n",
       "    }\n",
       "</style>\n",
       "<table border=\"1\" class=\"dataframe\">\n",
       "  <thead>\n",
       "    <tr style=\"text-align: right;\">\n",
       "      <th></th>\n",
       "      <th>TransactionID</th>\n",
       "      <th>Date</th>\n",
       "      <th>Price</th>\n",
       "      <th>Qty</th>\n",
       "      <th>TotalAmount</th>\n",
       "      <th>ProductID</th>\n",
       "      <th>ProductName</th>\n",
       "      <th>CustomerID</th>\n",
       "      <th>Age</th>\n",
       "      <th>Gender</th>\n",
       "      <th>MaritalStatus</th>\n",
       "      <th>Income</th>\n",
       "      <th>StoreID</th>\n",
       "      <th>StoreName</th>\n",
       "      <th>GroupStore</th>\n",
       "      <th>Type</th>\n",
       "      <th>Latitude</th>\n",
       "      <th>Longitude</th>\n",
       "    </tr>\n",
       "  </thead>\n",
       "  <tbody>\n",
       "    <tr>\n",
       "      <th>0</th>\n",
       "      <td>TR11369</td>\n",
       "      <td>2022-01-01</td>\n",
       "      <td>7500</td>\n",
       "      <td>4</td>\n",
       "      <td>30000</td>\n",
       "      <td>P3</td>\n",
       "      <td>Crackers</td>\n",
       "      <td>328</td>\n",
       "      <td>36</td>\n",
       "      <td>0</td>\n",
       "      <td>Married</td>\n",
       "      <td>10.530</td>\n",
       "      <td>12</td>\n",
       "      <td>Prestasi Utama</td>\n",
       "      <td>Prestasi</td>\n",
       "      <td>General Trade</td>\n",
       "      <td>-2.991</td>\n",
       "      <td>104.757</td>\n",
       "    </tr>\n",
       "    <tr>\n",
       "      <th>1</th>\n",
       "      <td>TR89318</td>\n",
       "      <td>2022-07-17</td>\n",
       "      <td>7500</td>\n",
       "      <td>1</td>\n",
       "      <td>7500</td>\n",
       "      <td>P3</td>\n",
       "      <td>Crackers</td>\n",
       "      <td>183</td>\n",
       "      <td>27</td>\n",
       "      <td>1</td>\n",
       "      <td>Single</td>\n",
       "      <td>0.180</td>\n",
       "      <td>12</td>\n",
       "      <td>Prestasi Utama</td>\n",
       "      <td>Prestasi</td>\n",
       "      <td>General Trade</td>\n",
       "      <td>-2.991</td>\n",
       "      <td>104.757</td>\n",
       "    </tr>\n",
       "    <tr>\n",
       "      <th>2</th>\n",
       "      <td>TR9106</td>\n",
       "      <td>2022-09-26</td>\n",
       "      <td>7500</td>\n",
       "      <td>4</td>\n",
       "      <td>30000</td>\n",
       "      <td>P3</td>\n",
       "      <td>Crackers</td>\n",
       "      <td>123</td>\n",
       "      <td>34</td>\n",
       "      <td>0</td>\n",
       "      <td>Married</td>\n",
       "      <td>4.360</td>\n",
       "      <td>12</td>\n",
       "      <td>Prestasi Utama</td>\n",
       "      <td>Prestasi</td>\n",
       "      <td>General Trade</td>\n",
       "      <td>-2.991</td>\n",
       "      <td>104.757</td>\n",
       "    </tr>\n",
       "    <tr>\n",
       "      <th>3</th>\n",
       "      <td>TR4331</td>\n",
       "      <td>2022-01-08</td>\n",
       "      <td>7500</td>\n",
       "      <td>3</td>\n",
       "      <td>22500</td>\n",
       "      <td>P3</td>\n",
       "      <td>Crackers</td>\n",
       "      <td>335</td>\n",
       "      <td>29</td>\n",
       "      <td>1</td>\n",
       "      <td>Single</td>\n",
       "      <td>4.740</td>\n",
       "      <td>12</td>\n",
       "      <td>Prestasi Utama</td>\n",
       "      <td>Prestasi</td>\n",
       "      <td>General Trade</td>\n",
       "      <td>-2.991</td>\n",
       "      <td>104.757</td>\n",
       "    </tr>\n",
       "    <tr>\n",
       "      <th>4</th>\n",
       "      <td>TR6445</td>\n",
       "      <td>2022-01-10</td>\n",
       "      <td>7500</td>\n",
       "      <td>4</td>\n",
       "      <td>30000</td>\n",
       "      <td>P3</td>\n",
       "      <td>Crackers</td>\n",
       "      <td>181</td>\n",
       "      <td>33</td>\n",
       "      <td>1</td>\n",
       "      <td>Married</td>\n",
       "      <td>9.940</td>\n",
       "      <td>12</td>\n",
       "      <td>Prestasi Utama</td>\n",
       "      <td>Prestasi</td>\n",
       "      <td>General Trade</td>\n",
       "      <td>-2.991</td>\n",
       "      <td>104.757</td>\n",
       "    </tr>\n",
       "  </tbody>\n",
       "</table>\n",
       "</div>"
      ],
      "text/plain": [
       "  TransactionID       Date  Price  Qty  TotalAmount ProductID ProductName  \\\n",
       "0       TR11369 2022-01-01   7500    4        30000        P3    Crackers   \n",
       "1       TR89318 2022-07-17   7500    1         7500        P3    Crackers   \n",
       "2        TR9106 2022-09-26   7500    4        30000        P3    Crackers   \n",
       "3        TR4331 2022-01-08   7500    3        22500        P3    Crackers   \n",
       "4        TR6445 2022-01-10   7500    4        30000        P3    Crackers   \n",
       "\n",
       "   CustomerID  Age  Gender MaritalStatus  Income  StoreID       StoreName  \\\n",
       "0         328   36       0       Married  10.530       12  Prestasi Utama   \n",
       "1         183   27       1        Single   0.180       12  Prestasi Utama   \n",
       "2         123   34       0       Married   4.360       12  Prestasi Utama   \n",
       "3         335   29       1        Single   4.740       12  Prestasi Utama   \n",
       "4         181   33       1       Married   9.940       12  Prestasi Utama   \n",
       "\n",
       "  GroupStore           Type  Latitude  Longitude  \n",
       "0   Prestasi  General Trade    -2.991    104.757  \n",
       "1   Prestasi  General Trade    -2.991    104.757  \n",
       "2   Prestasi  General Trade    -2.991    104.757  \n",
       "3   Prestasi  General Trade    -2.991    104.757  \n",
       "4   Prestasi  General Trade    -2.991    104.757  "
      ]
     },
     "execution_count": 50,
     "metadata": {},
     "output_type": "execute_result"
    }
   ],
   "source": [
    "df.head()"
   ]
  },
  {
   "cell_type": "code",
   "execution_count": 51,
   "id": "b3de1109-39ed-442f-a9db-32a36ea534e3",
   "metadata": {},
   "outputs": [
    {
     "data": {
      "text/html": [
       "<div>\n",
       "<style scoped>\n",
       "    .dataframe tbody tr th:only-of-type {\n",
       "        vertical-align: middle;\n",
       "    }\n",
       "\n",
       "    .dataframe tbody tr th {\n",
       "        vertical-align: top;\n",
       "    }\n",
       "\n",
       "    .dataframe thead th {\n",
       "        text-align: right;\n",
       "    }\n",
       "</style>\n",
       "<table border=\"1\" class=\"dataframe\">\n",
       "  <thead>\n",
       "    <tr style=\"text-align: right;\">\n",
       "      <th></th>\n",
       "      <th>TransactionID</th>\n",
       "      <th>Qty</th>\n",
       "      <th>TotalAmount</th>\n",
       "    </tr>\n",
       "    <tr>\n",
       "      <th>CustomerID</th>\n",
       "      <th></th>\n",
       "      <th></th>\n",
       "      <th></th>\n",
       "    </tr>\n",
       "  </thead>\n",
       "  <tbody>\n",
       "    <tr>\n",
       "      <th>1</th>\n",
       "      <td>17</td>\n",
       "      <td>60</td>\n",
       "      <td>623300</td>\n",
       "    </tr>\n",
       "    <tr>\n",
       "      <th>2</th>\n",
       "      <td>13</td>\n",
       "      <td>57</td>\n",
       "      <td>392300</td>\n",
       "    </tr>\n",
       "    <tr>\n",
       "      <th>3</th>\n",
       "      <td>15</td>\n",
       "      <td>56</td>\n",
       "      <td>446200</td>\n",
       "    </tr>\n",
       "    <tr>\n",
       "      <th>4</th>\n",
       "      <td>10</td>\n",
       "      <td>46</td>\n",
       "      <td>302500</td>\n",
       "    </tr>\n",
       "    <tr>\n",
       "      <th>5</th>\n",
       "      <td>7</td>\n",
       "      <td>27</td>\n",
       "      <td>268600</td>\n",
       "    </tr>\n",
       "  </tbody>\n",
       "</table>\n",
       "</div>"
      ],
      "text/plain": [
       "            TransactionID  Qty  TotalAmount\n",
       "CustomerID                                 \n",
       "1                      17   60       623300\n",
       "2                      13   57       392300\n",
       "3                      15   56       446200\n",
       "4                      10   46       302500\n",
       "5                       7   27       268600"
      ]
     },
     "execution_count": 51,
     "metadata": {},
     "output_type": "execute_result"
    }
   ],
   "source": [
    "df_clustering = df.groupby('CustomerID').agg({'TransactionID' : 'count',\n",
    "                                          'Qty' : 'sum',\n",
    "                                          'TotalAmount' : 'sum'})\n",
    "df_clustering.head()"
   ]
  },
  {
   "cell_type": "code",
   "execution_count": 52,
   "id": "38a80af2-1a1b-439a-ac92-9d88a0eb0367",
   "metadata": {},
   "outputs": [
    {
     "name": "stdout",
     "output_type": "stream",
     "text": [
      "Shape of data : (447, 3)\n",
      "Number of rows : 447\n",
      "Number of columns : 3\n"
     ]
    }
   ],
   "source": [
    "print(\"Shape of data :\", df_clustering.shape)\n",
    "print(\"Number of rows :\", df_clustering.shape[0])\n",
    "print(\"Number of columns :\", df_clustering.shape[1])"
   ]
  },
  {
   "cell_type": "markdown",
   "id": "aa881be1-b7e8-4e81-b8c4-74f70459f1eb",
   "metadata": {},
   "source": [
    "### **📌 Check Data Outlier** ###"
   ]
  },
  {
   "cell_type": "code",
   "execution_count": 53,
   "id": "4f928223-87f2-4e1e-b947-bf39d20a0551",
   "metadata": {},
   "outputs": [
    {
     "data": {
      "image/png": "[encoded data removed]",
      "text/plain": [
       "<Figure size 800x500 with 3 Axes>"
      ]
     },
     "metadata": {},
     "output_type": "display_data"
    }
   ],
   "source": [
    "cols = ['TransactionID', 'Qty', 'TotalAmount']\n",
    "\n",
    "plt.figure(figsize=(8, 5))\n",
    "n = 3\n",
    "for i in range(0, len(cols)):\n",
    "    plt.subplot(n, math.ceil(len(cols)/n), i+1)\n",
    "    sns.boxplot(x=df_clustering[cols[i]], color='#afaf00')\n",
    "    plt.tight_layout()"
   ]
  },
  {
   "cell_type": "markdown",
   "id": "9d1fb7f1-e103-42ea-a5f9-af204f3304bf",
   "metadata": {},
   "source": [
    "**Observation:**\n",
    "\n",
    "There is data outlier in `qty` and `totalamount`, but not too many and significant, therefore it does not need further processing"
   ]
  },
  {
   "cell_type": "markdown",
   "id": "3fa74867-a208-4190-acc8-cfc9f36ac308",
   "metadata": {},
   "source": [
    "### **📌 Data Transformation** ###"
   ]
  },
  {
   "cell_type": "code",
   "execution_count": 54,
   "id": "ed40be34-790b-408a-943e-3e2c698110ba",
   "metadata": {},
   "outputs": [
    {
     "data": {
      "text/html": [
       "<div>\n",
       "<style scoped>\n",
       "    .dataframe tbody tr th:only-of-type {\n",
       "        vertical-align: middle;\n",
       "    }\n",
       "\n",
       "    .dataframe tbody tr th {\n",
       "        vertical-align: top;\n",
       "    }\n",
       "\n",
       "    .dataframe thead th {\n",
       "        text-align: right;\n",
       "    }\n",
       "</style>\n",
       "<table border=\"1\" class=\"dataframe\">\n",
       "  <thead>\n",
       "    <tr style=\"text-align: right;\">\n",
       "      <th></th>\n",
       "      <th>TransactionID</th>\n",
       "      <th>Qty</th>\n",
       "      <th>TotalAmount</th>\n",
       "    </tr>\n",
       "  </thead>\n",
       "  <tbody>\n",
       "    <tr>\n",
       "      <th>0</th>\n",
       "      <td>1.780</td>\n",
       "      <td>1.497</td>\n",
       "      <td>2.095</td>\n",
       "    </tr>\n",
       "    <tr>\n",
       "      <th>1</th>\n",
       "      <td>0.546</td>\n",
       "      <td>1.261</td>\n",
       "      <td>0.239</td>\n",
       "    </tr>\n",
       "    <tr>\n",
       "      <th>2</th>\n",
       "      <td>1.163</td>\n",
       "      <td>1.183</td>\n",
       "      <td>0.672</td>\n",
       "    </tr>\n",
       "    <tr>\n",
       "      <th>3</th>\n",
       "      <td>-0.380</td>\n",
       "      <td>0.398</td>\n",
       "      <td>-0.482</td>\n",
       "    </tr>\n",
       "    <tr>\n",
       "      <th>4</th>\n",
       "      <td>-1.305</td>\n",
       "      <td>-1.093</td>\n",
       "      <td>-0.754</td>\n",
       "    </tr>\n",
       "  </tbody>\n",
       "</table>\n",
       "</div>"
      ],
      "text/plain": [
       "   TransactionID    Qty  TotalAmount\n",
       "0          1.780  1.497        2.095\n",
       "1          0.546  1.261        0.239\n",
       "2          1.163  1.183        0.672\n",
       "3         -0.380  0.398       -0.482\n",
       "4         -1.305 -1.093       -0.754"
      ]
     },
     "execution_count": 54,
     "metadata": {},
     "output_type": "execute_result"
    }
   ],
   "source": [
    "# Standardize the Data\n",
    "# Create a StandardScaler object\n",
    "scaler = StandardScaler()\n",
    "\n",
    "# Fit and transform the data in cluster_df\n",
    "df_clustering_std = scaler.fit_transform(df_clustering.values)\n",
    "\n",
    "# Convert the standardized data back to a DataFrame\n",
    "df_clustering_std = pd.DataFrame(df_clustering_std, columns=df_clustering.columns)\n",
    "\n",
    "# check the cluster_df_std data\n",
    "df_clustering_std.head()"
   ]
  },
  {
   "cell_type": "markdown",
   "id": "ef267346-997b-4d0c-9991-d9f594a585e6",
   "metadata": {},
   "source": [
    "## **💡 Clustering Model with K-Means Model** ##"
   ]
  },
  {
   "cell_type": "markdown",
   "id": "4a211319-4300-4787-881c-965ef61bc996",
   "metadata": {},
   "source": [
    "### **📌 Elbow Method** ###"
   ]
  },
  {
   "cell_type": "code",
   "execution_count": 55,
   "id": "87ceb9b0-3926-4297-9a51-536dac550352",
   "metadata": {},
   "outputs": [
    {
     "data": {
      "image/png": "[encoded data removed]",
      "text/plain": [
       "<Figure size 1000x500 with 1 Axes>"
      ]
     },
     "metadata": {},
     "output_type": "display_data"
    }
   ],
   "source": [
    "# plot the elbow method to get best number of clusters\n",
    "wcss = [] # wcss is Within Cluster of Sum Squares\n",
    "for i in range(1, 11):\n",
    "    kmeans = KMeans(n_clusters=i, init='k-means++', random_state=42, n_init = 10)\n",
    "    kmeans.fit(df_clustering_std.values)\n",
    "    wcss.append(kmeans.inertia_)\n",
    "\n",
    "plt.figure(figsize=(10, 5))\n",
    "sns.set()\n",
    "plt.plot(range(1, 11), wcss, marker='o')\n",
    "plt.title('Elbow Method Graphs')\n",
    "plt.xlabel('Number of Clusters')\n",
    "plt.ylabel('WCSS')\n",
    "plt.show()"
   ]
  },
  {
   "cell_type": "markdown",
   "id": "750ef55d-8235-463d-8477-30ce60842866",
   "metadata": {},
   "source": [
    "**Observation:**\n",
    "\n",
    "The result of Elbow Method above shows that `the best suit number of cluster is 3 clusters`"
   ]
  },
  {
   "cell_type": "markdown",
   "id": "072c3959-98f8-48db-b403-6b6c84710164",
   "metadata": {},
   "source": [
    "### **📌 K-Means Model Segmentation** ###"
   ]
  },
  {
   "cell_type": "code",
   "execution_count": 56,
   "id": "06b7f5c0-2935-4ae2-bbab-e2308efdaa81",
   "metadata": {},
   "outputs": [
    {
     "data": {
      "text/html": [
       "<div>\n",
       "<style scoped>\n",
       "    .dataframe tbody tr th:only-of-type {\n",
       "        vertical-align: middle;\n",
       "    }\n",
       "\n",
       "    .dataframe tbody tr th {\n",
       "        vertical-align: top;\n",
       "    }\n",
       "\n",
       "    .dataframe thead th {\n",
       "        text-align: right;\n",
       "    }\n",
       "</style>\n",
       "<table border=\"1\" class=\"dataframe\">\n",
       "  <thead>\n",
       "    <tr style=\"text-align: right;\">\n",
       "      <th></th>\n",
       "      <th>TransactionID</th>\n",
       "      <th>Qty</th>\n",
       "      <th>TotalAmount</th>\n",
       "      <th>cluster</th>\n",
       "    </tr>\n",
       "    <tr>\n",
       "      <th>CustomerID</th>\n",
       "      <th></th>\n",
       "      <th></th>\n",
       "      <th></th>\n",
       "      <th></th>\n",
       "    </tr>\n",
       "  </thead>\n",
       "  <tbody>\n",
       "    <tr>\n",
       "      <th>1</th>\n",
       "      <td>17</td>\n",
       "      <td>60</td>\n",
       "      <td>623300</td>\n",
       "      <td>1</td>\n",
       "    </tr>\n",
       "    <tr>\n",
       "      <th>2</th>\n",
       "      <td>13</td>\n",
       "      <td>57</td>\n",
       "      <td>392300</td>\n",
       "      <td>1</td>\n",
       "    </tr>\n",
       "    <tr>\n",
       "      <th>3</th>\n",
       "      <td>15</td>\n",
       "      <td>56</td>\n",
       "      <td>446200</td>\n",
       "      <td>1</td>\n",
       "    </tr>\n",
       "    <tr>\n",
       "      <th>4</th>\n",
       "      <td>10</td>\n",
       "      <td>46</td>\n",
       "      <td>302500</td>\n",
       "      <td>2</td>\n",
       "    </tr>\n",
       "    <tr>\n",
       "      <th>5</th>\n",
       "      <td>7</td>\n",
       "      <td>27</td>\n",
       "      <td>268600</td>\n",
       "      <td>0</td>\n",
       "    </tr>\n",
       "  </tbody>\n",
       "</table>\n",
       "</div>"
      ],
      "text/plain": [
       "            TransactionID  Qty  TotalAmount  cluster\n",
       "CustomerID                                          \n",
       "1                      17   60       623300        1\n",
       "2                      13   57       392300        1\n",
       "3                      15   56       446200        1\n",
       "4                      10   46       302500        2\n",
       "5                       7   27       268600        0"
      ]
     },
     "execution_count": 56,
     "metadata": {},
     "output_type": "execute_result"
    }
   ],
   "source": [
    "kmeans_3 = KMeans(n_clusters = 3, init = 'k-means++', random_state = 0, n_init = 10)\n",
    "clusters = kmeans_3.fit_predict(df_clustering_std)\n",
    "df_clustering['cluster'] = clusters\n",
    "\n",
    "df_clustering.head()"
   ]
  },
  {
   "cell_type": "code",
   "execution_count": 57,
   "id": "134c7c57-d4a0-43bb-ab88-25806a54b6e1",
   "metadata": {},
   "outputs": [
    {
     "data": {
      "image/png": "[encoded data removed]",
      "text/plain": [
       "<Figure size 1000x600 with 1 Axes>"
      ]
     },
     "metadata": {},
     "output_type": "display_data"
    }
   ],
   "source": [
    "df_clustering['cluster'] = df_clustering['cluster'].astype('category')\n",
    "colors=['purple', 'orange', 'green']\n",
    "\n",
    "plt.figure(figsize=(10, 6))\n",
    "sns.scatterplot(x='Qty', y='TotalAmount', data=df_clustering, hue='cluster', palette=colors, s=70)\n",
    "plt.xlabel('Quantity')\n",
    "plt.ylabel('Total Amount')\n",
    "plt.title('KMeans Clustering Customer Segmentation')\n",
    "plt.legend(title='Cluster')\n",
    "plt.show()"
   ]
  },
  {
   "cell_type": "markdown",
   "id": "4a5d9db7-5000-4876-8918-e6f97dd68520",
   "metadata": {},
   "source": [
    "### **📌 K-Means Model Segmentation using PCA** ###"
   ]
  },
  {
   "cell_type": "code",
   "execution_count": 58,
   "id": "860e6c66-5435-4b2b-b791-20738ba1c3c4",
   "metadata": {},
   "outputs": [
    {
     "data": {
      "text/html": [
       "<div>\n",
       "<style scoped>\n",
       "    .dataframe tbody tr th:only-of-type {\n",
       "        vertical-align: middle;\n",
       "    }\n",
       "\n",
       "    .dataframe tbody tr th {\n",
       "        vertical-align: top;\n",
       "    }\n",
       "\n",
       "    .dataframe thead th {\n",
       "        text-align: right;\n",
       "    }\n",
       "</style>\n",
       "<table border=\"1\" class=\"dataframe\">\n",
       "  <thead>\n",
       "    <tr style=\"text-align: right;\">\n",
       "      <th></th>\n",
       "      <th>TransactionID</th>\n",
       "      <th>Qty</th>\n",
       "      <th>TotalAmount</th>\n",
       "      <th>cluster</th>\n",
       "    </tr>\n",
       "  </thead>\n",
       "  <tbody>\n",
       "    <tr>\n",
       "      <th>0</th>\n",
       "      <td>1.780</td>\n",
       "      <td>1.497</td>\n",
       "      <td>2.095</td>\n",
       "      <td>1</td>\n",
       "    </tr>\n",
       "    <tr>\n",
       "      <th>1</th>\n",
       "      <td>0.546</td>\n",
       "      <td>1.261</td>\n",
       "      <td>0.239</td>\n",
       "      <td>1</td>\n",
       "    </tr>\n",
       "    <tr>\n",
       "      <th>2</th>\n",
       "      <td>1.163</td>\n",
       "      <td>1.183</td>\n",
       "      <td>0.672</td>\n",
       "      <td>1</td>\n",
       "    </tr>\n",
       "    <tr>\n",
       "      <th>3</th>\n",
       "      <td>-0.380</td>\n",
       "      <td>0.398</td>\n",
       "      <td>-0.482</td>\n",
       "      <td>2</td>\n",
       "    </tr>\n",
       "    <tr>\n",
       "      <th>4</th>\n",
       "      <td>-1.305</td>\n",
       "      <td>-1.093</td>\n",
       "      <td>-0.754</td>\n",
       "      <td>0</td>\n",
       "    </tr>\n",
       "  </tbody>\n",
       "</table>\n",
       "</div>"
      ],
      "text/plain": [
       "   TransactionID    Qty  TotalAmount  cluster\n",
       "0          1.780  1.497        2.095        1\n",
       "1          0.546  1.261        0.239        1\n",
       "2          1.163  1.183        0.672        1\n",
       "3         -0.380  0.398       -0.482        2\n",
       "4         -1.305 -1.093       -0.754        0"
      ]
     },
     "execution_count": 58,
     "metadata": {},
     "output_type": "execute_result"
    }
   ],
   "source": [
    "# Kmeans n_cluster = 3\n",
    "#Clustering Kmeans\n",
    "kmeans_pca = KMeans(n_clusters=3,init='k-means++',max_iter=300,n_init=10,random_state=0)\n",
    "kmeans_pca.fit(df_clustering_std)\n",
    "\n",
    "df_nclus3 = pd.DataFrame(data=df_clustering_std, columns=df_clustering.columns)\n",
    "df_nclus3['cluster'] = kmeans_pca.labels_\n",
    "df_nclus3.head()"
   ]
  },
  {
   "cell_type": "code",
   "execution_count": 59,
   "id": "29fabfb3-64b1-4cca-bfb6-7f9d5ad563b3",
   "metadata": {},
   "outputs": [
    {
     "data": {
      "text/html": [
       "<div>\n",
       "<style scoped>\n",
       "    .dataframe tbody tr th:only-of-type {\n",
       "        vertical-align: middle;\n",
       "    }\n",
       "\n",
       "    .dataframe tbody tr th {\n",
       "        vertical-align: top;\n",
       "    }\n",
       "\n",
       "    .dataframe thead th {\n",
       "        text-align: right;\n",
       "    }\n",
       "</style>\n",
       "<table border=\"1\" class=\"dataframe\">\n",
       "  <thead>\n",
       "    <tr style=\"text-align: right;\">\n",
       "      <th></th>\n",
       "      <th>count</th>\n",
       "      <th>mean</th>\n",
       "      <th>std</th>\n",
       "      <th>min</th>\n",
       "      <th>25%</th>\n",
       "      <th>50%</th>\n",
       "      <th>75%</th>\n",
       "      <th>max</th>\n",
       "    </tr>\n",
       "  </thead>\n",
       "  <tbody>\n",
       "    <tr>\n",
       "      <th>pc1</th>\n",
       "      <td>447</td>\n",
       "      <td>0.000</td>\n",
       "      <td>1.662</td>\n",
       "      <td>-4.121</td>\n",
       "      <td>-1.133</td>\n",
       "      <td>-0.124</td>\n",
       "      <td>1.081</td>\n",
       "      <td>5.351</td>\n",
       "    </tr>\n",
       "    <tr>\n",
       "      <th>pc2</th>\n",
       "      <td>447</td>\n",
       "      <td>-0.000</td>\n",
       "      <td>0.386</td>\n",
       "      <td>-1.280</td>\n",
       "      <td>-0.242</td>\n",
       "      <td>-0.004</td>\n",
       "      <td>0.246</td>\n",
       "      <td>1.349</td>\n",
       "    </tr>\n",
       "    <tr>\n",
       "      <th>cluster</th>\n",
       "      <td>447</td>\n",
       "      <td>1.150</td>\n",
       "      <td>0.856</td>\n",
       "      <td>0</td>\n",
       "      <td>0</td>\n",
       "      <td>1</td>\n",
       "      <td>2</td>\n",
       "      <td>2</td>\n",
       "    </tr>\n",
       "  </tbody>\n",
       "</table>\n",
       "</div>"
      ],
      "text/plain": [
       "         count   mean   std    min    25%    50%   75%   max\n",
       "pc1        447  0.000 1.662 -4.121 -1.133 -0.124 1.081 5.351\n",
       "pc2        447 -0.000 0.386 -1.280 -0.242 -0.004 0.246 1.349\n",
       "cluster    447  1.150 0.856      0      0      1     2     2"
      ]
     },
     "execution_count": 59,
     "metadata": {},
     "output_type": "execute_result"
    }
   ],
   "source": [
    "#PCA\n",
    "clust_pca = PCA(n_components=2).fit_transform(df_clustering_std)\n",
    "df_clust_pca = pd.DataFrame(data=clust_pca,columns=['pc1','pc2'])\n",
    "df_clust_pca['cluster'] = df_nclus3['cluster']\n",
    "df_clust_pca.describe().T"
   ]
  },
  {
   "cell_type": "code",
   "execution_count": 60,
   "id": "4cefa6ec-2346-445d-9dea-e323e8e14490",
   "metadata": {},
   "outputs": [
    {
     "data": {
      "image/png": "[encoded data removed]",
      "text/plain": [
       "<Figure size 1000x800 with 2 Axes>"
      ]
     },
     "metadata": {},
     "output_type": "display_data"
    }
   ],
   "source": [
    "#PCA plot\n",
    "colors=['purple', 'orange', 'green']\n",
    "fig,ax = plt.subplots(2,1,figsize=(10,8))\n",
    "sns.scatterplot(data=df_clust_pca,x='pc1',y='pc2',hue='cluster',palette=colors,ax=ax[0])\n",
    "ax[0].set_title('PCA scatter')\n",
    "sns.kdeplot(data=df_clust_pca,x='pc1',hue='cluster',palette=colors,fill=True,ax=ax[1])\n",
    "ax[1].set_title('PCA kde')\n",
    "plt.tight_layout()\n",
    "plt.show()"
   ]
  },
  {
   "cell_type": "markdown",
   "id": "7468afec-7c82-46c2-aa50-b430d6316baa",
   "metadata": {},
   "source": [
    "### **📌 Silhoutte Score** ###"
   ]
  },
  {
   "cell_type": "code",
   "execution_count": 61,
   "id": "6a854a70-1d3e-4315-ac1a-77cecd805a47",
   "metadata": {},
   "outputs": [
    {
     "data": {
      "image/png": "[encoded data removed]",
      "text/plain": [
       "<Figure size 1000x500 with 1 Axes>"
      ]
     },
     "metadata": {},
     "output_type": "display_data"
    }
   ],
   "source": [
    "from sklearn.metrics import silhouette_score\n",
    "\n",
    "n_clust = list(range(2,11))\n",
    "silhouette_avg = []\n",
    "for i in n_clust:\n",
    "    kmeans = KMeans(n_clusters=i).fit(df_clustering_std)\n",
    "    preds = kmeans.predict(df_clustering_std)\n",
    "    score_euclidean = silhouette_score(df_clustering_std, preds, metric='euclidean')\n",
    "    silhouette_avg.append(score_euclidean)\n",
    "\n",
    "plt.figure(figsize=(10, 5))\n",
    "sns.set()\n",
    "plt.plot(range(2, 11), silhouette_avg, marker='o')\n",
    "plt.title('Silhoutte Evaluation Score')\n",
    "plt.xlabel('Number of Clusters')\n",
    "plt.show()"
   ]
  },
  {
   "cell_type": "markdown",
   "id": "4d3e3fa5-75e7-4930-8dd1-c959800cf350",
   "metadata": {},
   "source": [
    "### **📌 RFM Analysis** ###"
   ]
  },
  {
   "cell_type": "code",
   "execution_count": 62,
   "id": "42df8fdb-32c9-42a8-bb10-51ef08a3312b",
   "metadata": {},
   "outputs": [],
   "source": [
    "df_clustering['cluster'] = kmeans_3.labels_\n",
    "\n",
    "df['recency'] = (pd.to_datetime('2023-01-01') - df['Date']).dt.days.astype('int')\n",
    "df_recency = df.groupby('CustomerID').agg({'recency':'min'})\n",
    "\n",
    "df_rfm = df_clustering.copy()\n",
    "df_rfm['recency'] = df_recency['recency']"
   ]
  },
  {
   "cell_type": "code",
   "execution_count": 63,
   "id": "2bbf894a-a7ed-40ee-8eea-1eb6939c59c1",
   "metadata": {},
   "outputs": [
    {
     "data": {
      "image/png": "[encoded data removed]",
      "text/plain": [
       "<Figure size 1000x1000 with 3 Axes>"
      ]
     },
     "metadata": {},
     "output_type": "display_data"
    }
   ],
   "source": [
    "colors=['purple', 'orange', 'green']\n",
    "fig, ax = plt.subplots(3,1,figsize=(10,10))\n",
    "sns.histplot(data=df_rfm,x='recency',hue='cluster',palette=colors,ax=ax[0],kde=True)\n",
    "ax[0].set_title('Recency')\n",
    "sns.histplot(data=df_rfm,x='TransactionID',hue='cluster',palette=colors,ax=ax[1],kde=True)\n",
    "ax[1].set_title('Frequency')\n",
    "sns.histplot(data=df_rfm,x='TotalAmount',hue='cluster',palette=colors,ax=ax[2],kde=True)\n",
    "ax[2].set_title('Monetary')\n",
    "\n",
    "plt.tight_layout()\n",
    "plt.show()"
   ]
  },
  {
   "cell_type": "code",
   "execution_count": 64,
   "id": "3bf46a44-7522-454b-b837-a8f7ba20a492",
   "metadata": {},
   "outputs": [
    {
     "data": {
      "text/html": [
       "<div>\n",
       "<style scoped>\n",
       "    .dataframe tbody tr th:only-of-type {\n",
       "        vertical-align: middle;\n",
       "    }\n",
       "\n",
       "    .dataframe tbody tr th {\n",
       "        vertical-align: top;\n",
       "    }\n",
       "\n",
       "    .dataframe thead tr th {\n",
       "        text-align: left;\n",
       "    }\n",
       "\n",
       "    .dataframe thead tr:last-of-type th {\n",
       "        text-align: right;\n",
       "    }\n",
       "</style>\n",
       "<table border=\"1\" class=\"dataframe\">\n",
       "  <thead>\n",
       "    <tr>\n",
       "      <th></th>\n",
       "      <th colspan=\"4\" halign=\"left\">TransactionID</th>\n",
       "      <th colspan=\"4\" halign=\"left\">Qty</th>\n",
       "      <th colspan=\"4\" halign=\"left\">TotalAmount</th>\n",
       "      <th colspan=\"4\" halign=\"left\">recency</th>\n",
       "    </tr>\n",
       "    <tr>\n",
       "      <th></th>\n",
       "      <th>mean</th>\n",
       "      <th>median</th>\n",
       "      <th>max</th>\n",
       "      <th>min</th>\n",
       "      <th>mean</th>\n",
       "      <th>median</th>\n",
       "      <th>max</th>\n",
       "      <th>min</th>\n",
       "      <th>mean</th>\n",
       "      <th>median</th>\n",
       "      <th>max</th>\n",
       "      <th>min</th>\n",
       "      <th>mean</th>\n",
       "      <th>median</th>\n",
       "      <th>max</th>\n",
       "      <th>min</th>\n",
       "    </tr>\n",
       "    <tr>\n",
       "      <th>cluster</th>\n",
       "      <th></th>\n",
       "      <th></th>\n",
       "      <th></th>\n",
       "      <th></th>\n",
       "      <th></th>\n",
       "      <th></th>\n",
       "      <th></th>\n",
       "      <th></th>\n",
       "      <th></th>\n",
       "      <th></th>\n",
       "      <th></th>\n",
       "      <th></th>\n",
       "      <th></th>\n",
       "      <th></th>\n",
       "      <th></th>\n",
       "      <th></th>\n",
       "    </tr>\n",
       "  </thead>\n",
       "  <tbody>\n",
       "    <tr>\n",
       "      <th>0</th>\n",
       "      <td>7.785</td>\n",
       "      <td>8</td>\n",
       "      <td>13</td>\n",
       "      <td>3</td>\n",
       "      <td>26.933</td>\n",
       "      <td>28</td>\n",
       "      <td>39</td>\n",
       "      <td>10</td>\n",
       "      <td>229388.889</td>\n",
       "      <td>235300</td>\n",
       "      <td>329300</td>\n",
       "      <td>92100</td>\n",
       "      <td>42.978</td>\n",
       "      <td>31</td>\n",
       "      <td>191</td>\n",
       "      <td>1</td>\n",
       "    </tr>\n",
       "    <tr>\n",
       "      <th>1</th>\n",
       "      <td>15.364</td>\n",
       "      <td>15</td>\n",
       "      <td>21</td>\n",
       "      <td>11</td>\n",
       "      <td>57.636</td>\n",
       "      <td>57</td>\n",
       "      <td>79</td>\n",
       "      <td>44</td>\n",
       "      <td>524504.545</td>\n",
       "      <td>510550</td>\n",
       "      <td>846700</td>\n",
       "      <td>365000</td>\n",
       "      <td>24.336</td>\n",
       "      <td>16</td>\n",
       "      <td>129</td>\n",
       "      <td>2</td>\n",
       "    </tr>\n",
       "    <tr>\n",
       "      <th>2</th>\n",
       "      <td>11.282</td>\n",
       "      <td>11</td>\n",
       "      <td>15</td>\n",
       "      <td>7</td>\n",
       "      <td>41.188</td>\n",
       "      <td>41</td>\n",
       "      <td>54</td>\n",
       "      <td>30</td>\n",
       "      <td>363267.327</td>\n",
       "      <td>362400</td>\n",
       "      <td>516600</td>\n",
       "      <td>257600</td>\n",
       "      <td>33.713</td>\n",
       "      <td>25</td>\n",
       "      <td>199</td>\n",
       "      <td>1</td>\n",
       "    </tr>\n",
       "  </tbody>\n",
       "</table>\n",
       "</div>"
      ],
      "text/plain": [
       "        TransactionID                   Qty                TotalAmount         \\\n",
       "                 mean median max min   mean median max min        mean median   \n",
       "cluster                                                                         \n",
       "0               7.785      8  13   3 26.933     28  39  10  229388.889 235300   \n",
       "1              15.364     15  21  11 57.636     57  79  44  524504.545 510550   \n",
       "2              11.282     11  15   7 41.188     41  54  30  363267.327 362400   \n",
       "\n",
       "                        recency                  \n",
       "            max     min    mean median  max min  \n",
       "cluster                                          \n",
       "0        329300   92100  42.978     31  191   1  \n",
       "1        846700  365000  24.336     16  129   2  \n",
       "2        516600  257600  33.713     25  199   1  "
      ]
     },
     "metadata": {},
     "output_type": "display_data"
    }
   ],
   "source": [
    "display(df_rfm.groupby('cluster').agg(['mean','median', 'max', 'min']))"
   ]
  },
  {
   "cell_type": "markdown",
   "id": "d2a4a4e2-f717-4244-ba8f-a60318d973af",
   "metadata": {},
   "source": [
    "**Observation:**\n",
    "\n",
    "Based on the results of the RFM analysis above, customer characteristics based on each cluster:\n",
    "\n",
    "- **Clusters 0:**\n",
    "    - Customers in this cluster have `the lowest recency with an average of around 24 days`. Based on this, it can be concluded that customers in cluster 0 tend to shop more often because customers are able to shop again in less than 1 month.\n",
    "    - The frequency of purchases made by customers in this cluster tends to be more frequent and can be said to be `the most frequent of all clusters`. This can be seen from the number of transactions made by customers with an `average of 15 times`\n",
    "    - `Total Amount spent on shopping in this cluster is among the highest` with an average `total amount of around $524,500`.\n",
    "\n",
    "Based on this information, customers in Cluster 0 can be summed up as **Priority Customers (Tier 1)**\n",
    "\n",
    "**Business Recommendation for Cluster 0 (Priority Customers)**\n",
    "\n",
    "    Customers in this cluster have the lowest recency, very active for shopping and spending very much money. So we can give recommendation:\n",
    "    - Give Voucher/Rewards\n",
    "    - Give Promo Bundling/Special Offer Mix & Match bundling strategy  \n",
    "    \n",
    "\n",
    "- **Cluster 1:**\n",
    "    - Customers in Cluster 1 have an `average recency/last shopping time of around 33 days`. Based on this, it can be said that customers in this cluster have a `slightly longer recency` and will return to shopping again after more than 1 month.\n",
    "    - The frequency of purchases made by customers in this cluster can be said to be `quite frequent`, as can be seen from the `total transactions with an average shopping frequency of 11 times`.\n",
    "    - Total Amount spent on shopping in this cluster can be said to be `quite a lot` with an `average total amount of around $363,000`.\n",
    "    \n",
    "Based on this information, customers in Cluster 1 can be summed up as **Potential Customers (Tier 2)**\n",
    "\n",
    "**Business Recommendation for Cluster 1 (Potential Customers)**\n",
    "\n",
    "    Customers in this cluster have slightly longer recency, quite active for shopping and spending quite much money. So we can give recommendation:\n",
    "        - Give Discount/Flash Sale\n",
    "        - Promo Bundling/Special Offer Buy 1 Get 1 strategy\n",
    "        \n",
    "\n",
    "- **Cluster 2:**\n",
    "    - Customers in Cluster 2 have an `average recency/last shopping time of around 43 days`. Based on this, it can be said that customers in this cluster have `the longest recency` and will return to shopping again after more than 1.5 months.\n",
    "    - The frequency of purchases made by customers in this cluster can be said to be `the least frequent` as seen from the `total transactions with an average shopping frequency of 8 times`.\n",
    "    - Total Amount spent on shopping in this cluster can be said to be `the least spent` with an `average total amount of around $229,300`.\n",
    "    \n",
    "Based on this information, customers in Cluster 1 can be summed up as **Need Attention Customers (Tier 3)**\n",
    "\n",
    "**Business Recommendation for Cluster 2 (Need Attention Customers)**\n",
    "\n",
    "    Customers in this cluster have the longest recency, quite active for shopping and spending quite much money. So we can give recommendation:\n",
    "        - Give Discount/Flash Sale\n",
    "        - Promo Bundling/Special Offer Buy 1 Get 1 and Limited Edition Bundling (giving urgency sense to purchase)"
   ]
  },
  {
   "cell_type": "markdown",
   "id": "d8a38c77-ba6c-4853-a2bb-635b4f9bafc9",
   "metadata": {},
   "source": [
    "## **💡 Business Insight** ##"
   ]
  },
  {
   "cell_type": "markdown",
   "id": "b4a5f886-91b5-4459-9400-f53c8bf30877",
   "metadata": {},
   "source": [
    "### **📌 Statistics Info of `transactionid` `qty` `totalamount`** ###"
   ]
  },
  {
   "cell_type": "code",
   "execution_count": 65,
   "id": "5d556e1b-3856-40df-aa88-abd90be41744",
   "metadata": {},
   "outputs": [
    {
     "data": {
      "text/html": [
       "<div>\n",
       "<style scoped>\n",
       "    .dataframe tbody tr th:only-of-type {\n",
       "        vertical-align: middle;\n",
       "    }\n",
       "\n",
       "    .dataframe tbody tr th {\n",
       "        vertical-align: top;\n",
       "    }\n",
       "\n",
       "    .dataframe thead tr th {\n",
       "        text-align: left;\n",
       "    }\n",
       "\n",
       "    .dataframe thead tr:last-of-type th {\n",
       "        text-align: right;\n",
       "    }\n",
       "</style>\n",
       "<table border=\"1\" class=\"dataframe\">\n",
       "  <thead>\n",
       "    <tr>\n",
       "      <th></th>\n",
       "      <th colspan=\"4\" halign=\"left\">TransactionID</th>\n",
       "      <th colspan=\"4\" halign=\"left\">Qty</th>\n",
       "      <th colspan=\"4\" halign=\"left\">TotalAmount</th>\n",
       "    </tr>\n",
       "    <tr>\n",
       "      <th></th>\n",
       "      <th>mean</th>\n",
       "      <th>median</th>\n",
       "      <th>max</th>\n",
       "      <th>min</th>\n",
       "      <th>mean</th>\n",
       "      <th>median</th>\n",
       "      <th>max</th>\n",
       "      <th>min</th>\n",
       "      <th>mean</th>\n",
       "      <th>median</th>\n",
       "      <th>max</th>\n",
       "      <th>min</th>\n",
       "    </tr>\n",
       "    <tr>\n",
       "      <th>cluster</th>\n",
       "      <th></th>\n",
       "      <th></th>\n",
       "      <th></th>\n",
       "      <th></th>\n",
       "      <th></th>\n",
       "      <th></th>\n",
       "      <th></th>\n",
       "      <th></th>\n",
       "      <th></th>\n",
       "      <th></th>\n",
       "      <th></th>\n",
       "      <th></th>\n",
       "    </tr>\n",
       "  </thead>\n",
       "  <tbody>\n",
       "    <tr>\n",
       "      <th>0</th>\n",
       "      <td>7.785</td>\n",
       "      <td>8</td>\n",
       "      <td>13</td>\n",
       "      <td>3</td>\n",
       "      <td>26.933</td>\n",
       "      <td>28</td>\n",
       "      <td>39</td>\n",
       "      <td>10</td>\n",
       "      <td>229388.889</td>\n",
       "      <td>235300</td>\n",
       "      <td>329300</td>\n",
       "      <td>92100</td>\n",
       "    </tr>\n",
       "    <tr>\n",
       "      <th>1</th>\n",
       "      <td>15.364</td>\n",
       "      <td>15</td>\n",
       "      <td>21</td>\n",
       "      <td>11</td>\n",
       "      <td>57.636</td>\n",
       "      <td>57</td>\n",
       "      <td>79</td>\n",
       "      <td>44</td>\n",
       "      <td>524504.545</td>\n",
       "      <td>510550</td>\n",
       "      <td>846700</td>\n",
       "      <td>365000</td>\n",
       "    </tr>\n",
       "    <tr>\n",
       "      <th>2</th>\n",
       "      <td>11.282</td>\n",
       "      <td>11</td>\n",
       "      <td>15</td>\n",
       "      <td>7</td>\n",
       "      <td>41.188</td>\n",
       "      <td>41</td>\n",
       "      <td>54</td>\n",
       "      <td>30</td>\n",
       "      <td>363267.327</td>\n",
       "      <td>362400</td>\n",
       "      <td>516600</td>\n",
       "      <td>257600</td>\n",
       "    </tr>\n",
       "  </tbody>\n",
       "</table>\n",
       "</div>"
      ],
      "text/plain": [
       "        TransactionID                   Qty                TotalAmount         \\\n",
       "                 mean median max min   mean median max min        mean median   \n",
       "cluster                                                                         \n",
       "0               7.785      8  13   3 26.933     28  39  10  229388.889 235300   \n",
       "1              15.364     15  21  11 57.636     57  79  44  524504.545 510550   \n",
       "2              11.282     11  15   7 41.188     41  54  30  363267.327 362400   \n",
       "\n",
       "                         \n",
       "            max     min  \n",
       "cluster                  \n",
       "0        329300   92100  \n",
       "1        846700  365000  \n",
       "2        516600  257600  "
      ]
     },
     "metadata": {},
     "output_type": "display_data"
    }
   ],
   "source": [
    "display(df_clustering.groupby('cluster').agg(['mean','median', 'max', 'min']))"
   ]
  },
  {
   "cell_type": "markdown",
   "id": "138b2b5c-4510-4b1d-ba86-b4f4c7e2dd34",
   "metadata": {},
   "source": [
    "### **📌 Total Customer in Each Cluster** ###"
   ]
  },
  {
   "cell_type": "code",
   "execution_count": 66,
   "id": "9ca7cffc-3484-4dac-863e-2aeb6ebb55aa",
   "metadata": {},
   "outputs": [
    {
     "data": {
      "text/html": [
       "<div>\n",
       "<style scoped>\n",
       "    .dataframe tbody tr th:only-of-type {\n",
       "        vertical-align: middle;\n",
       "    }\n",
       "\n",
       "    .dataframe tbody tr th {\n",
       "        vertical-align: top;\n",
       "    }\n",
       "\n",
       "    .dataframe thead th {\n",
       "        text-align: right;\n",
       "    }\n",
       "</style>\n",
       "<table border=\"1\" class=\"dataframe\">\n",
       "  <thead>\n",
       "    <tr style=\"text-align: right;\">\n",
       "      <th></th>\n",
       "      <th>cluster</th>\n",
       "      <th>total_customers</th>\n",
       "      <th>sum_customers</th>\n",
       "      <th>percentage</th>\n",
       "    </tr>\n",
       "  </thead>\n",
       "  <tbody>\n",
       "    <tr>\n",
       "      <th>0</th>\n",
       "      <td>0</td>\n",
       "      <td>135</td>\n",
       "      <td>447</td>\n",
       "      <td>30.200</td>\n",
       "    </tr>\n",
       "    <tr>\n",
       "      <th>1</th>\n",
       "      <td>1</td>\n",
       "      <td>110</td>\n",
       "      <td>447</td>\n",
       "      <td>24.610</td>\n",
       "    </tr>\n",
       "    <tr>\n",
       "      <th>2</th>\n",
       "      <td>2</td>\n",
       "      <td>202</td>\n",
       "      <td>447</td>\n",
       "      <td>45.190</td>\n",
       "    </tr>\n",
       "  </tbody>\n",
       "</table>\n",
       "</div>"
      ],
      "text/plain": [
       "   cluster  total_customers  sum_customers  percentage\n",
       "0        0              135            447      30.200\n",
       "1        1              110            447      24.610\n",
       "2        2              202            447      45.190"
      ]
     },
     "execution_count": 66,
     "metadata": {},
     "output_type": "execute_result"
    }
   ],
   "source": [
    "df_total_customer = df_clustering.groupby('cluster').agg({'Qty':'count'}).reset_index()\n",
    "df_total_customer = df_total_customer.rename(columns={'Qty':'total_customers'})\n",
    "df_total_customer['sum_customers'] = df_total_customer['total_customers'].sum()\n",
    "df_total_customer['percentage'] = round((df_total_customer['total_customers']/df_total_customer['sum_customers'])*100, 2)\n",
    "df_total_customer"
   ]
  },
  {
   "cell_type": "code",
   "execution_count": 67,
   "id": "e531df01-3a37-4900-b348-ea3a0102daaa",
   "metadata": {},
   "outputs": [
    {
     "data": {
      "image/png": "[encoded data removed]",
      "text/plain": [
       "<Figure size 800x600 with 1 Axes>"
      ]
     },
     "metadata": {},
     "output_type": "display_data"
    }
   ],
   "source": [
    "colors = ['purple', 'orange', 'green']\n",
    "fig, ax = plt.subplots(figsize=(8, 6))\n",
    "plt.title(\"Total Customers Each Cluster\", fontsize=15, color='black', weight='bold', pad=15)\n",
    "sns.barplot(x='cluster', y='total_customers', data=df_total_customer, edgecolor='black', palette=colors)\n",
    "\n",
    "plt.xlabel('Clusters', fontsize=11)\n",
    "plt.ylabel('Total Customer', fontsize=11)\n",
    "plt.bar_label(ax.containers[0], padding=2)\n",
    "plt.bar_label(ax.containers[0], ['24.61%', '45.19%', '30.20%'], label_type='center', color='white', weight='bold')\n",
    "\n",
    "sns.despine()\n",
    "plt.tight_layout()"
   ]
  },
  {
   "cell_type": "markdown",
   "id": "59742f1c-6a4e-4f46-b56e-dad47bdf26cc",
   "metadata": {},
   "source": [
    "**Observation:**\n",
    "\n",
    "Based on barplot above, it shows that **Cluster 1** has the highest Total Customer with percentage of **45.19%**, then followed by **Cluster 2** has Total Customer with percentage of **30.20%** and **Cluster 0** has Total Customer with percentage of **24.61%**."
   ]
  },
  {
   "cell_type": "markdown",
   "id": "19e88a79-19ae-41f9-a3c4-09a783e7d8d9",
   "metadata": {},
   "source": [
    "### **📌 Customer Segmentation based on `transactionid` `qty` `totalamount`** ###"
   ]
  },
  {
   "cell_type": "code",
   "execution_count": 68,
   "id": "2c6d4d3f-aa82-4654-9c60-454a6b376b3e",
   "metadata": {},
   "outputs": [
    {
     "data": {
      "image/png": "[encoded data removed]",
      "text/plain": [
       "<Figure size 1500x1800 with 3 Axes>"
      ]
     },
     "metadata": {},
     "output_type": "display_data"
    }
   ],
   "source": [
    "df_clust = df_clustering.copy()\n",
    "clust = df_clust.columns.drop('cluster')\n",
    "\n",
    "colors = ['purple', 'orange', 'green']\n",
    "plt.figure(figsize= (15, 18))\n",
    "for i in range(len(clust)):\n",
    "    plt.subplot(2, 3, i+1)\n",
    "    sns.boxplot(x=df_clustering['cluster'], y=df_clustering[clust[i]], palette=colors)\n",
    "    plt.tight_layout()"
   ]
  },
  {
   "cell_type": "markdown",
   "id": "831b561e-014c-4bc9-b5a8-47a0a29987bf",
   "metadata": {},
   "source": [
    "**Observation:**\n",
    "\n",
    "Based on the Boxplot above, the information that can be concluded is:"
   ]
  },
  {
   "cell_type": "markdown",
   "id": "9306108f-e8fa-4583-9f92-e6771cd27384",
   "metadata": {},
   "source": [
    "### **📌 Age VS Customer Segmentation** ###"
   ]
  },
  {
   "cell_type": "code",
   "execution_count": 69,
   "id": "590294ff-006a-4cc1-83ec-43899bb930bc",
   "metadata": {},
   "outputs": [
    {
     "data": {
      "text/plain": [
       "Text(0.5, 1.0, 'Age VS Customer Segmentation')"
      ]
     },
     "execution_count": 69,
     "metadata": {},
     "output_type": "execute_result"
    },
    {
     "data": {
      "image/png": "[encoded data removed]",
      "text/plain": [
       "<Figure size 500x600 with 1 Axes>"
      ]
     },
     "metadata": {},
     "output_type": "display_data"
    }
   ],
   "source": [
    "colors = ['purple', 'orange', 'green']\n",
    "plt.figure(figsize= (5, 6))\n",
    "sns.boxplot(x=df_clustering['cluster'], y=df['Age'], palette=colors)\n",
    "plt.tight_layout()\n",
    "\n",
    "plt.title(\"Age VS Customer Segmentation\", fontsize=15, fontweight=\"bold\")"
   ]
  },
  {
   "cell_type": "markdown",
   "id": "4e0006ef-5351-4666-84be-7ce0ff16d731",
   "metadata": {},
   "source": [
    "### **📌 Income VS Customer Segmentation** ###"
   ]
  },
  {
   "cell_type": "code",
   "execution_count": 70,
   "id": "277d6631-b821-4a1c-bfdf-7e0a47951970",
   "metadata": {},
   "outputs": [
    {
     "data": {
      "text/plain": [
       "Text(0.5, 1.0, 'Income VS Customer Segmentation')"
      ]
     },
     "execution_count": 70,
     "metadata": {},
     "output_type": "execute_result"
    },
    {
     "data": {
      "image/png": "[encoded data removed]",
      "text/plain": [
       "<Figure size 500x600 with 1 Axes>"
      ]
     },
     "metadata": {},
     "output_type": "display_data"
    }
   ],
   "source": [
    "colors = ['purple', 'orange', 'green']\n",
    "plt.figure(figsize= (5, 6))\n",
    "sns.boxplot(x=df_clustering['cluster'], y=df['Income'], palette=colors)\n",
    "plt.tight_layout()\n",
    "\n",
    "plt.title(\"Income VS Customer Segmentation\", fontsize=15, fontweight=\"bold\")"
   ]
  }
 ],
 "metadata": {
  "kernelspec": {
   "display_name": "Python 3 (ipykernel)",
   "language": "python",
   "name": "python3"
  },
  "language_info": {
   "codemirror_mode": {
    "name": "ipython",
    "version": 3
   },
   "file_extension": ".py",
   "mimetype": "text/x-python",
   "name": "python",
   "nbconvert_exporter": "python",
   "pygments_lexer": "ipython3",
   "version": "3.10.9"
  }
 },
 "nbformat": 4,
 "nbformat_minor": 5
}
