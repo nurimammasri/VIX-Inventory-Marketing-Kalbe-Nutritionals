{
 "cells": [
  {
   "cell_type": "code",
   "execution_count": null,
   "id": "84b6ef90-eb84-4eab-b700-0cfa3fa92571",
   "metadata": {},
   "outputs": [],
   "source": []
  },
  {
   "cell_type": "markdown",
   "id": "003acb22-60fa-4057-b840-edeff5a04246",
   "metadata": {},
   "source": [
    "<a href=\"https://colab.research.google.com/github/nurimammasri/Marketing-Campaign-Model-Prediction-by-Datalicious/blob/main/Response%20Prediction%20Classification%20Marketing%20Campaign.ipynb\" target=\"_parent\"><img src=\"https://colab.research.google.com/assets/colab-badge.svg\" alt=\"Open In Colab\"/></a>"
   ]
  },
  {
   "cell_type": "markdown",
   "id": "0dddb652-6fd3-4160-a67f-6c708a5430c2",
   "metadata": {},
   "source": [
    "# **✨ Marketing Campaign - by Datalicious ✨**\n",
    "\n",
    "<!-- ![banner.png](https://raw.githubusercontent.com/nurimammasri/Marketing-Campaign-Model-Prediction-by-Datalicious/main/assets/banner.png) -->\n",
    "\n",
    "![banner](https://github.com/nurimammasri/Marketing-Campaign-Model-Prediction-by-Datalicious/assets/54845293/e995058c-4aa2-4c39-adb6-5b4ba5e06fa2)\n",
    "\n",
    "**✅ Members of Datalicious ✅**\n",
    "\n",
    "1. Nur Imam Masri\n",
    "2. Astuti Rahmawati\n",
    "3. Prasidya Bagaskara\n",
    "4. Moh. Harwin Prayoga\n",
    "5. Riskiyatul Hasanah\n",
    "6. M Rayhan Azzindani\n",
    "7. Siti Hajjah Mardiah\n",
    "8. Christine\n",
    "9. M. Ifzal Asril"
   ]
  },
  {
   "cell_type": "markdown",
   "id": "a8d81ddd-e00c-4af1-aaba-2060516055c0",
   "metadata": {},
   "source": [
    "## **📍 Table of Content 📍**\n",
    "- Business Understanding\n",
    "    - Problem Statement\n",
    "    - Roles\n",
    "    - Goals\n",
    "    - Objectives\n",
    "    - Business Metrics\n",
    "- Data Preparation\n",
    "    - Data Description\n",
    "    - Libraries & Datasets\n",
    "- Data Understanding\n",
    "    - Exploring Datasets\n",
    "    - Data Types Information\n",
    "    - Statistical Summary\n",
    "    - EDA (Exploratory Data Analysis)\n",
    "    - Feature Engineering / Extraction (Business Insight)\n",
    "    - Business Insight"
   ]
  },
  {
   "cell_type": "markdown",
   "id": "619485eb-1238-4b18-b656-6d5e4370698e",
   "metadata": {},
   "source": [
    "## **⚙ Work Environment ⚙**\n",
    "\n",
    "- **Tools**\n",
    "\n",
    "[![Made withJupyter](https://img.shields.io/badge/Made%20with-Jupyter-orange?style=for-the-badge&logo=Jupyter)](https://jupyter.org/try)\n",
    "\n",
    "[![Open In Collab](https://colab.research.google.com/assets/colab-badge.svg)](https://colab.research.google.com/github/nurimammasri/Marketing-Campaign-Model-Prediction-by-Datalicious/blob/main/Response%20Prediction%20Classification%20Marketing%20Campaign.ipynb)\n",
    "\n",
    "- **Programming Language**\n",
    "\n",
    "[![forthebadge made-with-python](http://ForTheBadge.com/images/badges/made-with-python.svg)](https://www.python.org/)\n",
    "\n",
    "[![made-with-python](https://img.shields.io/badge/Made%20with-Python-1f425f.svg)](https://www.python.org/)\n",
    "\n",
    "- **Git and Github**\n",
    "\n",
    "Repository : [Marketing Campaign Model Prediction by Datalicious](https://github.com/nurimammasri/Marketing-Campaign-Model-Prediction-by-Datalicious.git)\n",
    "\n",
    "- **Libraries**\n",
    "\n",
    "[Requirements Text](https://github.com/nurimammasri/Marketing-Campaign-Model-Prediction-by-Datalicious/blob/main/requirements.txt)\n",
    "\n",
    "- **Dataset**\n",
    "\n",
    "[Marketing campaign](https://www.kaggle.com/datasets/rodsaldanha/arketing-campaign \"Marketing campaign dataset from Kaggle\")"
   ]
  },
  {
   "cell_type": "markdown",
   "id": "7334d463-5666-473e-b858-e932511bf4c4",
   "metadata": {},
   "source": [
    "# **====== STAGE 0 ======**\n",
    "`Stage 0 (Preparation)`"
   ]
  },
  {
   "cell_type": "markdown",
   "id": "fa9f81b5-8476-4259-af5e-714ba6a94350",
   "metadata": {},
   "source": [
    "## **⛳ Business Understanding ⛳**\n",
    "\n",
    "### **📌 Problem Statement**\n",
    "\n",
    "**Lotto Mart** adalah sebuah supermarket yang bergerak dibidang retail,  menjual berbagai jenis produk seperti Fish, Meat, Fruits, Sweet Products, Wines, dan Gold Products. Selama 6 bulan terakhir,  Marketing Team melakukan campaign berupa pemberian discount vouchers kepada semua customer melalui  Broadcast Message. Namun, setelah campaign  dilakukan, justru Lotto Mart menghadapi beberapa permasalahan sebagai berikut :\n",
    "- **Response rate** dari marketing campaign yang dilakukan rendah yaitu sekitar 14.91%\n",
    "- **Inefficient Cost** dalam melakukan marketing campaign\n",
    "- **Profit tidak sebanding** dengan cost yang dikeluarkan\n",
    "\n",
    "Berdasarkan hal tersebut,  Marketing Team meminta tim data untuk menganalisis permasalahan yang terjadi.  Selanjutnya perusahaan ingin membuat marketing campaign yang tepat sasaran  sesuai dengan **karakteristik customer**. Strategi ini diharapkan  mampu **meningkatkan response rate**,  **meminimalisasi cost**, dan kemudian **meningkatkan profit**\n",
    "\n",
    "### **📌 Roles**\n",
    "\n",
    "Sebagai **tim data** di Supermarket Lotto Mart, untuk menganalisis keberhasilan marketing campaign selanjutnya. Berikut adalah beberapa roles beserta PIC yang berkontribusi dalam menyelesaikan permasalahan di Lotto Mart:\n",
    "\n",
    "- **Lead Data Science**\n",
    "\n",
    "    Sebagai koordinator project\n",
    "\n",
    "    PIC: `Nur Imam Masri`\n",
    "\n",
    "- **Machine Learning Engineer**\n",
    "\n",
    "    Membuat model dan evaluasi Machine Learning\n",
    "    \n",
    "    PIC: `Prasidya Bagaskara` dan `Moh. Harwin Prayoga`\n",
    "    \n",
    "- **Data Engineer**\n",
    "\n",
    "    Melakukan Data Preparation, Cleaning, dan    \n",
    "    Exploratory Data Analysis (EDA)\n",
    "\n",
    "    PIC: `M Rayhan Azzindani` dan `M. Ifzal Asril`\n",
    "\n",
    "- **Business Analyst**\n",
    "\n",
    "    Membuat insight business\n",
    "\n",
    "    PIC: `Riskiyatul Hasanah` dan `Christine`\n",
    "\n",
    "- **Data Analyst**\n",
    "\n",
    "    Membuat dashboard\n",
    "\n",
    "    PIC: `Siti Hajjah Mardiah` dan `Astuti Rahmawati`\n",
    "\n",
    "\n",
    "### **📌 Goals**\n",
    "\n",
    "Perusahaan ingin meningkatkan **response rate** dan  meminimalisasi **marketing campaign cost** sehingga dapat memaksimalkan **profit**. \n",
    "\n",
    "\n",
    "### **📌 Objectives**\n",
    "\n",
    "Membuat classification model untuk **memprediksi kelompok customer yang akan merespon campaign** agar dapat **meminimalisasi biaya pemasaran dan memaksimalkan keuntungan** pada campaign marketing berikutnya.\n",
    "\n",
    "\n",
    "### **📌 Business Metrics**\n",
    "\n",
    "- **Response Rate/RR**\n",
    "    \n",
    "    Persentase total customer response  terhadap  total delivered campaign\n",
    "    \n",
    "    _**Indicator  RR :**_ 30% is good ( Efti 2018).\n",
    "    \n",
    "    - **Net Profit Margin /NPM**\n",
    "    \n",
    "        Mengukur net profit dibanding penjualannya. Semakin besar NPM, maka kinerja marketing campaign semakin efektif dan efisien (Handayani,  Winarningsih  2020).  \n",
    "\n",
    "        _**Indicator NPM :**_ 5% is low, 10-19% is average, 20% is good (Jayathilaka 2020).\n",
    "    \n",
    "    - **Return of Investment /ROI**\n",
    "    \n",
    "        CLV (customer lifetime value)) dibagi CAC((customer acquisition cost).  Sebagai indikator kinerja perusahaan dan pembuatan keputusan  para investor. \n",
    "\n",
    "        _**Indicator ROI :**_ 3:1 to 5:1 is good (Manzer  2017).  \n",
    "        \n",
    "**📝 References :**\n",
    "\n",
    "- Efti S.  2018. Sales Benchmarks: The 30/50 rule for cold emailing & cold calling. diakses 20 Mei 2023. https://blog.close.com/sales-benchmarks/ \n",
    "\n",
    "- Handayani N,  Winarningsih S. 2020. The Effect of Net Profit Margin and Return on Equity Toward Profit Growth. Moneter-Jurnal Akuntansi Dan Keuangan 7(2): 198-204. https://doi.org/10.31294/moneter.v7i2.8701.\n",
    "\n",
    "- Jayathilaka AK. 2020. Operating Profit and Net Profit: Measurements of Profitability. Open Access Library Journal 7(12): 1-11. https://doi.org/10.4236/oalib.1107011.\n",
    "\n",
    "- Manzer D. 2017. Five insights into measuring marketing ROI. diakses 20 Mei 2023. https://growswyft.com/five-insights-to-measure-your-roi/."
   ]
  },
  {
   "cell_type": "markdown",
   "id": "ed1b89a2-74c8-4db0-8c5e-b91d88f2d61c",
   "metadata": {},
   "source": [
    "# **====== STAGE 1 ======**\n",
    "`Stage 1 (EDA, Insight, Visualization)`"
   ]
  },
  {
   "cell_type": "markdown",
   "id": "d34b2680-d42c-4615-a909-70888f2b75f8",
   "metadata": {},
   "source": [
    "# **🛒 Data Preparation 🛒**"
   ]
  },
  {
   "cell_type": "markdown",
   "id": "3774bc50-455c-4617-9330-74c92e2f105d",
   "metadata": {},
   "source": [
    "## **🕹 Data Description 🕹**\n",
    "\n",
    "```\n",
    "🚨✨ This project is from Final Project Data Science Bootcamp Rakamin Academy Batch 32 ✨🚨\n",
    "📌 The data is taken from kaggle - marketing_campaign.csv📌 \n",
    "```\n",
    "\n",
    "**Marketing Campaign ([link datasets](https://www.kaggle.com/datasets/rodsaldanha/arketing-campaign))**\n",
    "\n",
    "_Boost the profit of a marketing campaign_\n",
    "\n",
    "A response model can provide a significant boost to the efficiency of a marketing campaign by increasing responses or reducing expenses. \n",
    "\n",
    "The objective is to predict who will respond to an offer for a product or service\n",
    "\n",
    "**Dataset Description:**\n",
    "\n",
    "The training dataset contains `2240 samples`. Contains `28 features` and `1 target boolean` variable `\"Response\"` :\n",
    "\n",
    "**Accepted/Responses Campaign**\n",
    "\n",
    "- `AcceptedCmp1` - 1 if customer accepted the offer in the 1st campaign, 0 otherwise\n",
    "- `AcceptedCmp2` - 1 if customer accepted the offer in the 2nd campaign, 0 otherwise\n",
    "- `AcceptedCmp3` - 1 if customer accepted the offer in the 3rd campaign, 0 otherwise\n",
    "- `AcceptedCmp4` - 1 if customer accepted the offer in the 4th campaign, 0 otherwise\n",
    "- `AcceptedCmp5` - 1 if customer accepted the offer in the 5th campaign, 0 otherwise\n",
    "- `Response (target)` - 1 if customer accepted the offer in the last campaign, 0 otherwise\n",
    "- `Complain` - 1 if customer complained in the previous 2 years\n",
    "\n",
    "**Customer Information**\n",
    "\n",
    "- `ID` - Customer's id\n",
    "- `Year_Birth` - Customer's year of birth\n",
    "- `Education` - customer’s level of education\n",
    "- `Marital` - customer’s marital status\n",
    "- `Kidhome` - number of small children in customer’s household\n",
    "- `Teenhome` - number of teenagers in customer’s household\n",
    "- `Income` - customer’s yearly household income\n",
    "- `DtCustomer` - date of customer’s enrolment with the company\n",
    "- `Recency` - number of days since the last purchase\n",
    "\n",
    "**Sales Product Type**\n",
    "\n",
    "- `MntFishProducts` - amount spent on fish products in the last 2 years\n",
    "- `MntMeatProducts` - amount spent on meat products in the last 2 years\n",
    "- `MntFruits` - amount spent on fruits products in the last 2 years\n",
    "- `MntSweetProducts` - amount spent on sweet products in the last 2 years\n",
    "- `MntWines` - amount spent on wine products in the last 2 years\n",
    "- `MntGoldProds` - amount spent on gold products in the last 2 years\n",
    "\n",
    "**Number of Purchases per Type**\n",
    "\n",
    "- `NumDealsPurchases` - number of purchases made with discount\n",
    "- `NumCatalogPurchases` - number of purchases made using catalogue\n",
    "- `NumStorePurchases` - number of purchases made directly in stores\n",
    "- `NumWebPurchases` - number of purchases made through company’s web site\n",
    "- `NumWebVisitsMonth` - number of visits to company’s web site in the last month\n",
    "\n",
    "**Cost and Revenue**\n",
    "\n",
    "- `Z_CostContact = 3` (Cost to contact a customer)\n",
    "- `Z_Revenue = 11` (Revenue after client accepting campaign)\n"
   ]
  },
  {
   "cell_type": "markdown",
   "id": "153f8f3a-90e0-4c78-9cdb-092c71171fd5",
   "metadata": {},
   "source": [
    "## **💉 Import Libraries 💉**"
   ]
  },
  {
   "cell_type": "code",
   "execution_count": 1,
   "id": "2a85f4a5-a9cb-4353-8009-1da99257605d",
   "metadata": {},
   "outputs": [],
   "source": [
    "import pandas as pd\n",
    "import numpy as np\n",
    "import matplotlib.pyplot as plt\n",
    "import seaborn as sns\n",
    "import math\n",
    "\n",
    "from datetime import datetime\n",
    "\n",
    "from scipy.stats import skew\n",
    "from scipy.stats import kurtosis\n",
    "\n",
    "# Ignores any warning\n",
    "import warnings \n",
    "warnings.filterwarnings(\"ignore\")\n",
    "\n",
    "sns.set(rc={'figure.figsize':(15, 8)})\n",
    "sns.set_style(\"whitegrid\")\n",
    "\n",
    "pd.set_option('display.max_columns', None)\n",
    "pd.set_option('display.max_rows', None)\n",
    "pd.options.display.float_format = lambda x : '{:.0f}'.format(x) if round(x,0) == x else '{:.3f}'.format(x)\n",
    "\n",
    "# from matplotlib import rcParams\n",
    "# rcParams['figure.figsize'] = 12, 4\n",
    "# rcParams['lines.linewidth'] = 3\n",
    "# rcParams['xtick.labelsize'] = 'x-large'\n",
    "# rcParams['ytick.labelsize'] = 'x-large'\n",
    "\n",
    "import matplotlib as mp\n",
    "%matplotlib inline\n",
    "import textwrap\n",
    "import matplotlib.ticker as mticker\n",
    "import matplotlib.patches as mpatches\n",
    "import matplotlib.gridspec as gridspec\n",
    "from matplotlib.colors import LinearSegmentedColormap"
   ]
  },
  {
   "cell_type": "markdown",
   "id": "2d776163-f151-4b36-97f6-4a250affd4c1",
   "metadata": {},
   "source": [
    "## **📚 Import Dataset 📚**"
   ]
  },
  {
   "cell_type": "code",
   "execution_count": 2,
   "id": "ec5f5df0-68f2-4e56-8159-6425fef1c867",
   "metadata": {},
   "outputs": [
    {
     "data": {
      "text/html": [
       "<div>\n",
       "<style scoped>\n",
       "    .dataframe tbody tr th:only-of-type {\n",
       "        vertical-align: middle;\n",
       "    }\n",
       "\n",
       "    .dataframe tbody tr th {\n",
       "        vertical-align: top;\n",
       "    }\n",
       "\n",
       "    .dataframe thead th {\n",
       "        text-align: right;\n",
       "    }\n",
       "</style>\n",
       "<table border=\"1\" class=\"dataframe\">\n",
       "  <thead>\n",
       "    <tr style=\"text-align: right;\">\n",
       "      <th></th>\n",
       "      <th>ID</th>\n",
       "      <th>Year_Birth</th>\n",
       "      <th>Education</th>\n",
       "      <th>Marital_Status</th>\n",
       "      <th>Income</th>\n",
       "      <th>Kidhome</th>\n",
       "      <th>Teenhome</th>\n",
       "      <th>Dt_Customer</th>\n",
       "      <th>Recency</th>\n",
       "      <th>MntWines</th>\n",
       "      <th>MntFruits</th>\n",
       "      <th>MntMeatProducts</th>\n",
       "      <th>MntFishProducts</th>\n",
       "      <th>MntSweetProducts</th>\n",
       "      <th>MntGoldProds</th>\n",
       "      <th>NumDealsPurchases</th>\n",
       "      <th>NumWebPurchases</th>\n",
       "      <th>NumCatalogPurchases</th>\n",
       "      <th>NumStorePurchases</th>\n",
       "      <th>NumWebVisitsMonth</th>\n",
       "      <th>AcceptedCmp3</th>\n",
       "      <th>AcceptedCmp4</th>\n",
       "      <th>AcceptedCmp5</th>\n",
       "      <th>AcceptedCmp1</th>\n",
       "      <th>AcceptedCmp2</th>\n",
       "      <th>Complain</th>\n",
       "      <th>Z_CostContact</th>\n",
       "      <th>Z_Revenue</th>\n",
       "      <th>Response</th>\n",
       "    </tr>\n",
       "  </thead>\n",
       "  <tbody>\n",
       "    <tr>\n",
       "      <th>0</th>\n",
       "      <td>5524</td>\n",
       "      <td>1957</td>\n",
       "      <td>Graduation</td>\n",
       "      <td>Single</td>\n",
       "      <td>58138</td>\n",
       "      <td>0</td>\n",
       "      <td>0</td>\n",
       "      <td>2012-09-04</td>\n",
       "      <td>58</td>\n",
       "      <td>635</td>\n",
       "      <td>88</td>\n",
       "      <td>546</td>\n",
       "      <td>172</td>\n",
       "      <td>88</td>\n",
       "      <td>88</td>\n",
       "      <td>3</td>\n",
       "      <td>8</td>\n",
       "      <td>10</td>\n",
       "      <td>4</td>\n",
       "      <td>7</td>\n",
       "      <td>0</td>\n",
       "      <td>0</td>\n",
       "      <td>0</td>\n",
       "      <td>0</td>\n",
       "      <td>0</td>\n",
       "      <td>0</td>\n",
       "      <td>3</td>\n",
       "      <td>11</td>\n",
       "      <td>1</td>\n",
       "    </tr>\n",
       "    <tr>\n",
       "      <th>1</th>\n",
       "      <td>2174</td>\n",
       "      <td>1954</td>\n",
       "      <td>Graduation</td>\n",
       "      <td>Single</td>\n",
       "      <td>46344</td>\n",
       "      <td>1</td>\n",
       "      <td>1</td>\n",
       "      <td>2014-03-08</td>\n",
       "      <td>38</td>\n",
       "      <td>11</td>\n",
       "      <td>1</td>\n",
       "      <td>6</td>\n",
       "      <td>2</td>\n",
       "      <td>1</td>\n",
       "      <td>6</td>\n",
       "      <td>2</td>\n",
       "      <td>1</td>\n",
       "      <td>1</td>\n",
       "      <td>2</td>\n",
       "      <td>5</td>\n",
       "      <td>0</td>\n",
       "      <td>0</td>\n",
       "      <td>0</td>\n",
       "      <td>0</td>\n",
       "      <td>0</td>\n",
       "      <td>0</td>\n",
       "      <td>3</td>\n",
       "      <td>11</td>\n",
       "      <td>0</td>\n",
       "    </tr>\n",
       "    <tr>\n",
       "      <th>2</th>\n",
       "      <td>4141</td>\n",
       "      <td>1965</td>\n",
       "      <td>Graduation</td>\n",
       "      <td>Together</td>\n",
       "      <td>71613</td>\n",
       "      <td>0</td>\n",
       "      <td>0</td>\n",
       "      <td>2013-08-21</td>\n",
       "      <td>26</td>\n",
       "      <td>426</td>\n",
       "      <td>49</td>\n",
       "      <td>127</td>\n",
       "      <td>111</td>\n",
       "      <td>21</td>\n",
       "      <td>42</td>\n",
       "      <td>1</td>\n",
       "      <td>8</td>\n",
       "      <td>2</td>\n",
       "      <td>10</td>\n",
       "      <td>4</td>\n",
       "      <td>0</td>\n",
       "      <td>0</td>\n",
       "      <td>0</td>\n",
       "      <td>0</td>\n",
       "      <td>0</td>\n",
       "      <td>0</td>\n",
       "      <td>3</td>\n",
       "      <td>11</td>\n",
       "      <td>0</td>\n",
       "    </tr>\n",
       "    <tr>\n",
       "      <th>3</th>\n",
       "      <td>6182</td>\n",
       "      <td>1984</td>\n",
       "      <td>Graduation</td>\n",
       "      <td>Together</td>\n",
       "      <td>26646</td>\n",
       "      <td>1</td>\n",
       "      <td>0</td>\n",
       "      <td>2014-02-10</td>\n",
       "      <td>26</td>\n",
       "      <td>11</td>\n",
       "      <td>4</td>\n",
       "      <td>20</td>\n",
       "      <td>10</td>\n",
       "      <td>3</td>\n",
       "      <td>5</td>\n",
       "      <td>2</td>\n",
       "      <td>2</td>\n",
       "      <td>0</td>\n",
       "      <td>4</td>\n",
       "      <td>6</td>\n",
       "      <td>0</td>\n",
       "      <td>0</td>\n",
       "      <td>0</td>\n",
       "      <td>0</td>\n",
       "      <td>0</td>\n",
       "      <td>0</td>\n",
       "      <td>3</td>\n",
       "      <td>11</td>\n",
       "      <td>0</td>\n",
       "    </tr>\n",
       "    <tr>\n",
       "      <th>4</th>\n",
       "      <td>5324</td>\n",
       "      <td>1981</td>\n",
       "      <td>PhD</td>\n",
       "      <td>Married</td>\n",
       "      <td>58293</td>\n",
       "      <td>1</td>\n",
       "      <td>0</td>\n",
       "      <td>2014-01-19</td>\n",
       "      <td>94</td>\n",
       "      <td>173</td>\n",
       "      <td>43</td>\n",
       "      <td>118</td>\n",
       "      <td>46</td>\n",
       "      <td>27</td>\n",
       "      <td>15</td>\n",
       "      <td>5</td>\n",
       "      <td>5</td>\n",
       "      <td>3</td>\n",
       "      <td>6</td>\n",
       "      <td>5</td>\n",
       "      <td>0</td>\n",
       "      <td>0</td>\n",
       "      <td>0</td>\n",
       "      <td>0</td>\n",
       "      <td>0</td>\n",
       "      <td>0</td>\n",
       "      <td>3</td>\n",
       "      <td>11</td>\n",
       "      <td>0</td>\n",
       "    </tr>\n",
       "  </tbody>\n",
       "</table>\n",
       "</div>"
      ],
      "text/plain": [
       "     ID  Year_Birth   Education Marital_Status  Income  Kidhome  Teenhome  \\\n",
       "0  5524        1957  Graduation         Single   58138        0         0   \n",
       "1  2174        1954  Graduation         Single   46344        1         1   \n",
       "2  4141        1965  Graduation       Together   71613        0         0   \n",
       "3  6182        1984  Graduation       Together   26646        1         0   \n",
       "4  5324        1981         PhD        Married   58293        1         0   \n",
       "\n",
       "  Dt_Customer  Recency  MntWines  MntFruits  MntMeatProducts  MntFishProducts  \\\n",
       "0  2012-09-04       58       635         88              546              172   \n",
       "1  2014-03-08       38        11          1                6                2   \n",
       "2  2013-08-21       26       426         49              127              111   \n",
       "3  2014-02-10       26        11          4               20               10   \n",
       "4  2014-01-19       94       173         43              118               46   \n",
       "\n",
       "   MntSweetProducts  MntGoldProds  NumDealsPurchases  NumWebPurchases  \\\n",
       "0                88            88                  3                8   \n",
       "1                 1             6                  2                1   \n",
       "2                21            42                  1                8   \n",
       "3                 3             5                  2                2   \n",
       "4                27            15                  5                5   \n",
       "\n",
       "   NumCatalogPurchases  NumStorePurchases  NumWebVisitsMonth  AcceptedCmp3  \\\n",
       "0                   10                  4                  7             0   \n",
       "1                    1                  2                  5             0   \n",
       "2                    2                 10                  4             0   \n",
       "3                    0                  4                  6             0   \n",
       "4                    3                  6                  5             0   \n",
       "\n",
       "   AcceptedCmp4  AcceptedCmp5  AcceptedCmp1  AcceptedCmp2  Complain  \\\n",
       "0             0             0             0             0         0   \n",
       "1             0             0             0             0         0   \n",
       "2             0             0             0             0         0   \n",
       "3             0             0             0             0         0   \n",
       "4             0             0             0             0         0   \n",
       "\n",
       "   Z_CostContact  Z_Revenue  Response  \n",
       "0              3         11         1  \n",
       "1              3         11         0  \n",
       "2              3         11         0  \n",
       "3              3         11         0  \n",
       "4              3         11         0  "
      ]
     },
     "execution_count": 2,
     "metadata": {},
     "output_type": "execute_result"
    }
   ],
   "source": [
    "# missing_values = ['n/a', 'na', 'nan', '-', '--', 'null', 'Null', ' ', '-1', -1]\n",
    "# source = 'https://raw.githubusercontent.com/nurimammasri/Marketing-Campaign-Model-Prediction-by-Datalicious/main/data/marketing_campaign.csv'\n",
    "source = 'data/marketing_campaign.csv'\n",
    "# df = pd.read_csv(source, na_values = missing_values)\n",
    "df = pd.read_csv(source, sep=\";\")\n",
    "df.head()"
   ]
  },
  {
   "cell_type": "markdown",
   "id": "b2778f90-1e48-4563-92af-7d5323969015",
   "metadata": {},
   "source": [
    "# **💡 Data Understanding 💡**"
   ]
  },
  {
   "cell_type": "markdown",
   "id": "d46b323a-00be-4b7f-92b2-b06327ef9868",
   "metadata": {},
   "source": [
    "## **📌 Explore Datasets**"
   ]
  },
  {
   "cell_type": "markdown",
   "id": "2a51bae6-a1ed-44de-a700-8b035990363a",
   "metadata": {},
   "source": [
    "### **Basic Datasets Information**"
   ]
  },
  {
   "cell_type": "code",
   "execution_count": 3,
   "id": "3d0318dc-bd0c-4b3d-8e8f-13cc6b367512",
   "metadata": {},
   "outputs": [
    {
     "name": "stdout",
     "output_type": "stream",
     "text": [
      "Shape of data : (2240, 29)\n",
      "Number of rows : 2240\n",
      "Number of columns : 29\n"
     ]
    }
   ],
   "source": [
    "print(\"Shape of data :\", df.shape)\n",
    "print(\"Number of rows :\", df.shape[0])\n",
    "print(\"Number of columns :\", df.shape[1])"
   ]
  },
  {
   "cell_type": "code",
   "execution_count": 4,
   "id": "4b9ae792-60d0-4bbd-aa8b-81249319be0e",
   "metadata": {},
   "outputs": [
    {
     "data": {
      "text/plain": [
       "Index(['ID', 'Year_Birth', 'Education', 'Marital_Status', 'Income', 'Kidhome',\n",
       "       'Teenhome', 'Dt_Customer', 'Recency', 'MntWines', 'MntFruits',\n",
       "       'MntMeatProducts', 'MntFishProducts', 'MntSweetProducts',\n",
       "       'MntGoldProds', 'NumDealsPurchases', 'NumWebPurchases',\n",
       "       'NumCatalogPurchases', 'NumStorePurchases', 'NumWebVisitsMonth',\n",
       "       'AcceptedCmp3', 'AcceptedCmp4', 'AcceptedCmp5', 'AcceptedCmp1',\n",
       "       'AcceptedCmp2', 'Complain', 'Z_CostContact', 'Z_Revenue', 'Response'],\n",
       "      dtype='object')"
      ]
     },
     "execution_count": 4,
     "metadata": {},
     "output_type": "execute_result"
    }
   ],
   "source": [
    "df.columns"
   ]
  },
  {
   "cell_type": "code",
   "execution_count": 5,
   "id": "bf561f23-0f73-4a29-b7f6-a0d6ee259320",
   "metadata": {},
   "outputs": [
    {
     "name": "stdout",
     "output_type": "stream",
     "text": [
      "<class 'pandas.core.frame.DataFrame'>\n",
      "RangeIndex: 2240 entries, 0 to 2239\n",
      "Data columns (total 29 columns):\n",
      " #   Column               Non-Null Count  Dtype  \n",
      "---  ------               --------------  -----  \n",
      " 0   ID                   2240 non-null   int64  \n",
      " 1   Year_Birth           2240 non-null   int64  \n",
      " 2   Education            2240 non-null   object \n",
      " 3   Marital_Status       2240 non-null   object \n",
      " 4   Income               2216 non-null   float64\n",
      " 5   Kidhome              2240 non-null   int64  \n",
      " 6   Teenhome             2240 non-null   int64  \n",
      " 7   Dt_Customer          2240 non-null   object \n",
      " 8   Recency              2240 non-null   int64  \n",
      " 9   MntWines             2240 non-null   int64  \n",
      " 10  MntFruits            2240 non-null   int64  \n",
      " 11  MntMeatProducts      2240 non-null   int64  \n",
      " 12  MntFishProducts      2240 non-null   int64  \n",
      " 13  MntSweetProducts     2240 non-null   int64  \n",
      " 14  MntGoldProds         2240 non-null   int64  \n",
      " 15  NumDealsPurchases    2240 non-null   int64  \n",
      " 16  NumWebPurchases      2240 non-null   int64  \n",
      " 17  NumCatalogPurchases  2240 non-null   int64  \n",
      " 18  NumStorePurchases    2240 non-null   int64  \n",
      " 19  NumWebVisitsMonth    2240 non-null   int64  \n",
      " 20  AcceptedCmp3         2240 non-null   int64  \n",
      " 21  AcceptedCmp4         2240 non-null   int64  \n",
      " 22  AcceptedCmp5         2240 non-null   int64  \n",
      " 23  AcceptedCmp1         2240 non-null   int64  \n",
      " 24  AcceptedCmp2         2240 non-null   int64  \n",
      " 25  Complain             2240 non-null   int64  \n",
      " 26  Z_CostContact        2240 non-null   int64  \n",
      " 27  Z_Revenue            2240 non-null   int64  \n",
      " 28  Response             2240 non-null   int64  \n",
      "dtypes: float64(1), int64(25), object(3)\n",
      "memory usage: 507.6+ KB\n"
     ]
    }
   ],
   "source": [
    "# get the info of each columns\n",
    "df.info()"
   ]
  },
  {
   "cell_type": "markdown",
   "id": "7f57302d-ca57-4758-ad99-2452c7cc001f",
   "metadata": {},
   "source": [
    "**Observations:**\n",
    "\n",
    "- Dataset memiliki `29 columns` dan `2240 rows` data\n",
    "- Terdapat 3 jenis tipe data yaitu : `int64, object, float64`\n",
    "- Kolom `Income` memiliki 2216 nilai non-null, dan `24 nilai null / missing values`\n",
    "\n",
    "\n",
    "**Hal yang harus dilakukan saat Data Pre-Processing adalah:**\n",
    "\n",
    "- Karena data yang dimiliki tidak terlalu banyak, sehingga untuk `Missing Values` pada `Income` akan dilakukan `Imputation` pada tahap Data Preprocessingnya :\n",
    "    - Imputation (Median), karena Highly Positively Skewed\n",
    "    - Multivariate Approach (MICE Imputation, KNN Imputer, dll)"
   ]
  },
  {
   "cell_type": "markdown",
   "id": "34e0620b-c138-419a-8b6c-eeb637c0bc45",
   "metadata": {},
   "source": [
    "### **Checking Duplicate Rows**"
   ]
  },
  {
   "cell_type": "code",
   "execution_count": 6,
   "id": "518e5d0f-d9f4-4f7f-bc51-1faa51b3c12a",
   "metadata": {},
   "outputs": [
    {
     "data": {
      "text/html": [
       "<div>\n",
       "<style scoped>\n",
       "    .dataframe tbody tr th:only-of-type {\n",
       "        vertical-align: middle;\n",
       "    }\n",
       "\n",
       "    .dataframe tbody tr th {\n",
       "        vertical-align: top;\n",
       "    }\n",
       "\n",
       "    .dataframe thead th {\n",
       "        text-align: right;\n",
       "    }\n",
       "</style>\n",
       "<table border=\"1\" class=\"dataframe\">\n",
       "  <thead>\n",
       "    <tr style=\"text-align: right;\">\n",
       "      <th></th>\n",
       "      <th>ID</th>\n",
       "      <th>Year_Birth</th>\n",
       "      <th>Education</th>\n",
       "      <th>Marital_Status</th>\n",
       "      <th>Income</th>\n",
       "      <th>Kidhome</th>\n",
       "      <th>Teenhome</th>\n",
       "      <th>Dt_Customer</th>\n",
       "      <th>Recency</th>\n",
       "      <th>MntWines</th>\n",
       "      <th>MntFruits</th>\n",
       "      <th>MntMeatProducts</th>\n",
       "      <th>MntFishProducts</th>\n",
       "      <th>MntSweetProducts</th>\n",
       "      <th>MntGoldProds</th>\n",
       "      <th>NumDealsPurchases</th>\n",
       "      <th>NumWebPurchases</th>\n",
       "      <th>NumCatalogPurchases</th>\n",
       "      <th>NumStorePurchases</th>\n",
       "      <th>NumWebVisitsMonth</th>\n",
       "      <th>AcceptedCmp3</th>\n",
       "      <th>AcceptedCmp4</th>\n",
       "      <th>AcceptedCmp5</th>\n",
       "      <th>AcceptedCmp1</th>\n",
       "      <th>AcceptedCmp2</th>\n",
       "      <th>Complain</th>\n",
       "      <th>Z_CostContact</th>\n",
       "      <th>Z_Revenue</th>\n",
       "      <th>Response</th>\n",
       "    </tr>\n",
       "  </thead>\n",
       "  <tbody>\n",
       "  </tbody>\n",
       "</table>\n",
       "</div>"
      ],
      "text/plain": [
       "Empty DataFrame\n",
       "Columns: [ID, Year_Birth, Education, Marital_Status, Income, Kidhome, Teenhome, Dt_Customer, Recency, MntWines, MntFruits, MntMeatProducts, MntFishProducts, MntSweetProducts, MntGoldProds, NumDealsPurchases, NumWebPurchases, NumCatalogPurchases, NumStorePurchases, NumWebVisitsMonth, AcceptedCmp3, AcceptedCmp4, AcceptedCmp5, AcceptedCmp1, AcceptedCmp2, Complain, Z_CostContact, Z_Revenue, Response]\n",
       "Index: []"
      ]
     },
     "execution_count": 6,
     "metadata": {},
     "output_type": "execute_result"
    }
   ],
   "source": [
    "df[df.duplicated(keep=False)].sort_values(by=list(df.columns.values))"
   ]
  },
  {
   "cell_type": "code",
   "execution_count": 7,
   "id": "73dc2b83-4d8d-4e74-9c79-66b5d649c746",
   "metadata": {},
   "outputs": [
    {
     "data": {
      "text/plain": [
       "0"
      ]
     },
     "execution_count": 7,
     "metadata": {},
     "output_type": "execute_result"
    }
   ],
   "source": [
    "df.duplicated().sum()"
   ]
  },
  {
   "cell_type": "markdown",
   "id": "66896db2-d75c-427c-abf6-5c6fb4e9a2d2",
   "metadata": {},
   "source": [
    "**Observations:** Data yang kita miliki tidak memiliki duplikat"
   ]
  },
  {
   "cell_type": "markdown",
   "id": "5140c44b-dd66-4b29-b333-32a0da36e1c3",
   "metadata": {},
   "source": [
    "### **Checking Missing Values**"
   ]
  },
  {
   "cell_type": "code",
   "execution_count": 8,
   "id": "c3101378-24ca-4604-9404-ad1f8fa5c037",
   "metadata": {},
   "outputs": [
    {
     "data": {
      "text/plain": [
       "ID                      0\n",
       "Year_Birth              0\n",
       "Education               0\n",
       "Marital_Status          0\n",
       "Income                 24\n",
       "Kidhome                 0\n",
       "Teenhome                0\n",
       "Dt_Customer             0\n",
       "Recency                 0\n",
       "MntWines                0\n",
       "MntFruits               0\n",
       "MntMeatProducts         0\n",
       "MntFishProducts         0\n",
       "MntSweetProducts        0\n",
       "MntGoldProds            0\n",
       "NumDealsPurchases       0\n",
       "NumWebPurchases         0\n",
       "NumCatalogPurchases     0\n",
       "NumStorePurchases       0\n",
       "NumWebVisitsMonth       0\n",
       "AcceptedCmp3            0\n",
       "AcceptedCmp4            0\n",
       "AcceptedCmp5            0\n",
       "AcceptedCmp1            0\n",
       "AcceptedCmp2            0\n",
       "Complain                0\n",
       "Z_CostContact           0\n",
       "Z_Revenue               0\n",
       "Response                0\n",
       "dtype: int64"
      ]
     },
     "execution_count": 8,
     "metadata": {},
     "output_type": "execute_result"
    }
   ],
   "source": [
    "# jumlah entry NULL di setiap kolom\n",
    "df.isna().sum()"
   ]
  },
  {
   "cell_type": "code",
   "execution_count": 9,
   "id": "58a947cd-494e-4109-82c3-a39753a04479",
   "metadata": {},
   "outputs": [
    {
     "name": "stdout",
     "output_type": "stream",
     "text": [
      "Missing values status: True\n",
      "                     Total Null Values  Percentage Data Type\n",
      "Income                              24       1.071     int64\n",
      "ID                                   0           0     int64\n",
      "Z_CostContact                        0           0     int64\n",
      "Complain                             0           0    object\n",
      "AcceptedCmp2                         0           0    object\n",
      "AcceptedCmp1                         0           0   float64\n",
      "AcceptedCmp5                         0           0     int64\n",
      "AcceptedCmp4                         0           0     int64\n",
      "AcceptedCmp3                         0           0    object\n",
      "NumWebVisitsMonth                    0           0     int64\n",
      "NumStorePurchases                    0           0     int64\n",
      "NumCatalogPurchases                  0           0     int64\n",
      "NumWebPurchases                      0           0     int64\n",
      "NumDealsPurchases                    0           0     int64\n",
      "Z_Revenue                            0           0     int64\n",
      "MntGoldProds                         0           0     int64\n",
      "MntFishProducts                      0           0     int64\n",
      "MntMeatProducts                      0           0     int64\n",
      "MntFruits                            0           0     int64\n",
      "MntWines                             0           0     int64\n",
      "Recency                              0           0     int64\n",
      "Dt_Customer                          0           0     int64\n",
      "Teenhome                             0           0     int64\n",
      "Kidhome                              0           0     int64\n",
      "Marital_Status                       0           0     int64\n",
      "Education                            0           0     int64\n",
      "Year_Birth                           0           0     int64\n",
      "MntSweetProducts                     0           0     int64\n",
      "Response                             0           0     int64\n"
     ]
    }
   ],
   "source": [
    "print('Missing values status:', df.isnull().values.any())\n",
    "nvc = pd.DataFrame(df.isnull().sum().sort_values(), columns=['Total Null Values'])\n",
    "nvc['Percentage'] = (nvc['Total Null Values']/df.shape[0])*100\n",
    "nvc[\"Data Type\"] = [df[col].dtype for col in df.columns]\n",
    "nvc.sort_values(by=[\"Total Null Values\", \"Percentage\"], ascending=False, inplace=True)\n",
    "print(nvc)"
   ]
  },
  {
   "cell_type": "code",
   "execution_count": 10,
   "id": "f6376d9b-aeb9-4fa8-b7bc-bbc360b4a6c1",
   "metadata": {},
   "outputs": [
    {
     "name": "stdout",
     "output_type": "stream",
     "text": [
      "Income = True - ['nan']\n"
     ]
    }
   ],
   "source": [
    "missing_values = ['n/a', 'na', 'nan', '-', '--', 'null', 'Null', '', ' ', '-1', -1]\n",
    "for i in df.columns:\n",
    "    dmmy_col = df[i].apply(lambda x : str(x).strip())\n",
    "    isnan = dmmy_col.isin(missing_values).any()\n",
    "    miss = np.unique(dmmy_col[dmmy_col.isin(missing_values)].values)\n",
    "    if isnan :\n",
    "        print(\"{} = {} - {}\".format(i, isnan, miss))"
   ]
  },
  {
   "cell_type": "code",
   "execution_count": 11,
   "id": "82d7f3df-05f7-48b2-9609-2b2c604a77c6",
   "metadata": {},
   "outputs": [
    {
     "data": {
      "text/plain": [
       "<seaborn.axisgrid.FacetGrid at 0x1de0e0ffd60>"
      ]
     },
     "execution_count": 11,
     "metadata": {},
     "output_type": "execute_result"
    },
    {
     "data": {
      "text/plain": [
       "<Figure size 1000x600 with 0 Axes>"
      ]
     },
     "metadata": {},
     "output_type": "display_data"
    },
    {
     "data": {
      "image/png": "[encoded data removed]",
      "text/plain": [
       "<Figure size 717.5x500 with 1 Axes>"
      ]
     },
     "metadata": {},
     "output_type": "display_data"
    }
   ],
   "source": [
    "plt.figure(figsize=(10,6))\n",
    "\n",
    "dms = sns.displot(\n",
    "    data=df.isna().melt(value_name=\"missing\"),\n",
    "    y=\"variable\",\n",
    "    hue=\"missing\",\n",
    "    multiple=\"fill\",\n",
    "    aspect=1.25,\n",
    "    palette = [\"green\",\"red\"]\n",
    ")\n",
    "\n",
    "dms.set_yticklabels(size = 6)"
   ]
  },
  {
   "cell_type": "markdown",
   "id": "4b9e5012-c707-4ab0-b5dc-f3769977b24d",
   "metadata": {},
   "source": [
    "**Observations:**\n",
    "- Kolom `Income` memiliki `24 nilai null / missing values`, persentase sebesar 1.07% dari jumlah data \n",
    "\n",
    "**Hal yang harus dilakukan saat Data Pre-Processing adalah:**\n",
    "\n",
    "- Karena data yang dimiliki tidak terlalu banyak, sehingga untuk `Missing Values` pada `Income` akan dilakukan `Imputation` pada tahap Data Preprocessingnya :\n",
    "    - Imputation (Median), karena Highly Positively Skewed\n",
    "    - Multivariate Approach (MICE Imputation, KNN Imputer, dll)"
   ]
  }
 ],
 "metadata": {
  "kernelspec": {
   "display_name": "Python 3 (ipykernel)",
   "language": "python",
   "name": "python3"
  },
  "language_info": {
   "codemirror_mode": {
    "name": "ipython",
    "version": 3
   },
   "file_extension": ".py",
   "mimetype": "text/x-python",
   "name": "python",
   "nbconvert_exporter": "python",
   "pygments_lexer": "ipython3",
   "version": "3.10.9"
  }
 },
 "nbformat": 4,
 "nbformat_minor": 5
}
